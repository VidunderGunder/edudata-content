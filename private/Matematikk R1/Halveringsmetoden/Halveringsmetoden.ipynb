{
 "cells": [
  {
   "cell_type": "markdown",
   "metadata": {},
   "source": [
    "# Halveringsmetoden"
   ]
  },
  {
   "cell_type": "markdown",
   "metadata": {
    "slideshow": {
     "slide_type": "slide"
    }
   },
   "source": [
    "<div class=\"alert alert-block alert-danger\">\n",
    "    \n",
    "### Info til lærer\n",
    "    \n",
    "Dette er et opplegg der elevene skal lære halveringsmetoden. Opplegget er rimelig detaljert, men flere deler av det kan gjenomføres på andre måter som klasseromsdiskusjon, visning, gruppediskusjoner, osv. Grunnen til at det er detaljert er at det gir forslag til gjennomføring. Før opplegget gjennomføres er det fint hvis elevene kan litt om plotting av funksjoner, og har vært gjennom hvordan man finner nullpunkt til ulike funksjoner (se oppgave XX). Del gjerne elevene inn i grupper på 3-4."
   ]
  },
  {
   "cell_type": "markdown",
   "metadata": {},
   "source": [
    "<div class=\"alert alert-block alert-warning\">\n",
    "\n",
    "### Kompetansemål i R1    \n",
    "    \n",
    "Mål for opplæringen er at eleven skal kunne\n",
    "\n",
    "- forstå begrepene vekstfart, grenseverdi, derivasjon og kontinuitet, og bruke disse for å løse praktiske problemer\n",
    "- utforske, analysere og derivere ulike funksjoner og deres omvendte funksjoner, og gjøre rede for egenskaper til og sammenhenger mellom slike funksjoner\n",
    "\n",
    "</div>"
   ]
  },
  {
   "cell_type": "markdown",
   "metadata": {},
   "source": [
    "## Nullpunkter\n",
    "\n",
    "For å finne nullpunktet til en funksjon har vi hittil lært en del metoder for dette. Ulempen er at metoden ikke alltid den samme."
   ]
  },
  {
   "cell_type": "markdown",
   "metadata": {},
   "source": [
    "<div class=\"alert alert-block alert-info\">\n",
    "    \n",
    "#### Oppgave 1\n",
    "\n",
    "Diskuter med gruppen hvordan man finner nullpunktet til de ulike funksjonstypene under\n",
    "\n",
    "<br>    \n",
    "    \n",
    "a) Andregradsfunksjoner, for eksempel:\n",
    "\n",
    "$$f(x) = 2x^2 + 3x - 2$$\n",
    "<br>    \n",
    "b) Tredjegradsfunksjoner, for eksempel:\n",
    "\n",
    "$$g(x) = x^3 + 3x - 4$$\n",
    "<br>    \n",
    "c) Rasjonale funksjoner, for eksempel:\n",
    "\n",
    "$$h(x) = \\frac{2x+3}{3-x}$$\n",
    "<br>    \n",
    "d) Eksponentialfunksjoner, for eksempel:\n",
    "\n",
    "$$i(x) = e^{2x+1}-1$$"
   ]
  },
  {
   "cell_type": "markdown",
   "metadata": {},
   "source": [
    "Det er finnes flere funksjonstyper med tilhørende metoder for å finne nullpunktene, men metodene vi bruker varierer fra funksjonstype til funksjonstype. Vi skal her undersøke om vi kan finne én metode som kan benyttes på mange funksjoner som mulig, inkludert alle i oppgave 1. For å klare det må vi først undersøke hvilke egenskaper et nullpunkt har, se oppgave 2."
   ]
  },
  {
   "attachments": {
    "Halveringsmetode_graf01.png": {
     "image/png": "[encoded data removed]"
    }
   },
   "cell_type": "markdown",
   "metadata": {},
   "source": [
    "<div class=\"alert alert-block alert-info\">\n",
    "    \n",
    "#### Oppgave 2\n",
    "\n",
    "a) Diskuter med gruppen hvilke egenskaper alle nullpunkt har, og om det er noen egenskaper som kun noen nullpunkter har.\n",
    "\n",
    "<br>\n",
    "\n",
    "b) Tenk dere en maskin som for enhver $x$-verdi du skriver inn vil gi deg en funksjonsverdi ($y$-verdi) til en ukjent funksjon tilbake. Hvordan kan du systematisk bruke denne maskinen til å finne *nullpunktet* til den ukjente funksjonen? Diskuter med gruppen. Klarer dere å lage en strategi?\n",
    "<br>\n",
    "\n",
    "Merk: Dere kan bruke figuren under som hjelp til å lage en strategi. Hvordan kan dere finne nullpunktet til denne funksjonen ved hjelp av maskinen? \n",
    "    \n",
    "![Halveringsmetode_graf01.png](attachment:Halveringsmetode_graf01.png)"
   ]
  },
  {
   "cell_type": "markdown",
   "metadata": {
    "slideshow": {
     "slide_type": "slide"
    }
   },
   "source": [
    "<div class=\"alert alert-block alert-danger\">\n",
    "    \n",
    "### Info til lærer\n",
    "    \n",
    "Her har læreren kopiert opp en del grafen på et ark der nullpunktet er markert med en rimelig høy nøyaktighet (3-4 desimaler). Se XXX for eksempel på grafer. "
   ]
  },
  {
   "cell_type": "markdown",
   "metadata": {},
   "source": [
    "<div class=\"alert alert-block alert-info\">\n",
    "    \n",
    "#### Oppgave 3\n",
    "\n",
    "I hver gruppe bestemmer dere en som skal være maskinen fra oppgave 2. Maskineleven går opp og henter en bunke med grafer fra læreren som ikke skal vises til noen av de andre i gruppen, og velger en av grafene. Så skal resten av gruppen forsøke å finne nullpunktet slik:\n",
    "1. Gruppen gir maskineleven en $x$-verdi.\n",
    "2. Maskineleven gir tilbake den tilhørende funksjonsverdien.\n",
    "\n",
    "Gjenta dette til dere finner nullpunktet. <br><br>\n",
    "\n",
    "Diskuter underveis: Kan dere finne en effektiv metode for å finne nullpunktet?"
   ]
  },
  {
   "cell_type": "markdown",
   "metadata": {},
   "source": [
    "## Halveringsmetoden\n",
    "\n",
    "Hittil har vi sett på funksjoner som vi kunne funnet nullpunktet til ved kjente metoder, men det finnes også funksjoner der dette er vanskeligere. "
   ]
  },
  {
   "cell_type": "markdown",
   "metadata": {},
   "source": [
    "<div class=\"alert alert-block alert-info\">\n",
    "    \n",
    "#### Oppgave 4\n",
    "\n",
    "Fra eksamensettet i R1 høsten 2017 ble følgende funksjon gitt:\n",
    "    \n",
    "$$f(x) = 2\\ln{(x^4+4)}-\\frac{1}{2}x$$\n",
    "    \n",
    "Prøv å finne nullpunktene til $f$ uten å bruke digitale verktøy. Hvor nærme klarer dere å komme?"
   ]
  },
  {
   "cell_type": "markdown",
   "metadata": {},
   "source": [
    "Oppgaven over er vanskelig å løse fordi det ikke finnes en bestemt metode for å finne nullpunktet. Metoden GeoGebra eller andre digitale verktøy bruker for å løse denne typen funksjoner kalles en *numerisk* fremgangsmåte. Fremgangsmåten baserer seg på systematisk gjetting og innebærer at vi gir en startbetingelse for gjettene og deretter jobber programmet vårt inntil svaret er funnet eller har blitt nøyaktig nok. Vi skal her vise denne fremgangsmåten i flere steg."
   ]
  },
  {
   "cell_type": "markdown",
   "metadata": {},
   "source": [
    "## Tegne grafen\n",
    "\n",
    "For at det skal bli enklere å se hva som skjer starter vi med å tegne grafen fra oppgave 4 i et koordinatsystem. Husk at koden for den naturlige logaritmen i python er ```log()```. "
   ]
  },
  {
   "cell_type": "markdown",
   "metadata": {},
   "source": [
    "<div class=\"alert alert-block alert-info\">\n",
    "    \n",
    "#### Oppgave 5\n",
    "\n",
    "Lag en kode som skriver ut figuren under. En start er gitt i kodecellen under. \n",
    "\n",
    "<br>    \n",
    "    \n",
    "Eksempel på løsning er gitt under figuren, men prøv selv først."
   ]
  },
  {
   "cell_type": "code",
   "execution_count": null,
   "metadata": {},
   "outputs": [],
   "source": [
    "# Løs oppgave 5 her\n",
    "\n",
    "import numpy as np                       # Bibliotek for en del numeriske og matematiske funksjoner\n",
    "import matplotlib.pyplot as plt          # Bibliotek for plotting av graf\n",
    "\n",
    "x = np.linspace(-5, 80, 1000)            # Verdier for x\n",
    "\n"
   ]
  },
  {
   "attachments": {
    "Halveringsmetode_graf02.png": {
     "image/png": "[encoded data removed]"
    }
   },
   "cell_type": "markdown",
   "metadata": {},
   "source": [
    "![Halveringsmetode_graf02.png](attachment:Halveringsmetode_graf02.png)"
   ]
  },
  {
   "cell_type": "code",
   "execution_count": 2,
   "metadata": {},
   "outputs": [
    {
     "data": {
      "image/png": "[encoded data removed]",
      "text/plain": [
       "<Figure size 432x288 with 1 Axes>"
      ]
     },
     "metadata": {
      "needs_background": "light"
     },
     "output_type": "display_data"
    }
   ],
   "source": [
    "# Eksempelkode for løsning av oppgave 5\n",
    "\n",
    "import numpy as np                       # Bibliotek for en del numeriske og matematiske funksjoner\n",
    "import matplotlib.pyplot as plt          # Bibliotek for plotting av graf\n",
    "\n",
    "x = np.linspace(-5, 80, 1000)            # Verdier for x\n",
    "\n",
    "def f(x):                                # Funksjon som regner ut y-verdiene\n",
    "    y = 2*np.log(x**4 + 4) - 0.5*x\n",
    "    return y\n",
    "\n",
    "y = f(x)                                 # Kaller på funksjonen over\n",
    "\n",
    "plt.plot(x, y, 'g')                      # Plotter x og y\n",
    "plt.grid()                               # Tegner rutenett\n",
    "plt.ylim(-5, 15)                         # Intervallet langs y-aksen\n",
    "plt.xlabel('x')                          # Navn x-akse\n",
    "plt.ylabel('f(x)')                       # Navn y-akse\n",
    "plt.axhline(y=0, color='k')              # Tegner x-akse\n",
    "plt.axvline(x=0, color='k')              # Tegner y-akse\n",
    "plt.show()                               # Viser grafen"
   ]
  },
  {
   "cell_type": "markdown",
   "metadata": {},
   "source": [
    "## Starte leting etter nullpunkt\n",
    "\n",
    "Vi må først la programmet vite hvor det skal begynne å lete. Vi starter derfor med å spørre brukeren om hvor vi skal lete. Bruker her ```input()```-kommandoen. Siden intervallet alltid er et tall legger vi på kommandoen ```float()``` slik at programmet skjønner at det er et tall vi oppgir."
   ]
  },
  {
   "cell_type": "markdown",
   "metadata": {},
   "source": [
    "<div class=\"alert alert-block alert-info\">\n",
    "    \n",
    "#### Oppgave 6\n",
    "\n",
    "a) Hva trenger programmet å vite om hvor vi skal lete? Bruk figuren over til å diskutere med gruppen om hvilket område det er fornuftig å lete etter nullpunktet i.\n",
    "\n",
    "<br>    \n",
    "    \n",
    "b) Lag en kodebit som ber brukeren om å skrive inn dette området og som blir lagret i passende navngitte variabler. Bruk kodevinduet under."
   ]
  },
  {
   "cell_type": "code",
   "execution_count": null,
   "metadata": {},
   "outputs": [],
   "source": [
    "# Svar på oppgave 6b her\n",
    "\n"
   ]
  },
  {
   "cell_type": "markdown",
   "metadata": {
    "slideshow": {
     "slide_type": "slide"
    }
   },
   "source": [
    "<div class=\"alert alert-block alert-danger\">\n",
    "    \n",
    "### Info til lærer\n",
    "    \n",
    "Her kan man med fordel ta en diskusjon enten helklasse eller i grupper om hvorfor vi trenger en $x$-verdi på hver side av nullpunktet og hvorfor vi trenger de tilhørende funksjonsverdiene. Dette også for å sikre at alle er med på tanken bak halveringsmetoden. Diskusjonsdelen av oppgave 6 og/eller 7 kan da endres eller fjernes."
   ]
  },
  {
   "cell_type": "markdown",
   "metadata": {},
   "source": [
    "Vi trenger også å finne ut funksjonsverdien til de to $x$-verdiene som ble skrevet inn i forrige oppgave."
   ]
  },
  {
   "cell_type": "markdown",
   "metadata": {},
   "source": [
    "<div class=\"alert alert-block alert-info\">\n",
    "    \n",
    "#### Oppgave 7\n",
    "\n",
    "a) Hvorfor trenger vi også funksjonsverdiene? Hva er det de forteller oss om hvor nullpunktet befinner seg?\n",
    "\n",
    "<br>    \n",
    "    \n",
    "b) Lag en kodebit som finner funksjonsverdiene til de $x$-verdiene som brukeren skrev inn i oppgave 6b. Bruk kodevinduet under."
   ]
  },
  {
   "cell_type": "code",
   "execution_count": 4,
   "metadata": {},
   "outputs": [
    {
     "name": "stdout",
     "output_type": "stream",
     "text": [
      "x-verdi til venstre for nullpunkt: 60\n",
      "x-verdi til høyre for nullpunkt: 80\n"
     ]
    }
   ],
   "source": [
    "# Et forslag til løsning på oppgave 6b\n",
    "\n",
    "xv = float(input(\"x-verdi til venstre for nullpunkt: \"))\n",
    "xh = float(input(\"x-verdi til høyre for nullpunkt: \"))\n",
    "\n",
    "# Svar på oppgave 7b her\n",
    "\n"
   ]
  },
  {
   "cell_type": "markdown",
   "metadata": {},
   "source": [
    "Kan nå sjekke om programmet fungerer ved å teste for $x=60$ og $x=80$. Skal da få svaret:\n",
    "\n",
    "Venstre side: $f(60) = 2.754757115060663$\n",
    "\n",
    "Høyre side: $f(80) = -4.943786727296455$\n",
    "\n",
    "For å pynte litt på dette kan vi legge til kommandoen ```round()``` slik at vi får ønsket antall desimaler i svaret. Se løsningforslag under der hele koden vi har laget hittil er limt inn."
   ]
  },
  {
   "cell_type": "code",
   "execution_count": 11,
   "metadata": {},
   "outputs": [
    {
     "data": {
      "image/png": "[encoded data removed]",
      "text/plain": [
       "<Figure size 432x288 with 1 Axes>"
      ]
     },
     "metadata": {
      "needs_background": "light"
     },
     "output_type": "display_data"
    }
   ],
   "source": [
    "import numpy as np                       # Bibliotek for en del numeriske og matematiske funksjoner\n",
    "import matplotlib.pyplot as plt          # Bibliotek for plotting av graf\n",
    "\n",
    "x = np.linspace(-5, 80, 1000)            # Verdier for x\n",
    "\n",
    "def f(x):                                # Funksjon som regner ut y-verdiene\n",
    "    y = 2*np.log(x**4 + 4) - 0.5*x\n",
    "    return y\n",
    "\n",
    "y = f(x)                                 # Kaller på funksjonen over\n",
    "\n",
    "plt.plot(x, y, 'g')                      # Plotter x og y\n",
    "plt.grid()                               # Tegner rutenett\n",
    "plt.ylim(-5, 15)                         # Intervallet langs y-aksen\n",
    "plt.xlabel('x')                          # Navn x-akse\n",
    "plt.ylabel('f(x)')                       # Navn y-akse\n",
    "plt.axhline(y=0, color='k')              # Tegner x-akse\n",
    "plt.axvline(x=0, color='k')              # Tegner y-akse\n",
    "plt.show()                               # Viser grafen\n",
    "\n",
    "xv = float(input(\"x-verdi til venstre for nullpunkt: \"))\n",
    "xh = float(input(\"x-verdi til høyre for nullpunkt: \"))\n",
    "\n",
    "yv = f(xv)                               # Funksjonsverdien, venstre side\n",
    "yh = f(xh)                               # Funksjonsverdien, høyre side\n",
    "\n",
    "print()\n",
    "print(\"Venstre side: f(\", xv, \") =\", round(yv, 3))     # Runder av svaret til 3 desimaler\n",
    "print(\"Høyre side: f(\", xh, \") =\", round(yh, 3))"
   ]
  },
  {
   "cell_type": "markdown",
   "metadata": {},
   "source": [
    "<div class=\"alert alert-block alert-info\">\n",
    "    \n",
    "#### Oppgave 8\n",
    "\n",
    "Prøv programmet for funksjonene under (eller andre du vil prøve selv), og sjekk at fortegnet på funksjonsuttrykket er ulikt på hver side av nullpunktet    \n",
    "<br>\n",
    "    \n",
    "a) $f(x) = 5 - \\frac{1}{5}x$\n",
    "    \n",
    "<br>\n",
    "    \n",
    "b) $g(x) = 0{,}1x^2 - 4x + 20$\n",
    "    \n",
    "<br>\n",
    "    \n",
    "c) $h(x) = e^{0{,}1 x} - 4$ \n",
    "<br>\n",
    "Merk at kommandoen for $e$ er ```np.exp()```"
   ]
  },
  {
   "cell_type": "markdown",
   "metadata": {},
   "source": [
    "<div class=\"alert alert-block alert-success\">\n",
    "    \n",
    "#### Kodetips \n",
    "En god metode for å teste/endre et program uten å slette det man allerede har skrevet er å sette en `#` foran. Da vil ikke programmet lese den delen av koden. Når man vil tilbake kan man bare ta vekk `#` igjen. Man kan også markere teksten man vil skal kommenteres og trykke Ctrl + * (Dette er kun med norsk tastatur i Jupyter Notebook, andre editorer/tastaturer har andre hurtigkommandoer)"
   ]
  },
  {
   "cell_type": "markdown",
   "metadata": {},
   "source": [
    "## Finne midtpunktet (halveringslinjen)\n",
    "\n",
    "Etter å ha sjekket at $f(\\text{xv})$ og $f(\\text{xh})$ faktisk har forskjellig fortegn, sjekker vi funksjonsverdien til $x$-verdien i midten av intervallet, $f(\\text{xm})$."
   ]
  },
  {
   "cell_type": "markdown",
   "metadata": {},
   "source": [
    "<div class=\"alert alert-block alert-info\">\n",
    "    \n",
    "#### Oppgave 9\n",
    "\n",
    "   \n",
    "a) Hvorfor sjekker vi midtpunktet? Hva er det vi trenger vi å vite om midtpunktet? Diskuter med gruppen.\n",
    "    \n",
    "<br>\n",
    "    \n",
    "b) Hvordan finner vi midtpunktet? Diskuter med gruppen og utvid programmet med en kodebit som finner midtpunktet (både $x$- og $y$-verdien). Bruk kodevinduet under. Et løsningsforslag er gitt lengere ned."
   ]
  },
  {
   "cell_type": "code",
   "execution_count": null,
   "metadata": {},
   "outputs": [],
   "source": [
    "# Svar på oppgave 9b her.\n",
    "\n"
   ]
  },
  {
   "cell_type": "markdown",
   "metadata": {},
   "source": [
    "Hvis du bruker $x=60$ og $x=80$ på funksjonen vi har brukt å langt blir svaret $(70, 1{,}012)$."
   ]
  },
  {
   "cell_type": "code",
   "execution_count": 15,
   "metadata": {},
   "outputs": [
    {
     "data": {
      "image/png": "[encoded data removed]",
      "text/plain": [
       "<Figure size 432x288 with 1 Axes>"
      ]
     },
     "metadata": {
      "needs_background": "light"
     },
     "output_type": "display_data"
    },
    {
     "name": "stdout",
     "output_type": "stream",
     "text": [
      "x-verdi til venstre for nullpunkt: 60\n",
      "x-verdi til høyre for nullpunkt: 80\n",
      "\n",
      "Venstre side: f( 60.0 ) = 2.755\n",
      "Høyre side: f( 80.0 ) = -4.944\n",
      "Midt imellom: f( 70.0 ) = -1.012\n"
     ]
    }
   ],
   "source": [
    "# Eksempel på kode så langt med løsningsforslag på oppgave 9b nederst\n",
    "\n",
    "import numpy as np                       # Bibliotek for en del numeriske og matematiske funksjoner\n",
    "import matplotlib.pyplot as plt          # Bibliotek for plotting av graf\n",
    "\n",
    "x = np.linspace(-5, 80, 1000)            # Verdier for x\n",
    "\n",
    "def f(x):                                # Funksjon som regner ut y-verdiene\n",
    "    y = 2*np.log(x**4 + 4) - 0.5*x\n",
    "    return y\n",
    "\n",
    "y = f(x)                                 # Kaller på funksjonen over\n",
    "\n",
    "plt.plot(x, y, 'g')                      # Plotter x og y\n",
    "plt.grid()                               # Tegner rutenett\n",
    "plt.ylim(-5, 15)                         # Intervallet langs y-aksen\n",
    "plt.xlabel('x')                          # Navn x-akse\n",
    "plt.ylabel('f(x)')                       # Navn y-akse\n",
    "plt.axhline(y=0, color='k')              # Tegner x-akse\n",
    "plt.axvline(x=0, color='k')              # Tegner y-akse\n",
    "plt.show()                               # Viser grafen\n",
    "\n",
    "xv = float(input(\"x-verdi til venstre for nullpunkt: \"))\n",
    "xh = float(input(\"x-verdi til høyre for nullpunkt: \"))\n",
    "\n",
    "yv = f(xv)                               # Funksjonsverdien, venstre side\n",
    "yh = f(xh)                               # Funksjonsverdien, høyre side\n",
    "\n",
    "print()\n",
    "print(\"Venstre side: f(\", xv, \") =\", round(yv, 3))    # Runder av svaret til 3 desimaler\n",
    "print(\"Høyre side: f(\", xh, \") =\", round(yh, 3))\n",
    "\n",
    "xm = (xv + xh) / 2                                    # Regner ut x-verdien til midtpunktet\n",
    "ym = f(xm)                                            # Regner ut den tilhørende funksjonsverdien\n",
    "\n",
    "print(\"Midt imellom: f(\", xm, \") =\", round(ym, 3))    # Runder av svaret til 3 desimaler"
   ]
  },
  {
   "cell_type": "markdown",
   "metadata": {},
   "source": [
    "<div class=\"alert alert-block alert-info\">\n",
    "    \n",
    "#### Oppgave 10\n",
    "\n",
    "Vi må nå tolke funksjonsverdien. Her er to påstander, der **xm** og **ym** er $x$- og $y$-verdiene i midtpunktet:\n",
    "- Hvis **ym** er negativ, vet vi at nullpunktet befinner seg mellom **xv** og **xm**.\n",
    "- Hvis **ym** er positiv, vet vi at nullpunktet befinner seg mellom **xm** og **xh**.\n",
    " \n",
    "Diskuter med gruppen om disse påstandene er korrekte og begrunn hvorfor."
   ]
  },
  {
   "cell_type": "markdown",
   "metadata": {},
   "source": [
    "## Sjekke fortegn med en *if*-setning\n",
    "\n",
    "Vi har sjekket fortegnet til **yv**, **ym**, og **yh**, og vi må nå avklare om nullpunktet ligger i intervallet $[\\text{xv}, \\text{xm}]$ eller $[\\text{xm}, \\text{xh}]$. \n",
    "Figuren under viser linjene $x=60$, $x=80$, og linjen midt imellom (markert med rødt) $x=70$. Vi ser at fortegnet til $f(80)$ er likt fortegnet til $f(70)$, og dermed vet vi at nullpunktet ligger i intervallet $[60, 70]$."
   ]
  },
  {
   "attachments": {
    "Halveringsmetode_graf03.png": {
     "image/png": "[encoded data removed]"
    }
   },
   "cell_type": "markdown",
   "metadata": {},
   "source": [
    "![Halveringsmetode_graf03.png](attachment:Halveringsmetode_graf03.png)"
   ]
  },
  {
   "cell_type": "markdown",
   "metadata": {},
   "source": [
    "<div class=\"alert alert-block alert-info\">\n",
    "    \n",
    "#### Oppgave 11\n",
    "\n",
    "Bruk figuren over til å diskutere med gruppen:\n",
    "- Hvis **yv** og **ym** har samme fortegn, vil nullpunktet ligge i intervallet $[\\text{xm}, \\text{xh}]$\n",
    "- Hvis **yv** og **ym** har ulikt fortegn, vil nullpunktet ligge i intervallet $[\\text{xv}, \\text{xm}]$"
   ]
  },
  {
   "cell_type": "markdown",
   "metadata": {},
   "source": [
    "Vi ser at dette er en «hvis – så» prosedyre, så vi må oversette punktene over til en if-setning."
   ]
  },
  {
   "cell_type": "markdown",
   "metadata": {},
   "source": [
    "<div class=\"alert alert-block alert-info\">\n",
    "    \n",
    "#### Oppgave 12\n",
    "\n",
    "Hva er en rask måte å sjekke om to tall (her **yv** og **yh**) har samme eller motsatt fortegn ved hjelp av en if-setning? Diskuter med gruppen. Hvis dere har en ide kan dere prøve å lage en kodebit for å gjøre dette i vinduet under."
   ]
  },
  {
   "cell_type": "code",
   "execution_count": null,
   "metadata": {},
   "outputs": [],
   "source": [
    "# Løs oppgave 12 her\n",
    "\n",
    "yv = \n",
    "yh = \n",
    "\n",
    "if <betingelse>:\n",
    "    print(\"Noe her\")\n",
    "elif <betingelse>:\n",
    "    print(\"Noe her\")\n",
    "else:\n",
    "    print(\"Noe her\")"
   ]
  },
  {
   "cell_type": "markdown",
   "metadata": {
    "slideshow": {
     "slide_type": "slide"
    }
   },
   "source": [
    "<div class=\"alert alert-block alert-danger\">\n",
    "    \n",
    "### Info til lærer\n",
    "    \n",
    "Oppgave 12 kan tas felles i klassen. Dette er en fin diskusjon som alle har forutsetninger for å klare. En mulig start er å si at vi kunne selvsagt lagt en ```if```-setning der vi sjekker alle mulighetene slik:\n",
    "```python\n",
    "    a = 5\n",
    "    b = -3\n",
    "    if a > 0 and b > 0:\n",
    "        print(\"De har samme fortegn\")\n",
    "    elif a > 0 and b < 0:\n",
    "        print(\"De har motsatt fortegn\")\n",
    "    elif a < 0 and b > 0:\n",
    "        print(\"De har motsatt fortegn\")\n",
    "    elif a < 0 and b < 0:     \n",
    "        print(\"De har samme fortegn\")    \n",
    "```\n",
    "Eller slik:\n",
    "```python\n",
    "    a = 5\n",
    "    b = -3\n",
    "    if a > 0:\n",
    "        if b > 0:\n",
    "            print(\"De har samme fortegn\")\n",
    "        elif b < 0:\n",
    "            print(\"De har motsatt fortegn\")\n",
    "    elif a < 0:\n",
    "        if b > 0:\n",
    "            print(\"De har motsatt fortegn\")\n",
    "        elif b < 0:     \n",
    "            print(\"De har samme fortegn\")    \n",
    "```\n",
    "Her vil de fleste være enig om at dette er mye å sjekke. Utfordringen vil da være om vi kan gjøre dette raskere ved å bruke enkel matematikk. Tidligere erfaring viser at elever ofte tenker altfor komplisert her, og da er det fint å kunne si at vi kan kun bruke en enkel matematisk operasjon for å finne ut av dette."
   ]
  },
  {
   "cell_type": "code",
   "execution_count": 1,
   "metadata": {},
   "outputs": [
    {
     "data": {
      "text/plain": [
       "<Figure size 640x480 with 1 Axes>"
      ]
     },
     "metadata": {},
     "output_type": "display_data"
    },
    {
     "name": "stdout",
     "output_type": "stream",
     "text": [
      "x-verdi til venstre for nullpunkt: 60\n",
      "x-verdi til høyre for nullpunkt: 80\n",
      "\n",
      "Venstre side: f( 60.0 ) = 2.755\n",
      "Høyre side: f( 80.0 ) = -4.944\n",
      "Midt imellom: f( 70.0 ) = -1.012\n",
      "Nullpunktet ligger mellom 60.0 og 70.0\n"
     ]
    }
   ],
   "source": [
    "# Eksempel på kode så langt med løsningsforslag på oppgave 12 nederst\n",
    "\n",
    "import numpy as np                       # Bibliotek for en del numeriske og matematiske funksjoner\n",
    "import matplotlib.pyplot as plt          # Bibliotek for plotting av graf\n",
    "\n",
    "x = np.linspace(-5, 80, 1000)            # Verdier for x\n",
    "\n",
    "def f(x):                                # Funksjon som regner ut y-verdiene\n",
    "    y = 2*np.log(x**4 + 4) - 0.5*x\n",
    "    return y\n",
    "\n",
    "y = f(x)                                 # Kaller på funksjonen over\n",
    "\n",
    "plt.plot(x, y, 'g')                      # Plotter x og y\n",
    "plt.grid()                               # Tegner rutenett\n",
    "plt.ylim(-5, 15)                         # Intervallet langs y-aksen\n",
    "plt.xlabel('x')                          # Navn x-akse\n",
    "plt.ylabel('f(x)')                       # Navn y-akse\n",
    "plt.axhline(y=0, color='k')              # Tegner x-akse\n",
    "plt.axvline(x=0, color='k')              # Tegner y-akse\n",
    "plt.show()                               # Viser grafen\n",
    "\n",
    "xv = float(input(\"x-verdi til venstre for nullpunkt: \"))\n",
    "xh = float(input(\"x-verdi til høyre for nullpunkt: \"))\n",
    "\n",
    "yv = f(xv)                               # Funksjonsverdien, venstre side\n",
    "yh = f(xh)                               # Funksjonsverdien, høyre side\n",
    "\n",
    "print()\n",
    "print(\"Venstre side: f(\", xv, \") =\", round(yv, 3))    # Runder av svaret til 3 desimaler\n",
    "print(\"Høyre side: f(\", xh, \") =\", round(yh, 3))\n",
    "\n",
    "xm = (xv + xh) / 2                                    # Regner ut x-verdien til midtpunktet\n",
    "ym = f(xm)                                            # Regner ut den tilhørende funksjonsverdien\n",
    "\n",
    "print(\"Midt imellom: f(\", xm, \") =\", round(ym, 3))    # Runder av svaret til 3 desimaler\n",
    "\n",
    "if yv*ym < 0:\n",
    "    print(\"Nullpunktet ligger mellom\", xv, \"og\", xm)\n",
    "elif yv*ym > 0:\n",
    "    print(\"Nullpunktet ligger mellom\", xm, \"og\", xh)\n",
    "else:\n",
    "    print(\"Nullpunktet er ved x =\", xm)"
   ]
  },
  {
   "cell_type": "markdown",
   "metadata": {},
   "source": [
    "<div class=\"alert alert-block alert-info\">\n",
    "    \n",
    "#### Oppgave 13\n",
    "\n",
    "Diskuter med gruppen hvorfor vi kan vite nullpunktet hvis $\\text{yv}\\cdot \\text{ym}=0$?"
   ]
  },
  {
   "cell_type": "markdown",
   "metadata": {},
   "source": [
    "## Beskrivelse av halveringsmetoden\n",
    "\n",
    "Skal her vise metoden på flere måter. Bruker eksemplet vi har kjørt i koden vår og beskriver fremgangsmåten.\n",
    "\n",
    "<img style=\"float: right;\" src=\"Halveringsmetode_graf07.png\">\n",
    "\n",
    "På figuren har vi valgt x-verdiene 60 og 80. Deretter har vi funnet verdien midt imellom, her 70. Vi sjekker mellom hvilke verdier nullpunktet ligger, og finner at det ligger mellom punktet til venstre og midtpunktet.\n",
    "\n",
    "<br><br><br><br><br><br><br><br>\n",
    "\n",
    "<img style=\"float: right;\" src=\"Halveringsmetode_graf04.png\">\n",
    "\n",
    "På neste figur tegner vi inn de nye avgrensende intervallet med to linjer (sort) og det nye midtpunktet (rødt). Vi sjekker igjen mellom hvilke verdier nullpunktet ligger, og finner at det ligger til høyre for midtpunktet.\n",
    "\n",
    "<br><br><br><br><br><br><br><br>\n",
    "\n",
    "<img style=\"float: right;\" src=\"Halveringsmetode_graf05.png\">\n",
    "\n",
    "Vi setter det nye intervallet vårt til linjene til høyre, og gjør prosessen om igjen.\n",
    "\n",
    "<br><br><br><br><br><br><br><br>\n",
    "\n",
    "<img style=\"float: right;\" src=\"Halveringsmetode_graf06.png\">\n",
    "\n",
    "Hvis vi fortsetter med dette vil vi komme til et punkt som er veldig nærme nullpunktet. Vi kan selv bestemme nøyaktigheten, men vi kan begrense nøyaktigheten til innenfor 2 desimaler for eksempel. Kan øke denne senere hvis man ønsker."
   ]
  },
  {
   "cell_type": "markdown",
   "metadata": {},
   "source": [
    "<div class=\"alert alert-block alert-success\">\n",
    "     \n",
    "Stegene over kan summeres opp som:\n",
    "\n",
    "- Finne midtpunkt i intervallet\n",
    "- Sjekke funksjonsverdien for midtpunktet\n",
    "- Kjøre if-setningen for å sjekke i hvilket av de to intervallene nullpunktet befinner seg\n",
    "- Sette et nytt intervall\n",
    "- Sjekke om vi er nærme nok ellers starte på nytt\n",
    "\n",
    "Metoden kan vi kjøre om igjen helt til vi er fornøyd med svaret vårt."
   ]
  },
  {
   "cell_type": "markdown",
   "metadata": {},
   "source": [
    " Vi kan kalle nøyaktigheten på nullpunktet for $\\epsilon$ (epsilon). Vi kan også beskrive programmet vi straks skal fullføre med et flytskjema."
   ]
  },
  {
   "cell_type": "markdown",
   "metadata": {},
   "source": [
    "<img src=\"Halveringsmetode_flow01.png\" style=\"float:\" width=\"600\"/>"
   ]
  },
  {
   "cell_type": "markdown",
   "metadata": {},
   "source": [
    "<div class=\"alert alert-block alert-info\">\n",
    "    \n",
    "#### Oppgave 14\n",
    "\n",
    "Diskuter med gruppen alle stegene i flytskjemaet. Er det noe som er uklart? Hvorfor sjekker vi absoluttverdien i tredje siste steg?"
   ]
  },
  {
   "cell_type": "markdown",
   "metadata": {
    "slideshow": {
     "slide_type": "slide"
    }
   },
   "source": [
    "<div class=\"alert alert-block alert-danger\">\n",
    "    \n",
    "### Info til lærer\n",
    "    \n",
    "Flytskjemaet og oppgaven over kan også med fordel brukes til gjennomgang av koden. Vi har brukt epsilon ($\\epsilon$) som nøyaktigheten her noe som selvsagt kan endres hvis ønskelig. "
   ]
  },
  {
   "cell_type": "markdown",
   "metadata": {},
   "source": [
    "## Fullføre programmet\n",
    "\n",
    "I oppgave 12 lagde vi en *if*-setning som fant ut intervallet vi skulle fortsette å lete i. Vi skal nå gjøre ferdig denne *if*-setningen og oppdatere intervallet. Ser på første del av *if*-setningen:\n",
    "\n",
    "```python\n",
    "if yv*ym < 0:\n",
    "    xh = xm         # Setter ny verdi for xh\n",
    "elif ...\n",
    "    \n",
    "```"
   ]
  },
  {
   "cell_type": "markdown",
   "metadata": {},
   "source": [
    "<div class=\"alert alert-block alert-info\">\n",
    "    \n",
    "#### Oppgave 15\n",
    "\n",
    "Bruk koden ovenfor som utgangspunkt og utvid programmet til å regne ut det nye intervallet. Bruk kodevinduet under."
   ]
  },
  {
   "cell_type": "code",
   "execution_count": null,
   "metadata": {},
   "outputs": [],
   "source": [
    "# Lim inn koden dere har så langt her og utvid med oppgave 15. Et forslag til kode er gitt under\n",
    "\n"
   ]
  },
  {
   "cell_type": "code",
   "execution_count": null,
   "metadata": {},
   "outputs": [],
   "source": [
    "# Eksempel på kode så langt med løsningsforslag på oppgave 15 nederst\n",
    "# Merk at her er noe kode tatt vekk fordi vi ikke trenger all koden lenger\n",
    "\n",
    "import numpy as np                       # Bibliotek for en del numeriske og matematiske funksjoner\n",
    "import matplotlib.pyplot as plt          # Bibliotek for plotting av graf\n",
    "\n",
    "x = np.linspace(-5, 80, 1000)            # Verdier for x\n",
    "\n",
    "def f(x):                                # Funksjon som regner ut y-verdiene\n",
    "    y = 2*np.log(x**4 + 4) - 0.5*x\n",
    "    return y\n",
    "\n",
    "y = f(x)                                 # Kaller på funksjonen over\n",
    "\n",
    "plt.plot(x, y, 'g')                      # Plotter x og y\n",
    "plt.grid()                               # Tegner rutenett\n",
    "plt.ylim(-5, 15)                         # Intervallet langs y-aksen\n",
    "plt.xlabel('x')                          # Navn x-akse\n",
    "plt.ylabel('f(x)')                       # Navn y-akse\n",
    "plt.axhline(y=0, color='k')              # Tegner x-akse\n",
    "plt.axvline(x=0, color='k')              # Tegner y-akse\n",
    "plt.show()                               # Viser grafen\n",
    "\n",
    "xv = float(input(\"x-verdi til venstre for nullpunkt: \"))\n",
    "xh = float(input(\"x-verdi til høyre for nullpunkt: \"))\n",
    "\n",
    "yv = f(xv)                               # Funksjonsverdien, venstre side\n",
    "yh = f(xh)                               # Funksjonsverdien, høyre side\n",
    "\n",
    "xm = (xv + xh) / 2                       # Regner ut x-verdien til midtpunktet\n",
    "ym = f(xm)                               # Regner ut den tilhørende funksjonsverdien\n",
    "\n",
    "if yv*ym < 0:\n",
    "    xh = xm                              # Setter ny verdi for xh\n",
    "elif yv*ym > 0:\n",
    "    xv = xm                              # Setter ny verdi for xv"
   ]
  },
  {
   "cell_type": "markdown",
   "metadata": {},
   "source": [
    "Siste steg er å la programmet gjøre dette inntil vi har oppnådd ønsket nøyaktighet. Vi kan utvide progrmamet vårt med en *while*-løkke som kjører inntil vi har fått ønsker nøyaktighet. Vi bruker her variabelen epsilon for nøyaktighet."
   ]
  },
  {
   "cell_type": "markdown",
   "metadata": {},
   "source": [
    "<div class=\"alert alert-block alert-info\">\n",
    "    \n",
    "#### Oppgave 16\n",
    "\n",
    "Prøv å utvid programmet til å kjøre utregningen av midtpunktet og if-setningene inntil vi har nådd en ønsket nøyaktighet. "
   ]
  },
  {
   "cell_type": "markdown",
   "metadata": {
    "slideshow": {
     "slide_type": "slide"
    }
   },
   "source": [
    "<div class=\"alert alert-block alert-danger\">\n",
    "    \n",
    "### Info til lærer\n",
    "    \n",
    "*while*-løkken kan være vanskelig for elevene, så oppgave 16 må vurderes. Det er viktigere at de gjør oppgavene etter for de er mer relatert til matematisk diskusjon."
   ]
  },
  {
   "cell_type": "code",
   "execution_count": 17,
   "metadata": {},
   "outputs": [
    {
     "data": {
      "image/png": "[encoded data removed]",
      "text/plain": [
       "<Figure size 432x288 with 1 Axes>"
      ]
     },
     "metadata": {
      "needs_background": "light"
     },
     "output_type": "display_data"
    },
    {
     "name": "stdout",
     "output_type": "stream",
     "text": [
      "x-verdi til venstre for nullpunkt: 60\n",
      "x-verdi til høyre for nullpunkt: 80\n",
      "Nullpunktet er ved x = 67.36\n"
     ]
    }
   ],
   "source": [
    "# Løsningsforslag til halveringmetoden\n",
    "    \n",
    "import numpy as np                      # Bibliotek for en del numeriske og matematiske funksjoner\n",
    "import matplotlib.pyplot as plt         # Bibliotek for plotting av graf\n",
    "\n",
    "x = np.linspace(-5, 80, 1000)           # Verdier for x\n",
    "\n",
    "def f(x):                               # Funksjon som regner ut y-verdiene\n",
    "    y = 2*np.log(x**4 + 4) - 0.5*x\n",
    "    return y\n",
    "\n",
    "y = f(x)                                # Kaller på funksjonen over\n",
    "\n",
    "plt.plot(x, y, 'g')                     # Plotter x og y\n",
    "plt.grid()                              # Tegner rutenett\n",
    "plt.ylim(-5, 15)                        # Intervallet langs y-aksen\n",
    "plt.xlabel('x')                         # Navn x-akse\n",
    "plt.ylabel('f(x)')                      # Navn y-akse\n",
    "plt.axhline(y=0, color='k')             # Tegner x-akse\n",
    "plt.axvline(x=0, color='k')             # Tegner y-akse\n",
    "plt.show()                              # Viser grafen\n",
    "\n",
    "xv = float(input(\"x-verdi til venstre for nullpunkt: \"))\n",
    "xh = float(input(\"x-verdi til høyre for nullpunkt: \"))\n",
    "\n",
    "yv = f(xv)                              # Funksjonsverdien, venstre side\n",
    "yh = f(xh)                              # Funksjonsverdien, høyre side\n",
    "\n",
    "epsilon = 0.001                         # Nøyaktigheten til nullpunktet\n",
    "\n",
    "while abs(xh-xv) > epsilon:\n",
    "    xm = (xv + xh) / 2                  # Regner ut x-verdien til midtpunktet\n",
    "    ym = f(xm)                          # Regner ut den tilhørende funksjonsverdien\n",
    "    yv = f(xv)                          # Ny funksjonsverdi, venstre side\n",
    "    \n",
    "    if yv*ym < 0:\n",
    "        xh = xm                         # Setter ny verdi for xh\n",
    "    elif yv*ym > 0:\n",
    "        xv = xm                         # Setter ny verdi for xv\n",
    "\n",
    "print(\"Nullpunktet er ved x =\", round(xm, 2))"
   ]
  },
  {
   "cell_type": "markdown",
   "metadata": {},
   "source": [
    "<div class=\"alert alert-block alert-info\">\n",
    "    \n",
    "#### Oppgave 17\n",
    "\n",
    "Endre på ulike deler av programmet og se hva som skjer. Legg spesielt merke til hva som skjer når du endrer:\n",
    "- til andre funksjoner (linje 9 i løsningsforslaget over)\n",
    "- nøyaktigheten epsilon (linje 29 i løsningsforslaget over)"
   ]
  },
  {
   "cell_type": "markdown",
   "metadata": {},
   "source": [
    "## Når fungere dette ikke?\n",
    "\n",
    "Helt til slutt er det viktig med en kort kommentar angående programmet vi nå har laget. Programmet vil ikke klare å finne nullpunkter der funksjonen har et topp- eller bunnpunkt i nullpunktet. Grunnen til dette er at funksjonsverdien ikke skifter fortegn når funksjonen krysser nullpunktet. Det er likevel metoder for å løse dette, se oppgave 18."
   ]
  },
  {
   "cell_type": "markdown",
   "metadata": {},
   "source": [
    "<div class=\"alert alert-block alert-info\">\n",
    "    \n",
    "#### Oppgave 18\n",
    "\n",
    "Diskutere med gruppen hvordan vi kan gå frem for å lage en metode som inkluderer å finne nullpunktene beskrevet over? "
   ]
  }
 ],
 "metadata": {
  "kernelspec": {
   "display_name": "Python 3",
   "language": "python",
   "name": "python3"
  },
  "language_info": {
   "codemirror_mode": {
    "name": "ipython",
    "version": 3
   },
   "file_extension": ".py",
   "mimetype": "text/x-python",
   "name": "python",
   "nbconvert_exporter": "python",
   "pygments_lexer": "ipython3",
   "version": "3.8.5"
  }
 },
 "nbformat": 4,
 "nbformat_minor": 4
}
