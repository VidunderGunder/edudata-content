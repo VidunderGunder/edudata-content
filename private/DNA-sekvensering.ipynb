{
 "cells": [
  {
   "cell_type": "markdown",
   "metadata": {},
   "source": [
    "# DNA-sekvensering\n",
    "\n",
    "<img style=\"float: right;\" src=\"DNA_animation.gif\">\n",
    "\n",
    "<div class=\"alert alert-block alert-success\">\n",
    "\n",
    "Her skal vi se på DNA-koden og hvordan den brukes til å lage proteiner. Totalt har mennesket nesten 100 000 000 000 000 ($10^{14}$) celler i kroppen som hver inneholder en DNA-tråd. \n",
    "</div>\n",
    "\n",
    "## Innhold\n",
    "\n",
    "- [Bakgrunn](#Bakgrunn)\n",
    "- [DNA-koden](#DNA-koden)\n",
    "- [Duplisering](#Basekode-en-tråd-fra-en-annen)\n",
    "- [Transkripsjon](#Transkripsjon-av-DNA-kode)\n",
    "- [Tripletter](#Tripletter-(kodon))\n",
    "- [Aminosyrer](#Tripletter-til-aminosyrer)\n",
    "- [Proteiner](#Aminosyrer-til-proteiner)\n",
    "- [Andre bruksområder](#Andre-bruksområde-for-kunnskap-om-DNA-(work-in-progress))\n",
    "\n",
    "\n",
    "## Bakgrunn\n",
    "\n",
    "DNA (deoksyribonukleinsyre) inneholder en enorm mengde informasjon. Mestparten av DNAet ligger i cellekjernen, men det er noe DNA som ligger i mitokondriene. Dette DNAet kalles mitokondrie-DNA. DNAet i cellekjernen er kveilet opp rundt proteiner kalt histoner. Denne oppkveilingen kaller vi for et kromosom. Kromosomer har vi mulighet til å se gjennom et mikroskop. Totalt har mennesker 46 kromsomer i (nesten) alle celler.\n",
    "\n",
    "DNA-molekylene består totalt av 3 millioner baser som er koblet sammen med et skjelett av sukkermolekyler og fosfatmolekyler. Skjelettet former DNA-molekylet til en dobbel heliks. Deler av DNA-molekylene danner gener, som er oppskrifter på proteiner\n",
    "\n",
    "En viktig egenskap med DNA er at det kan kopiere seg selv. Det er viktig når celler skal dele seg. I tillegg kan det kopiere deler av seg selv for produksjon av proteiner.  \n",
    "\n",
    "<div class=\"alert alert-block alert-info\">\n",
    "\n",
    "**Oppgave 1**\n",
    "\n",
    "I hvilke celler er det ikke 48 kromosomer? Hvorfor?\n",
    "\n",
    "Hva er et gen?\n",
    "</div>"
   ]
  },
  {
   "cell_type": "markdown",
   "metadata": {},
   "source": [
    "## DNA-koden\n",
    "\n",
    "<img style=\"float: right;\" src=\"DNA_baser.png\" width=\"600\">\n",
    "\n",
    "DNA-koden inneholder 4 baser, adenin ($A$), tymin ($T$), cytosin ($C$), og guanin ($G$). Disse er koblet sammen i par, der $A$ og $T$ er et par og $C$ og $G$ er det andre paret. De kan ikke danne andre par enn dette. Dette gjør at hvis vi kjenner den ene delen av en DNA-tråd kan vi lage den andre delen ved å følge denne regelen.\n",
    "\n",
    "<div class=\"alert alert-block alert-success\">\n",
    "\n",
    "Totalt består DNA av over 3 millioner slike basepar, og hvis vi hadde strukket ut DNA-molekylet fra en celle ville det blitt [ca 2 meter langt](https://www.sciencefocus.com/the-human-body/how-long-is-your-dna/). Hadde vi strukket ut alt DNA i kroppen vår ville det blitt [dobbelt så langt som solsystemet vårt](https://www.sciencefocus.com/the-human-body/how-long-is-your-dna/). I tillegg vil et DNAet i en celle inneholde tilsvarende [ca 1.5 GB med data](https://bitesizebio.com/8378/how-much-information-is-stored-in-the-human-genome/).\n",
    "\n",
    "</div>\n",
    "\n",
    "DNA inneholder all informasjon som skal til for å opprettholde og bygge kroppen vår. Vi skal her se på hvordan DNA klarer dette gjennom blant annet kopiering og proteinsyntesen."
   ]
  },
  {
   "cell_type": "markdown",
   "metadata": {},
   "source": [
    "<div class=\"alert alert-block alert-info\">\n",
    "\n",
    "**Oppgave 2**\n",
    "\n",
    "Vi vet at den ene DNA-tråden vår har basekoden:\n",
    "\n",
    "$A ~ A ~ C ~ T ~ G ~ A ~ T ~ C ~ G ~ G ~ A ~ T ~ C ~ C ~ T ~ A$\n",
    "\n",
    "Hva er er den tilsvarende basekoden på den andre DNA-tråden?\n",
    "</div>"
   ]
  },
  {
   "cell_type": "markdown",
   "metadata": {},
   "source": [
    "## Basekode en tråd fra en annen\n",
    "\n",
    "Vi skal nå lage et program som tar inn en del av DNA-tråden og vil skrive ut den andre tilhørende tråden.\n",
    "\n",
    "<div class=\"alert alert-block alert-info\">\n",
    "\n",
    "**Oppgave 3**\n",
    "\n",
    "Diskuter med sidemannen hva denne programmeringskoden må gjøre. Hva tar programmet inn, hva gjør programmet, og hva gir programmet ut tilslutt?\n",
    "</div>"
   ]
  },
  {
   "cell_type": "markdown",
   "metadata": {},
   "source": [
    "<div class=\"alert alert-block alert-success\">\n",
    "\n",
    "Vi starter med å lage en programmeringskode som tar inn basekoden fra brukeren og deretter splitter opp basekoden med kommandoen `list()`. Denne kommandoen tar inn en streng (tekst, for eksempel AATGTA) og splitter den opp til sine enkelte tegn (bokstaver, A A T G T A).\n",
    "\n",
    "```python\n",
    "DNA = input(\"Skriv inn en DNA-kode (A, T, C, G): \")\n",
    "\n",
    "DNA = list(DNA)\n",
    "```\n",
    "</div>"
   ]
  },
  {
   "cell_type": "markdown",
   "metadata": {},
   "source": [
    "<div class=\"alert alert-block alert-success\">\n",
    "\n",
    "Vi må gå gjennom alle bitene av basekoden og bytte dem ut med det tilhørende baseparet. Dette gjør vi med en `for`-løkke som går gjennom alle basene. Vi avbryter løkken med ```break``` hvis noen har skrevet inn en gal base.\n",
    "\n",
    "```python\n",
    "for i in range(len(DNA)):\n",
    "    if DNA[i] == 'A':\n",
    "        DNA[i] = 'T'\n",
    "    elif DNA[i] == 'T':\n",
    "        DNA[i] = 'A'\n",
    "    elif DNA[i] == 'C':\n",
    "        DNA[i] = 'G'\n",
    "    elif DNA[i] == 'G':\n",
    "        DNA[i] = 'C'\n",
    "    else:\n",
    "        print(\"DNA-koden inneholder noen ikke-gyldige baser\")\n",
    "        break\n",
    "```\n",
    "</div>"
   ]
  },
  {
   "cell_type": "markdown",
   "metadata": {},
   "source": [
    "<div class=\"alert alert-block alert-success\">\n",
    "\n",
    "Tilslutt setter vi sammen bokstavene vår til en basekode igjen med kommandoen `join`. \n",
    "\n",
    "```python\n",
    "DNA = ''.join(DNA)\n",
    "print(DNA)\n",
    "```\n",
    "</div>\n",
    "\n",
    "Hele programmeringskoden blir da:"
   ]
  },
  {
   "cell_type": "code",
   "execution_count": 26,
   "metadata": {},
   "outputs": [
    {
     "name": "stdout",
     "output_type": "stream",
     "text": [
      "Skriv inn en DNA-kode (A, T, C, G): ATCGCCTAGGA\n",
      "TAGCGGATCCT\n"
     ]
    }
   ],
   "source": [
    "DNA = input(\"Skriv inn en DNA-kode (A, T, C, G): \")\n",
    "\n",
    "DNA = list(DNA)\n",
    "\n",
    "for i in range(len(DNA)):\n",
    "    if DNA[i] == 'A':\n",
    "        DNA[i] = 'T'\n",
    "    elif DNA[i] == 'T':\n",
    "        DNA[i] = 'A'\n",
    "    elif DNA[i] == 'C':\n",
    "        DNA[i] = 'G'\n",
    "    elif DNA[i] == 'G':\n",
    "        DNA[i] = 'C'\n",
    "    else:\n",
    "        print(\"DNA-koden inneholder noen ikke-gyldige baser\")\n",
    "        break\n",
    "\n",
    "DNA = ''.join(DNA)\n",
    "print(DNA)"
   ]
  },
  {
   "cell_type": "markdown",
   "metadata": {},
   "source": [
    "<div class=\"alert alert-block alert-info\">\n",
    "\n",
    "**Oppgave 4**\n",
    "\n",
    "Test programmet for flere varianter av DNA-koder. Fungerer programmet alltid?\n",
    "</div>"
   ]
  },
  {
   "cell_type": "markdown",
   "metadata": {},
   "source": [
    "## Transkripsjon av DNA-kode\n",
    "\n",
    "<img style=\"float: right;\" src=\"Transkripsjon.png\">\n",
    "\n",
    "DNA-koden inneholder oppskriften på en mengde proteiner som styrer alt fra farge på øyne, blodceller til hormoner osv. Siden DNA-koden er så viktig for oss ligger den inne i cellekjernen i alle cellene våre. Der ligger den godt beskyttet med en ekstra membran rundt seg. Organellene som setter sammen aminosyrer til proteiner heter ribosomer og ligger utenfor cellekjernen. Vi må dermed få informasjonen som er i DNA-molekylet ut til ribosomet. Vi kunne tenkt oss at DNA kan gå ut av cellekjernen, men da blir det utsatt for kjemiske endringer fra for eksmpel frie radikaler. Dette kan endre/skade DNAet og gjøre at cellene ikke klarer å produsere proteiner. Det er for risikabelt, så kroppen har en bedre løsning.\n",
    "\n",
    "I cellekjernene lages en kopi av den ene DNA-tråden gjennom transkripsjon. DNA-heliksen blir først åpnet opp, deretter kopieres et *gen* fra den ene tråden, før DNA-heliksen lukkes igjen. Den kopierte tråden kaller vi *m-RNA* (messenger-RNA). I kopieringen til m-RNA erstattes tymin ($T$) med urasil ($U$)."
   ]
  },
  {
   "cell_type": "markdown",
   "metadata": {},
   "source": [
    "<div class=\"alert alert-block alert-info\">\n",
    "\n",
    "**Oppgave 5**\n",
    "\n",
    "Bruk internett til å undersøke hvorfor m-RNA inneholder Urasil istedenfor Tymin.\n",
    "</div>"
   ]
  },
  {
   "cell_type": "markdown",
   "metadata": {},
   "source": [
    "<div class=\"alert alert-block alert-info\">\n",
    "\n",
    "**Oppgave 6**\n",
    "\n",
    "Under er programmet vi brukte for å kopiere en DNA-tråd. Endre på programmet slik at det isteden skriver ut m-RNA som blir dannet fra DNA-sekvensen vi skriver inn.\n",
    "</div>"
   ]
  },
  {
   "cell_type": "code",
   "execution_count": 27,
   "metadata": {},
   "outputs": [
    {
     "name": "stdout",
     "output_type": "stream",
     "text": [
      "Skriv inn en DNA-kode: AGTTCCGAA\n",
      "UCAAGGCUU\n"
     ]
    }
   ],
   "source": [
    "DNA = input(\"Skriv inn en DNA-kode: \")\n",
    "\n",
    "DNA = list(DNA)\n",
    "\n",
    "for i in range(len(DNA)):\n",
    "    if DNA[i] == 'A':\n",
    "        DNA[i] = 'U'\n",
    "    elif DNA[i] == 'T':\n",
    "        DNA[i] = 'A'\n",
    "    elif DNA[i] == 'C':\n",
    "        DNA[i] = 'G'\n",
    "    elif DNA[i] == 'G':\n",
    "        DNA[i] = 'C'\n",
    "    else:\n",
    "        print(\"DNA-koden inneholder noen ikke-gyldige baser\")\n",
    "        break     \n",
    "\n",
    "mRNA = ''.join(DNA)\n",
    "print(mRNA)"
   ]
  },
  {
   "cell_type": "markdown",
   "metadata": {},
   "source": [
    "## Tripletter (kodon)\n",
    "\n",
    "Proteiner består av en rekke aminosyrer, så for å lage et protein må m-RNA kode for rekkefølgen på disse aminosyrene. Vi har totalt 20 aminosyrer, så vi trenger nok bokstaver til å kunne klare å kode for 20 forskjellige aminosyrer. Hvis vi bruker én base har vi kun 4 muligheter:\n",
    "- A\n",
    "- T\n",
    "- G\n",
    "- C\n",
    "\n",
    "Dette er ikke nok for å kode for 20 forskjellige aminosyrer."
   ]
  },
  {
   "cell_type": "markdown",
   "metadata": {},
   "source": [
    "<div class=\"alert alert-block alert-info\">\n",
    "\n",
    "**Oppgave 7**\n",
    "\n",
    "Hvor mange muligheter har vi hvis vi bruker to baser?"
   ]
  },
  {
   "cell_type": "markdown",
   "metadata": {},
   "source": [
    "<div class=\"alert alert-block alert-success\">\n",
    "\n",
    "For tre basepar øker antall muligheter. Her bruker vi litt kombinatorikk fra matematikken for å vise antall muligheter. For første base har vi 4 muligheter, for andre har vi 4 muligheter og for siste har vi 4 muligheter. Totalt har vi da\n",
    "\n",
    "$$4\\cdot 4\\cdot 4 = 64$$\n",
    "\n",
    "muligheter.\n",
    "</div>"
   ]
  },
  {
   "cell_type": "markdown",
   "metadata": {},
   "source": [
    "Hvis dere ikke er overbevist kan vi lage et kort program som viser alle mulighetene."
   ]
  },
  {
   "cell_type": "code",
   "execution_count": 1,
   "metadata": {},
   "outputs": [
    {
     "name": "stdout",
     "output_type": "stream",
     "text": [
      "1 AAA\n",
      "2 AAT\n",
      "3 AAC\n",
      "4 AAG\n",
      "5 ATA\n",
      "6 ATT\n",
      "7 ATC\n",
      "8 ATG\n",
      "9 ACA\n",
      "10 ACT\n",
      "11 ACC\n",
      "12 ACG\n",
      "13 AGA\n",
      "14 AGT\n",
      "15 AGC\n",
      "16 AGG\n",
      "17 TAA\n",
      "18 TAT\n",
      "19 TAC\n",
      "20 TAG\n",
      "21 TTA\n",
      "22 TTT\n",
      "23 TTC\n",
      "24 TTG\n",
      "25 TCA\n",
      "26 TCT\n",
      "27 TCC\n",
      "28 TCG\n",
      "29 TGA\n",
      "30 TGT\n",
      "31 TGC\n",
      "32 TGG\n",
      "33 CAA\n",
      "34 CAT\n",
      "35 CAC\n",
      "36 CAG\n",
      "37 CTA\n",
      "38 CTT\n",
      "39 CTC\n",
      "40 CTG\n",
      "41 CCA\n",
      "42 CCT\n",
      "43 CCC\n",
      "44 CCG\n",
      "45 CGA\n",
      "46 CGT\n",
      "47 CGC\n",
      "48 CGG\n",
      "49 GAA\n",
      "50 GAT\n",
      "51 GAC\n",
      "52 GAG\n",
      "53 GTA\n",
      "54 GTT\n",
      "55 GTC\n",
      "56 GTG\n",
      "57 GCA\n",
      "58 GCT\n",
      "59 GCC\n",
      "60 GCG\n",
      "61 GGA\n",
      "62 GGT\n",
      "63 GGC\n",
      "64 GGG\n"
     ]
    }
   ],
   "source": [
    "from pylab import *\n",
    "\n",
    "baser = ['A', 'T', 'C', 'G']\n",
    "indeks = 1\n",
    "for i in range(4):\n",
    "    for j in range(4):\n",
    "        for k in range(4):\n",
    "            kodon = baser[i] + baser[j] + baser[k]\n",
    "            print(indeks, ''.join(kodon))\n",
    "            indeks = indeks + 1\n",
    "            "
   ]
  },
  {
   "cell_type": "markdown",
   "metadata": {},
   "source": [
    "m-RNA bruker en sekvens av 3 baser for å kode for en aminosyre, vi kaller en slik triplett for et kodon. Siden vi har 64 varianter med 3 baser og kun 20 aminosyrer, er det en del basekombinasjoner som må enten kode for samme aminosyre eller være overflødige. Det viser seg at det ikke er noen overflødige kombinasjoner, men at flere kodoner kan kode for samme aminosyre. "
   ]
  },
  {
   "cell_type": "markdown",
   "metadata": {},
   "source": [
    "## Tripletter til aminosyrer\n",
    "\n",
    "<div class=\"alert alert-block alert-info\">\n",
    "\n",
    "<img style=\"float: right;\" src=\"Aminosyrer.png\" width=\"400\">\n",
    "\n",
    "**Oppgave 8**\n",
    "\n",
    "[Klikk her](https://ndla.no/nb/subjects/subject:21/topic:1:183551/topic:1:183535/resource:1:46942) for å se hvilke kombinasjoner som gir hvilke aminosyrer. En oppsummering er gitt i figuren til høyre <br><br>\n",
    "\n",
    "a) Hvilke amonisyrer koder sekvensen $G~A~T~T~A~C~A~T~T$ for? <br><br>\n",
    "\n",
    "I tabellen ser vi at $AUG$ er et start-kodon, og $UAA$, $UAG$, $UGA$ er stopp-kodoner.\n",
    "\n",
    "b) Hva er et start- og stopp-kodon? <br><br>\n",
    "\n",
    "Av figuren til høyre ser vi at $AUG$ koder for aminosyren metionin.\n",
    "\n",
    "c) Hvordan kan vi kode for aminosyren metionin når $AUG$ også er startkodonet?\n",
    "\n",
    "<br><br><br><br><br><br>\n",
    "</div>\n"
   ]
  },
  {
   "cell_type": "markdown",
   "metadata": {},
   "source": [
    "I programbiten under har vi laget en tabell som linker et kodon til bokstaven for aminosyren i figuren over."
   ]
  },
  {
   "cell_type": "code",
   "execution_count": 2,
   "metadata": {},
   "outputs": [],
   "source": [
    "mRNA_til_aminosyre = { \n",
    "        'AUA':'I', 'AUC':'I', 'AUU':'I', 'AUG':'M', \n",
    "        'ACA':'T', 'ACC':'T', 'ACG':'T', 'ACU':'T', \n",
    "        'AAC':'N', 'AAU':'N', 'AAA':'K', 'AAG':'K', \n",
    "        'AGC':'S', 'AGU':'S', 'AGA':'R', 'AGG':'R',\n",
    "        'CUA':'L', 'CUC':'L', 'CUG':'L', 'CUU':'L', \n",
    "        'CCA':'P', 'CCC':'P', 'CCG':'P', 'CCU':'P', \n",
    "        'CAC':'H', 'CAU':'H', 'CAA':'Q', 'CAG':'Q', \n",
    "        'CGA':'R', 'CGC':'R', 'CGG':'R', 'CGU':'R', \n",
    "        'GUA':'V', 'GUC':'V', 'GUG':'V', 'GUU':'V', \n",
    "        'GCA':'A', 'GCC':'A', 'GCG':'A', 'GCU':'A', \n",
    "        'GAC':'D', 'GAU':'D', 'GAA':'E', 'GAG':'E', \n",
    "        'GGA':'G', 'GGC':'G', 'GGG':'G', 'GGU':'G', \n",
    "        'UCA':'S', 'UCC':'S', 'UCG':'S', 'UCU':'S', \n",
    "        'UUC':'F', 'UUU':'F', 'UUA':'L', 'UUG':'L', \n",
    "        'UAC':'Y', 'UAU':'Y', 'UAA':'_', 'UAG':'_', \n",
    "        'UGC':'C', 'UGU':'C', 'UGA':'_', 'UGG':'W', \n",
    "    }"
   ]
  },
  {
   "cell_type": "markdown",
   "metadata": {},
   "source": [
    "I programbiten under oversetter vi en m-RNA sekvens til en aminosyresekvens (et protein)."
   ]
  },
  {
   "cell_type": "code",
   "execution_count": 3,
   "metadata": {},
   "outputs": [
    {
     "name": "stdout",
     "output_type": "stream",
     "text": [
      "['GCA', 'CUU', 'CUU', 'GAG', 'UAA', 'UUA', 'AUU', 'AAA', 'GAG', 'CGU', 'UAA', 'CUU', 'GCA', 'UAA', 'UCU', 'ACA', 'GCA', 'GCA']\n",
      "ALLE.LIKER.LA.STAA\n"
     ]
    }
   ],
   "source": [
    "m_RNA = 'GCACUUCUUGAGUAAUUAAUUAAAGAGCGUUAACUUGCAUAAUCUACAGCAGCA'\n",
    "m_RNA = list(m_RNA)\n",
    "m_RNA_kodon = []\n",
    "Protein = []\n",
    "N = int(len(m_RNA)/3)\n",
    "\n",
    "for i in range(1, N+1):\n",
    "    kodon = ''.join(m_RNA[3*i-3] + m_RNA[3*i-2] + m_RNA[3*i-1])\n",
    "    Protein.append(mRNA_til_aminosyre[kodon])\n",
    "    m_RNA_kodon.append(kodon)\n",
    "\n",
    "print(m_RNA_kodon)\n",
    "print(''.join(Protein))"
   ]
  },
  {
   "cell_type": "markdown",
   "metadata": {},
   "source": [
    "<div class=\"alert alert-block alert-info\">\n",
    "\n",
    "**Oppgave 9**\n",
    "\n",
    "Oversett følgende m_RNA-sekvens til en proteinsekvens\n",
    "\n",
    "$GCACUUCUUGAGUAAUUAAUUAAAGAGCGUUAACUUGCAUAAUCUACAGCAGCA$\n",
    "\n",
    "Lag deretter din egen m_RNA-kode som gir et ord eller en setning. Bruk [figuren over](#Tripletter-til-aminosyrer) til å gjøre dette.\n",
    "</div>"
   ]
  },
  {
   "cell_type": "markdown",
   "metadata": {},
   "source": [
    "I programbiten under har vi laget en tabell som linker bokstaven for aminosyre til navnet på aminosyren."
   ]
  },
  {
   "cell_type": "code",
   "execution_count": 30,
   "metadata": {},
   "outputs": [],
   "source": [
    "bokstav_til_aminosyre = { \n",
    "        'F':'Phenylalanin', 'L':'Leucin',    'I':'Isoleucin',  'M':'Metionin', \n",
    "        'V':'Valin',        'S':'Serin',     'P':'Prolin',     'T':'Threonin', \n",
    "        'A':'Alanin',       'Y':'Tyrosin',   'G':'Glycin',     'H':'Histidin', \n",
    "        'Q':'Glutamin',     'N':'Asparagin', 'L':'Lysin',      'D':'Asparginsyre',\n",
    "        'E':'Glutaminsyre', 'C':'Cystein',   'W':'Tryptophan', 'R':'Arginin', \n",
    "        '_':'Stop',\n",
    "    }"
   ]
  },
  {
   "cell_type": "markdown",
   "metadata": {},
   "source": [
    "I programbiten under oversetter vi en m-RNA sekvens til en aminosyresekvens (et protein) og skriver ut det fulle navnet på alle aminosyrene i sekvensen."
   ]
  },
  {
   "cell_type": "code",
   "execution_count": 31,
   "metadata": {},
   "outputs": [
    {
     "name": "stdout",
     "output_type": "stream",
     "text": [
      "['AUG', 'CGG', 'GAU', 'CUU', 'AGG', 'AAU', 'AUA', 'GGC', 'CUC', 'AGC', 'AUC', 'UAA']\n",
      "MRDLRNIGLSI_\n",
      "Metionin Arginin Asparginsyre Lysin Arginin Asparagin Isoleucin Glycin Lysin Serin Isoleucin Stop\n"
     ]
    }
   ],
   "source": [
    "m_RNA = 'AUGCGGGAUCUUAGGAAUAUAGGCCUCAGCAUCUAA'\n",
    "m_RNA = list(m_RNA)\n",
    "m_RNA_kodon = []\n",
    "sekvens = []\n",
    "aminosyrer = []\n",
    "N = int(len(m_RNA)/3)\n",
    "\n",
    "for i in range(1, N+1):\n",
    "    kodon = ''.join(m_RNA[3*i-3] + m_RNA[3*i-2] + m_RNA[3*i-1])\n",
    "    aminosyre = mRNA_til_aminosyre[kodon]\n",
    "    sekvens.append(aminosyre)\n",
    "    aminosyrer.append(bokstav_til_aminosyre[aminosyre])\n",
    "    m_RNA_kodon.append(kodon)\n",
    "\n",
    "protein = ''.join(sekvens)\n",
    "print(m_RNA_kodon)\n",
    "print(protein)\n",
    "print(' '.join(aminosyrer))"
   ]
  },
  {
   "cell_type": "markdown",
   "metadata": {},
   "source": [
    "## Aminosyrer til proteiner\n",
    "\n",
    "Her henter vi inn en liste over mange kjente proteiner i mange forskjellige arter. Listen heter pdb_seqres.txt og er hentet [herifra](https://www.rcsb.org/pages/general/summaries). Filen er ganske stor fordi den inneholder 1 084 918 proteiner. Hvis du kjører koden under vises de første 15 proteinene. Resten av koden her er litt tuklete siden filen som inneholder proteinene er formatert litt komplisert. "
   ]
  },
  {
   "cell_type": "code",
   "execution_count": 32,
   "metadata": {},
   "outputs": [
    {
     "name": "stdout",
     "output_type": "stream",
     "text": [
      "      kode  ant_aminosyrer         navn  \\\n",
      "0   101m_A             154    MYOGLOBIN   \n",
      "1   102l_A             165  T4 LYSOZYME   \n",
      "2   102m_A             154    MYOGLOBIN   \n",
      "3   103l_A             167  T4 LYSOZYME   \n",
      "4   103m_A             154    MYOGLOBIN   \n",
      "5   104l_A             166  T4 LYSOZYME   \n",
      "6   104l_B             166  T4 LYSOZYME   \n",
      "7   104m_A             153    MYOGLOBIN   \n",
      "8   105m_A             153    MYOGLOBIN   \n",
      "9   106m_A             154    MYOGLOBIN   \n",
      "10  107l_A             164  T4 LYSOZYME   \n",
      "11  107m_A             154    MYOGLOBIN   \n",
      "12  108l_A             164  T4 LYSOZYME   \n",
      "13  108m_A             154    MYOGLOBIN   \n",
      "14  109l_A             164  T4 LYSOZYME   \n",
      "\n",
      "                                     aminosyresekvens  \n",
      "0   MVLSEGEWQLVLHVWAKVEADVAGHGQDILIRLFKSHPETLEKFDR...  \n",
      "1   MNIFEMLRIDEGLRLKIYKDTEGYYTIGIGHLLTKSPSLNAAAKSE...  \n",
      "2   MVLSEGEWQLVLHVWAKVEADVAGHGQDILIRLFKSHPETLEKFDR...  \n",
      "3   MNIFEMLRIDEGLRLKIYKDTEGYYTIGIGHLLTKSPSLNSLDAAK...  \n",
      "4   MVLSEGEWQLVLHVWAKVEADVAGHGQDILIRLFKSHPETLEKFDR...  \n",
      "5   MNIFEMLRIDEGLRLKIYKDTEGYYTIGIGHLLTKSPSLNAAKSAA...  \n",
      "6   MNIFEMLRIDEGLRLKIYKDTEGYYTIGIGHLLTKSPSLNAAKSAA...  \n",
      "7   VLSEGEWQLVLHVWAKVEADVAGHGQDILIRLFKSHPETLEKFDRF...  \n",
      "8   VLSEGEWQLVLHVWAKVEADVAGHGQDILIRLFKSHPETLEKFDRF...  \n",
      "9   MVLSEGEWQLVLHVWAKVEADVAGHGQDILIRLFKSHPETLEKFDR...  \n",
      "10  MNIFEMLRIDEGLRLKIYKDTEGYYTIGIGHLLTKSPSLNAAKGEL...  \n",
      "11  MVLSEGEWQLVLHVWAKVEADVAGHGQDILIRLFKSHPETLEKFDR...  \n",
      "12  MNIFEMLRIDEGLRLKIYKDTEGYYTIGIGHLLTKSPSLNAAKIEL...  \n",
      "13  MVLSEGEWQLVLHVWAKVEADVAGHGQDILIRLFKSHPETLEKFDR...  \n",
      "14  MNIFEMLRIDEGLRLKIYKDTEGYYTIGIGHLLTKSPSLNAAKKEL...  \n"
     ]
    }
   ],
   "source": [
    "import pandas as pd\n",
    "\n",
    "with open('pdb_seqres.txt', 'r') as f:\n",
    "    lines = f.readlines()\n",
    "\n",
    "data = {'kode': [], 'ant_aminosyrer': [], 'navn': [], 'aminosyresekvens': []} # Opprette dictionary som skal fylles inn\n",
    "for i in range(0, len(lines), 2):                     # Løkker over annenhver linje siden sekvensene er på egne linjer\n",
    "    line1 = lines[i].split('  ')                      # Splitt først på dobbelt mellomrom\n",
    "    line2 = line1[0].split()                          # Splitt på enkeltmellomrom\n",
    "    data['kode'].append(line2[0][1:])\n",
    "    data['ant_aminosyrer'].append(int(line2[-1].split(':')[-1]))\n",
    "    data['navn'].append(line1[-1].strip())\n",
    "    data['aminosyresekvens'].append(lines[i+1].strip())\n",
    "    \n",
    "\n",
    "df = pd.DataFrame(data)                               # Gjøre om dataene til en pandas dataframe\n",
    "print(df.head(15))                                    # Inspisere de 15 første radene"
   ]
  },
  {
   "cell_type": "markdown",
   "metadata": {},
   "source": [
    "Skal nå finne sekvensen du lagde i forrige oppgave i denne filen."
   ]
  },
  {
   "cell_type": "code",
   "execution_count": 33,
   "metadata": {
    "scrolled": false
   },
   "outputs": [
    {
     "name": "stdout",
     "output_type": "stream",
     "text": [
      "MVLSEGEW\n",
      "101m_A MYOGLOBIN\n",
      "102m_A MYOGLOBIN\n",
      "103m_A MYOGLOBIN\n",
      "106m_A MYOGLOBIN\n",
      "107m_A MYOGLOBIN\n",
      "108m_A MYOGLOBIN\n",
      "109m_A MYOGLOBIN\n",
      "110m_A MYOGLOBIN\n",
      "111m_A MYOGLOBIN\n",
      "112m_A MYOGLOBIN\n",
      "1abs_A MYOGLOBIN\n",
      "1ch1_A PROTEIN (MYOGLOBIN)\n",
      "1ch2_A PROTEIN (MYOGLOBIN)\n",
      "1ch3_A PROTEIN (MYOGLOBIN)\n",
      "1ch5_A PROTEIN (MYOGLOBIN)\n",
      "1ch7_A PROTEIN (MYOGLOBIN)\n",
      "1ch9_A PROTEIN (MYOGLOBIN)\n",
      "1cik_A PROTEIN (MYOGLOBIN)\n",
      "1cio_A PROTEIN (MYOGLOBIN)\n",
      "1co8_A PROTEIN (MYOGLOBIN)\n",
      "1co9_A PROTEIN (MYOGLOBIN)\n",
      "1cp0_A PROTEIN (MYOGLOBIN)\n",
      "1cp5_A PROTEIN (MYOGLOBIN)\n",
      "1cpw_A PROTEIN (MYOGLOBIN)\n",
      "1do1_A MYOGLOBIN\n",
      "1do3_A MYOGLOBIN\n",
      "1do4_A MYOGLOBIN\n",
      "1do7_A MYOGLOBIN\n",
      "1dti_A PROTEIN (MYOGLOBIN)\n",
      "1dxc_A MYOGLOBIN\n",
      "1dxd_A MYOGLOBIN\n",
      "1f63_A MYOGLOBIN\n",
      "1f65_A MYOGLOBIN\n",
      "1fcs_A MYOGLOBIN\n",
      "1h1x_A MYOGLOBIN\n",
      "1irc_A MYOGLOBIN (METAQUO)\n",
      "1j3f_A Myoglobin\n",
      "1j52_A myoglobin\n",
      "1jdo_A MYOGLOBIN\n",
      "1jw8_A MYOGLOBIN\n",
      "1ltw_A MYOGLOBIN\n",
      "1lue_A Myoglobin\n",
      "1mcy_A MYOGLOBIN (CARBONMONOXY)\n",
      "1mgn_A METMYOGLOBIN\n",
      "1mlf_A MYOGLOBIN\n",
      "1mlg_A MYOGLOBIN\n",
      "1mlh_A MYOGLOBIN\n",
      "1mlj_A MYOGLOBIN\n",
      "1mlk_A MYOGLOBIN\n",
      "1mll_A MYOGLOBIN\n",
      "1mlm_A MYOGLOBIN\n",
      "1mln_A MYOGLOBIN\n",
      "1mlo_A MYOGLOBIN\n",
      "1mlq_A MYOGLOBIN\n",
      "1mlr_A MYOGLOBIN\n",
      "1mls_A MYOGLOBIN\n",
      "1mlu_A MYOGLOBIN\n",
      "1moa_A MYOGLOBIN\n",
      "1mob_A MYOGLOBIN\n",
      "1moc_A MYOGLOBIN\n",
      "1mod_A MYOGLOBIN\n",
      "1mti_A MYOGLOBIN\n",
      "1mtj_A MYOGLOBIN\n",
      "1mtk_A MYOGLOBIN\n",
      "1mym_A MYOGLOBIN\n",
      "1myz_A Myoglobin\n",
      "1mz0_A Myoglobin\n",
      "1n9f_A Myoglobin\n",
      "1n9h_A Myoglobin\n",
      "1n9i_A Myoglobin\n",
      "1n9x_A Myoglobin\n",
      "1naz_A Myoglobin\n",
      "1o16_A MYOGLOBIN\n",
      "1obm_A MYOGLOBIN\n",
      "1ofj_A MYOGLOBIN\n",
      "1ofk_A MYOGLOBIN\n",
      "1tes_A MYOGLOBIN\n",
      "1ufj_A MYOGLOBIN\n",
      "1ufp_A Myoglobin\n",
      "1v9q_A Myoglobin\n",
      "2e2y_A Myoglobin\n",
      "2eb8_A Myoglobin\n",
      "2eb9_A Myoglobin\n",
      "2ef2_A Myoglobin\n",
      "2g0r_A Myoglobin\n",
      "2g0s_A Myoglobin\n",
      "2g0v_A Myoglobin\n",
      "2g0x_A Myoglobin\n",
      "2g0z_A Myoglobin\n",
      "2g10_A Myoglobin\n",
      "2g11_A Myoglobin\n",
      "2g12_A Myoglobin\n",
      "2g14_A Myoglobin\n",
      "2jho_A Myoglobin\n",
      "2mbw_A MYOGLOBIN\n",
      "2mga_A MYOGLOBIN\n",
      "2mgb_A MYOGLOBIN\n",
      "2mgc_A MYOGLOBIN\n",
      "2mgd_A MYOGLOBIN\n",
      "2mge_A MYOGLOBIN\n",
      "2mgf_A MYOGLOBIN\n",
      "2mgg_A MYOGLOBIN\n",
      "2mgh_A MYOGLOBIN\n",
      "2mgi_A MYOGLOBIN\n",
      "2mgj_A MYOGLOBIN\n",
      "2mgk_A MYOGLOBIN\n",
      "2mgl_A MYOGLOBIN\n",
      "2mgm_A MYOGLOBIN\n",
      "2oh8_A Myoglobin\n",
      "2oh9_A Myoglobin\n",
      "2oha_A Myoglobin\n",
      "2ohb_A Myoglobin\n",
      "2spl_A MYOGLOBIN\n",
      "2spm_A MYOGLOBIN\n",
      "2spn_A MYOGLOBIN\n",
      "2spo_A MYOGLOBIN\n",
      "2w6w_A MYOGLOBIN\n",
      "2w6x_A MYOGLOBIN\n",
      "2w6y_A MYOGLOBIN\n",
      "3a2g_A Myoglobin\n",
      "3ase_A Myoglobin\n",
      "3h57_A Myoglobin\n",
      "3h58_A Myoglobin\n",
      "3nml_A Myoglobin\n",
      "3ogb_A Myoglobin\n",
      "3sdn_A Myoglobin\n",
      "3u3e_A Myoglobin\n",
      "4h07_A Myoglobin\n",
      "4h0b_A Myoglobin\n",
      "4it8_A Myoglobin\n",
      "4lpi_A Myoglobin\n",
      "4nxa_A Myoglobin\n",
      "4nxc_A Myoglobin\n",
      "4ood_A Myoglobin\n",
      "4pnj_A Myoglobin\n",
      "4pq6_A Myoglobin\n",
      "4pqb_A Myoglobin\n",
      "4pqc_A Myoglobin\n",
      "4qau_A Myoglobin\n",
      "5c6y_A Myoglobin\n",
      "5ile_A Myoglobin\n",
      "5ilm_A Myoglobin\n",
      "5ilp_A Myoglobin\n",
      "5ilr_A Myoglobin\n",
      "5jom_A Myoglobin\n",
      "5kkk_A Myoglobin\n",
      "5m3s_A Myoglobin\n",
      "5o41_A Myoglobin\n",
      "5oj9_A Myoglobin\n",
      "5oja_A Myoglobin\n",
      "5ojb_A Myoglobin\n",
      "5ojc_A Myoglobin\n",
      "5ut7_A Myoglobin\n",
      "5ut8_A Myoglobin\n",
      "5ut9_A Myoglobin\n",
      "5uta_A Myoglobin\n",
      "5utb_A Myoglobin\n",
      "5utc_A Myoglobin\n",
      "5utd_A Myoglobin\n",
      "5vzn_A Myoglobin\n",
      "5vzo_A Myoglobin\n",
      "5vzp_A Myoglobin\n",
      "5vzq_A Myoglobin\n",
      "5wjk_A Myoglobin\n",
      "5yce_A Myoglobin\n",
      "5yzf_A sperm whale myoglobin\n",
      "6bmg_A Myoglobin\n",
      "6bmg_B Myoglobin\n",
      "6cf0_A Myoglobin\n",
      "6e02_A Myoglobin\n",
      "6e03_A Myoglobin\n",
      "6e04_A Myoglobin\n",
      "6g5a_A Myoglobin\n",
      "6g5b_A Myoglobin\n",
      "6g5t_A Myoglobin\n",
      "6m8f_A Myoglobin\n",
      "6mv0_A Myoglobin\n",
      "6n02_A Myoglobin, CO-bound\n",
      "6n03_A Myoglobin, CO-bound\n"
     ]
    }
   ],
   "source": [
    "protein_start = 'MVLSEGEW'          # Her skriver du inn aminosyresekvensen \n",
    "treff = []\n",
    "print(protein_start)\n",
    "aminosyresekvens = list(data[\"aminosyresekvens\"])\n",
    "navn = list(data[\"navn\"])\n",
    "kode = list(data[\"kode\"])\n",
    "for i in range(len(aminosyresekvens)):\n",
    "    if aminosyresekvens[i].startswith(protein_start):\n",
    "        treff.append(i)\n",
    "        print(kode[i], navn[i])"
   ]
  },
  {
   "cell_type": "markdown",
   "metadata": {},
   "source": [
    "<div class=\"alert alert-block alert-success\">\n",
    "\n",
    "Når du har funnet navnet på et par proteiner kan du kan søke her etter mer info om proteinet her.\n",
    "https://www.rcsb.org/pages/search_features\n",
    "</div>"
   ]
  },
  {
   "cell_type": "markdown",
   "metadata": {},
   "source": [
    "### Plotte proteiner etter antall aminosyrer (work in progress)"
   ]
  },
  {
   "cell_type": "code",
   "execution_count": 35,
   "metadata": {},
   "outputs": [
    {
     "data": {
      "text/plain": [
       "<BarContainer object of 600 artists>"
      ]
     },
     "execution_count": 35,
     "metadata": {},
     "output_type": "execute_result"
    },
    {
     "data": {
      "image/png": "[encoded data removed]",
      "text/plain": [
       "<Figure size 432x288 with 1 Axes>"
      ]
     },
     "metadata": {
      "needs_background": "light"
     },
     "output_type": "display_data"
    }
   ],
   "source": [
    "from pylab import *\n",
    "\n",
    "values, counts = unique((df[df[\"ant_aminosyrer\"] <= 600][\"ant_aminosyrer\"]).values, return_counts = True)\n",
    "bar(values, counts, width = 1.0)"
   ]
  },
  {
   "cell_type": "markdown",
   "metadata": {},
   "source": [
    "## Andre bruksområde for kunnskap om DNA (work in progress)\n",
    "\n",
    "<div class=\"alert alert-block alert-success\">\n",
    "\n",
    "Det er flere som nå undersøker om man kan bruke DNA til å lagre data. Med dagens teknologi kan vi lagre data sikkert i ca 20 år uten at det tar skade eller blir endret. DNA-molekylet er veldig stabilt og kan lagre data over lang tid, [mer info her](https://www.ncbi.nlm.nih.gov/pmc/articles/PMC6415062/)\n",
    "\n",
    "[Etikk og patenter på DNA](https://www.forskningsetikk.no/ressurser/fbib/miljo/bioteknologi-og-genteknologi/)\n",
    "\n",
    "[CRISPR-teknologi](https://www.bioteknologiradet.no/temaer/genredigering-crispr/)\n",
    "</div>"
   ]
  },
  {
   "cell_type": "markdown",
   "metadata": {},
   "source": [
    "<div class=\"alert alert-block alert-info\">\n",
    "\n",
    "**Oppgave 10**\n",
    "\n",
    "Søk opp informasjon om skrap-DNA (junk-DNA).\n",
    "</div>"
   ]
  }
 ],
 "metadata": {
  "kernelspec": {
   "display_name": "Python 3",
   "language": "python",
   "name": "python3"
  },
  "language_info": {
   "codemirror_mode": {
    "name": "ipython",
    "version": 3
   },
   "file_extension": ".py",
   "mimetype": "text/x-python",
   "name": "python",
   "nbconvert_exporter": "python",
   "pygments_lexer": "ipython3",
   "version": "3.7.0"
  }
 },
 "nbformat": 4,
 "nbformat_minor": 2
}
