{
 "cells": [
  {
   "cell_type": "markdown",
   "metadata": {},
   "source": [
    "# Terningkast"
   ]
  },
  {
   "cell_type": "markdown",
   "metadata": {
    "slideshow": {
     "slide_type": "slide"
    }
   },
   "source": [
    "<div class=\"alert alert-block alert-danger\">\n",
    "    \n",
    "### Info til lærer\n",
    "    \n",
    "En del eksempler på kode der vi ser på ulike måter å kaste en/to/mange terning og visualiserer det på ulike måter. Dette er ikke et undervisningsopplegg (enda), men er ment til å skape ideer til opplegg eller programmer man kan vise/leke med i timen. Deler av dette kan passe for ungdomstrinnet og/eller S1-matematikk."
   ]
  },
  {
   "cell_type": "markdown",
   "metadata": {},
   "source": [
    "## Kast en terning en gang"
   ]
  },
  {
   "cell_type": "markdown",
   "metadata": {},
   "source": [
    "Her er en meget kort kode som bruker random-funksjonen i python til å tilfeldig generere et terningkast med en vanlig terning."
   ]
  },
  {
   "cell_type": "code",
   "execution_count": null,
   "metadata": {},
   "outputs": [],
   "source": [
    "from random import randint                      # Importerer kommandoen vi trenger å generere et tilfeldig tall\n",
    "\n",
    "print(\"Terningkastet ga:\", randint(1, 6))       # Programmet genererer og skriver ut resultatet på terningkastet"
   ]
  },
  {
   "cell_type": "markdown",
   "metadata": {},
   "source": [
    "## Kast en terning flere ganger"
   ]
  },
  {
   "cell_type": "markdown",
   "metadata": {},
   "source": [
    "Her øker vi antallet terningkast vi kjører til et gitt antall (```ant```)"
   ]
  },
  {
   "cell_type": "code",
   "execution_count": null,
   "metadata": {},
   "outputs": [],
   "source": [
    "from random import randint                      # Importerer kommandoen vi trenger å generere et tilfeldig tall\n",
    "\n",
    "ant = 10                                        # Setter antall kast\n",
    "\n",
    "for i in range(ant):                            # Løkke som løper gjennom \"ant\" kast\n",
    "    print(\"Terningkastet ga:\", randint(1, 6))   # Programmet genererer og skriver ut resultatet på terningkastet"
   ]
  },
  {
   "cell_type": "markdown",
   "metadata": {},
   "source": [
    "## Finne antall seksere"
   ]
  },
  {
   "cell_type": "markdown",
   "metadata": {},
   "source": [
    "Utvider ```for```-løkken over med en ```if```-setning slik at vi kan telle antall ganger vi får 6 på terningen. "
   ]
  },
  {
   "cell_type": "code",
   "execution_count": null,
   "metadata": {},
   "outputs": [],
   "source": [
    "from random import randint                      # Importerer kommandoen vi trenger å generere et tilfeldig tall\n",
    "\n",
    "ant = 10                                        # Setter antall kast\n",
    "gunstige = 0                                    # Variabel for antallet treff\n",
    "\n",
    "for i in range(ant):                            # Løkke som løper gjennom \"ant\" kast\n",
    "    kast = randint(1, 6)                        # Programmet genererer resultatet på terningkastet\n",
    "    if kast == 6:                               # Hvis kastet gir resultatet 6 ...\n",
    "        gunstige = gunstige + 1                 # ... øker vi antallet gunstige med en\n",
    "    print(kast)                                 # Skriver ut resultatet av kastet (kan tas vekk etterhvert)\n",
    "print(\"Antall seksere er\", gunstige)            # Skriver ut antallet kast som ga resultatet 6"
   ]
  },
  {
   "cell_type": "markdown",
   "metadata": {},
   "source": [
    "## Regne ut relativ sannsynlighet for å få 6"
   ]
  },
  {
   "cell_type": "code",
   "execution_count": null,
   "metadata": {},
   "outputs": [],
   "source": [
    "from random import randint                      # Importerer kommandoen vi trenger å generere et tilfeldig tall\n",
    "\n",
    "ant = 10                                        # Setter antall kast\n",
    "gunstige = 0                                    # Variabel for antallet treff\n",
    "\n",
    "for i in range(ant):                            # Løkke som løper gjennom \"ant\" kast\n",
    "    kast = randint(1, 6)                        # Programmet genererer resultatet på terningkastet\n",
    "    if kast == 6:                               # Hvis kastet gir resultatet 6 ...\n",
    "        gunstige = gunstige + 1                 # ... øker vi antallet gunstige med en\n",
    "    print(kast)                                 # Skriver ut resultatet av kastet (kan tas vekk etterhvert)\n",
    "print(\"Antall seksere er\", gunstige)            # Skriver ut antallet kast som ga resultatet 6\n",
    "\n",
    "relativ_sannsynlighet = round(gunstige/ant)     # Regner ut og runder ned relativ sannsynlighet\n",
    "print(\"Relativ sannsynlighet for å få 6 på\", ant, \"kast er\", relativ_sannsynlighet)    # Skriver ut resultatet"
   ]
  },
  {
   "cell_type": "markdown",
   "metadata": {},
   "source": [
    "## Øker til å kast to terninger"
   ]
  },
  {
   "cell_type": "code",
   "execution_count": null,
   "metadata": {},
   "outputs": [],
   "source": [
    "from random import randint                      # Importerer kommandoen vi trenger å generere et tilfeldig tall\n",
    "\n",
    "ant = 10                                        # Setter antall kast\n",
    "gunstige = 0                                    # Variabel for antallet treff\n",
    "\n",
    "for i in range(ant):                            # Løkke som løper gjennom \"ant\" kast\n",
    "    kast1 = randint(1, 6)                       # Programmet genererer resultatet første terningkast\n",
    "    kast2 = randint(1, 6)                       # Programmet genererer resultatet andre terningkast\n",
    "    if kast1 + kast 2 == 7:                     # Hvis summen av kastene gir resultatet 7 ...\n",
    "        gunstige = gunstige + 1                 # ... øker vi antallet gunstige med en\n",
    "    print(kast)                                 # Skriver ut resultatet av kastet (kan tas vekk etterhvert)\n",
    "print(\"Antall sum lik 7 er\", gunstige)            # Skriver ut antallet kast som ga resultatet 7\n",
    "\n",
    "relativ_sannsynlighet = round(gunstige/ant)     # Regner ut og runder ned relativ sannsynlighet\n",
    "print(\"Rel. sann. for å få 7 på\", ant, \"kast med to terninger er\", relativ_sannsynlighet)  # Skriver ut resultatet"
   ]
  },
  {
   "cell_type": "markdown",
   "metadata": {},
   "source": [
    "## Kaster to terninger flere ganger"
   ]
  },
  {
   "cell_type": "code",
   "execution_count": 7,
   "metadata": {},
   "outputs": [
    {
     "name": "stdout",
     "output_type": "stream",
     "text": [
      "Sum øyne lik 15 skjedde 8374 ganger.\n",
      "Relativ sannsynlighet for å få 15 på 100000 kast med 5 terninger er 0.084\n"
     ]
    }
   ],
   "source": [
    "from random import randint\n",
    "\n",
    "ant = 100000                             # Setter antallet ganger vi skal kaste\n",
    "ant_tern = 5                             # Setter antallet terninger\n",
    "gunstige = 0                             # Teller antallet gunstige\n",
    "Sum = 15                                 # Setter summen vi er på jakt etter\n",
    "\n",
    "for i in range(ant):                     # For hvert av kastene ...\n",
    "    kast = 0                             # setter vi startsummen til 0\n",
    "    for j in range(ant_tern):            # Så kaster vi terningene ...\n",
    "        kast = kast + randint(1, 6)      # ... en etter en til vi har kastet alle terningene\n",
    "    if kast == Sum:                      # Hvis summen av alle terningkasstene er lik summen vi er på jakt etter ...\n",
    "        gunstige = gunstige + 1          # ... så øker vi antallet gunsitge med 1\n",
    "\n",
    "print(\"Sum øyne lik\", Sum, \"skjedde\", gunstige, \"ganger.\")\n",
    "relativ_sannsynlighet = round(gunstige/ant, 3)\n",
    "print(\"Relativ sannsynlighet for å få\", Sum, \"på\", ant, \"kast med\", ant_tern, \"terninger er\", relativ_sannsynlighet)"
   ]
  },
  {
   "cell_type": "markdown",
   "metadata": {},
   "source": [
    "## Plotter resultatet for en terning i et barplot\n",
    "\n",
    "Starter med en terning"
   ]
  },
  {
   "cell_type": "code",
   "execution_count": 5,
   "metadata": {},
   "outputs": [
    {
     "name": "stdout",
     "output_type": "stream",
     "text": [
      "[19, 20, 8, 22, 19, 12]\n"
     ]
    },
    {
     "data": {
      "text/plain": [
       "<BarContainer object of 6 artists>"
      ]
     },
     "execution_count": 5,
     "metadata": {},
     "output_type": "execute_result"
    },
    {
     "data": {
      "image/png": "[encoded data removed]",
      "text/plain": [
       "<Figure size 432x288 with 1 Axes>"
      ]
     },
     "metadata": {
      "needs_background": "light"
     },
     "output_type": "display_data"
    }
   ],
   "source": [
    "from random import randint, choice\n",
    "import matplotlib.pyplot as plt\n",
    "\n",
    "ant = 100                      # Setter antallet ganger vi skal kaste\n",
    "kast = []                      # Tom liste der vi putter inn kastene våre\n",
    "fordeling = []                 # Tom liste der vi putter inn antall 1'ere, 2'ere, osv.\n",
    "terning = [1, 2, 3, 4, 5, 6]     # Sidene på terningen\n",
    "\n",
    "for i in range(ant):                  # Vi gjør ant kast ...\n",
    "    kast.append(choice(terning))      # og hver gang velger vi en tilfeldig side fra terning\n",
    "\n",
    "for j in terning:                       # For hver side av terningen ...\n",
    "    fordeling.append(kast.count(j))   # teller vi opp hvor mange vi har\n",
    "\n",
    "print(fordeling)\n",
    "plt.bar(terning, fordeling)"
   ]
  },
  {
   "cell_type": "markdown",
   "metadata": {},
   "source": [
    "## Plotter resultatet for to terninger i et barplot"
   ]
  },
  {
   "cell_type": "code",
   "execution_count": 3,
   "metadata": {},
   "outputs": [
    {
     "name": "stdout",
     "output_type": "stream",
     "text": [
      "[3, 8, 7, 7, 18, 17, 9, 15, 6, 7, 3]\n"
     ]
    },
    {
     "data": {
      "text/plain": [
       "<BarContainer object of 11 artists>"
      ]
     },
     "execution_count": 3,
     "metadata": {},
     "output_type": "execute_result"
    },
    {
     "data": {
      "image/png": "[encoded data removed]",
      "text/plain": [
       "<Figure size 432x288 with 1 Axes>"
      ]
     },
     "metadata": {
      "needs_background": "light"
     },
     "output_type": "display_data"
    }
   ],
   "source": [
    "from random import randint, choice\n",
    "import matplotlib.pyplot as plt\n",
    "\n",
    "ant = 100\n",
    "kast = []                      # Tom liste der vi putter inn kastene våre\n",
    "fordeling = []                 # Tom liste der vi putter inn antall 1'ere, 2'ere, osv.\n",
    "terning = [1, 2, 3, 4, 5, 6]     # Sidene på terningen\n",
    "\n",
    "for i in range(ant):                  # Vi gjør ant kast ...\n",
    "    kast1 = choice(terning)           # og hver gang velger vi en tilfeldig side fra terning\n",
    "    kast2 = choice(terning) \n",
    "    kast.append(kast1 + kast2)        # Legger sammen kastene i en liste\n",
    "\n",
    "resultat = list(set(kast))            # Finner alle unike resultat\n",
    "\n",
    "for j in resultat:                    # For hvert resultat ...\n",
    "    fordeling.append(kast.count(j))   # teller vi opp hvor mange vi har\n",
    "\n",
    "print(fordeling)\n",
    "plt.bar(resultat, fordeling)"
   ]
  },
  {
   "cell_type": "markdown",
   "metadata": {},
   "source": [
    "## Plotter resultatet for flere terninger i et barplot"
   ]
  },
  {
   "cell_type": "code",
   "execution_count": 5,
   "metadata": {},
   "outputs": [
    {
     "data": {
      "text/plain": [
       "<BarContainer object of 40 artists>"
      ]
     },
     "execution_count": 5,
     "metadata": {},
     "output_type": "execute_result"
    },
    {
     "data": {
      "image/png": "[encoded data removed]",
      "text/plain": [
       "<Figure size 432x288 with 1 Axes>"
      ]
     },
     "metadata": {
      "needs_background": "light"
     },
     "output_type": "display_data"
    }
   ],
   "source": [
    "from random import randint, choice\n",
    "import matplotlib.pyplot as plt\n",
    "\n",
    "ant = 10000                    # Setter antallet ganger vi skal kaste\n",
    "ant_tern = 10                   # Setter antallet terninger vi skal kaste hver gang\n",
    "kast = []                      # Tom liste der vi putter inn kastene våre\n",
    "fordeling = []                 # Tom liste der vi putter inn antall 1'ere, 2'ere, osv.\n",
    "terning = [1, 2, 3, 4, 5, 6]     # Sidene på terningen\n",
    "\n",
    "for i in range(ant):                  # Vi gjør ant kast ...\n",
    "    kast1 = 0\n",
    "    for i in range(ant_tern):\n",
    "        kast1 = kast1 + choice(terning)           # og hver gang velger vi en tilfeldig side fra terning\n",
    "    kast.append(kast1)        # Legger sammen kastene i en liste\n",
    "\n",
    "resultat = list(set(kast))            # Finner alle unike resultat\n",
    "\n",
    "for j in resultat:                    # For hvert resultat ...\n",
    "    fordeling.append(kast.count(j))   # teller vi opp hvor mange vi har\n",
    "\n",
    "# print(fordeling)\n",
    "plt.bar(resultat, fordeling)"
   ]
  },
  {
   "cell_type": "markdown",
   "metadata": {},
   "source": [
    "## Utvikling av relativ frekvens"
   ]
  },
  {
   "cell_type": "markdown",
   "metadata": {},
   "source": [
    "Dette er en programkode som viser utviklingen av relativ frekvens ettersom vi øker antallet terningkast. Koden er inneholder nå en del komplisert kode, så dette egner seg best for visning. Elevene kan likevel leke med koden, det vil si endre på enkelte variabler. "
   ]
  },
  {
   "cell_type": "code",
   "execution_count": 2,
   "metadata": {},
   "outputs": [
    {
     "data": {
      "image/png": "[encoded data removed]",
      "text/plain": [
       "<Figure size 432x288 with 1 Axes>"
      ]
     },
     "metadata": {
      "needs_background": "light"
     },
     "output_type": "display_data"
    }
   ],
   "source": [
    "from random import randint, choice\n",
    "import matplotlib.pyplot as plt\n",
    "from IPython import display\n",
    "\n",
    "ant = 200\n",
    "kast = []                       # Tom liste der vi putter inn kastene våre\n",
    "relativ_frekvens = []           # Tom liste der vi oppdaterer den relative frekvensen\n",
    "terning = [1, 2, 3, 4, 5, 6]    # Sidene på terningen\n",
    "x = []                          # Tom liste med antall kast vi har gjort\n",
    "\n",
    "for i in range(ant):                    # Vi gjør ant kast ...\n",
    "    kast.append(choice(terning))        # Legger sammen kastene i en liste\n",
    "    relativ_frekvens.append(sum(kast)/(i+1))\n",
    "    x.append(i+1)\n",
    "\n",
    "    display.clear_output(wait=True) \n",
    "    plt.scatter(x, relativ_frekvens, color = 'r', s = 5)\n",
    "    plt.axis([0, ant, 0, 7])\n",
    "    plt.axhline(y=3.5, color='k', ls = ':')\n",
    "    tid = \"Kast = \" + str(i+1)\n",
    "    plt.title(tid)\n",
    "    plt.pause(0.01)"
   ]
  },
  {
   "cell_type": "code",
   "execution_count": null,
   "metadata": {},
   "outputs": [],
   "source": []
  }
 ],
 "metadata": {
  "kernelspec": {
   "display_name": "Python 3",
   "language": "python",
   "name": "python3"
  },
  "language_info": {
   "codemirror_mode": {
    "name": "ipython",
    "version": 3
   },
   "file_extension": ".py",
   "mimetype": "text/x-python",
   "name": "python",
   "nbconvert_exporter": "python",
   "pygments_lexer": "ipython3",
   "version": "3.8.5"
  }
 },
 "nbformat": 4,
 "nbformat_minor": 4
}
