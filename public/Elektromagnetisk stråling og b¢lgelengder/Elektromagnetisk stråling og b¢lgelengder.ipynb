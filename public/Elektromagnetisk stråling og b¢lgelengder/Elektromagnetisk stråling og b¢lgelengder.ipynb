{
 "cells": [
  {
   "cell_type": "markdown",
   "metadata": {},
   "source": [
    "# Elektromagnetisk stråling\n",
    "\n",
    "<div class=\"alert alert-block alert-danger\">\n",
    "\n",
    "### Info til lærer:\n",
    "\n",
    "Målet med dette opplegget er at eleven skal bli kjent med og samle informasjon om ulike typer elektromagnetisk stråling, og sammenhengen mellom bølgelengde og frekvens. Det kan også brukes i forbindelse med opplæring i *if*-tester og grunnleggende programmering. \n",
    "</div>\n",
    "\n",
    "<div class=\"alert alert-block alert-success\">\n",
    "\n",
    "Nå skal vi lage et program som kan la oss utforske *elektromagnetisk stråling*. Dette er energi som overføres som *elektromagnetiske bølger*. I dette programmet skal vi se på hvordan bølgelengden til slike bølger kan fortelle oss hva slags elektromagnetisk stråling det er.\n",
    "<br><br>\n",
    "**Relevante kompetansemål:**\n",
    "- utforske og beskrive noen sentrale bølgefenomener\n",
    "- utforske og beskrive elektromagnetisk og ioniserende stråling\n",
    "</div>\n",
    "\n",
    "## Innhold\n",
    "- [Bakgrunn](#Bakgrunn)\n",
    "- [Bestemme elektromagnetisk stråling med programmering](#Bestemme-elektromagnetisk-stråling-med-programmering)\n",
    "- [Bølgelengde og frekvens](#Bølgelengde-og-frekvens)\n",
    "- [Bølgelengder til synlig lys](#Bølgelengder-til-synlig-lys)"
   ]
  },
  {
   "cell_type": "markdown",
   "metadata": {},
   "source": [
    "## Bakgrunn\n",
    "\n",
    "\n",
    "Vi er alltid omgitt av mange typer elektromagnetiske bølger. Noen av dem kan vi se, og dette kaller vi synlig lys - altså alt lyset du ser. Men det finnes også mye elektromagnetisk stråling man ikke kan se, som for eksempel radiobølger, mikrobølger og røntgenstråling. \n",
    "\n",
    "Elektromagnetiske bølger minner om mekaniske bølger. For eksempel følger de samme bevegelse, og begge frakter energi. Den store forskjellen på de to typene bølger, er at mekaniske bølger trenger et *medium* å forflytte seg gjennom, som luft eller vann. Elektromagnetiske bølger trenger ikke det, og det er derfor vi for eksempel kan se lys fra sola og stjernene, og motta satelittsignaler fra langt ute i verdensrommet.\n",
    "\n",
    "<img style=\"float\" src=\"em-spekter_lam_f.png\">"
   ]
  },
  {
   "cell_type": "markdown",
   "metadata": {},
   "source": [
    "De ulike typene elektromagnetisk stråling har forskjellige egenskaper, og det som skiller dem er *bølgelengdene* deres. Bølgelengden til en bølge er avstanden mellom to bølgetopper, og vi bruker gjerne den greske bokstaven $\\lambda$ for å betegne denne avstanden. Denne bokstaven kaller vi \"lambda\". \n",
    "\n",
    "<div class=\"alert alert-block alert-success\">\n",
    "\n",
    "Det er vanlig å bruke nanometer, eller \"nm\" som måleenhet for bølgelengden til elektromagnetiske bølger. En nanometer er en milliarddel av en meter. Dette kan vi også skrive som at $1\\, \\text{nm} = \\frac{1}{1000000000}\\, \\text{m}$, eller $1\\, \\text{nm} = 1^{-9} \\text{m}$. For eksempel har synlig lys bølgelengder mellom ca. $400\\, \\text{nm}$ og $750\\, \\text{nm}$.\n",
    "\n",
    "</div>\n",
    "\n",
    "<div class=\"alert alert-block alert-info\">\n",
    "\n",
    "**Oppgave 1**\n",
    "\n",
    "På bildet over ser du navnene på de forskjellige typene elektromagnetisk stråling. Hvilke har du hørt om før? Hva vet du om dem?  \n",
    "\n",
    "Samarbeid med partneren din og skriv litt om de forskjellige typene elektromagnetisk stråling i feltet under. Søk på nettet eller bruk læreboka for å finne informasjon.\n",
    "</div>"
   ]
  },
  {
   "cell_type": "markdown",
   "metadata": {},
   "source": [
    "**Gammastråling:**\n",
    "- ...\n",
    "- \n",
    "\n",
    "**Røntgenstråling:**\n",
    "- ...\n",
    "- \n",
    "\n",
    "**Ultrafiolett stråling**:\n",
    "- ...\n",
    "- \n",
    "\n",
    "**Synlig lys:**\n",
    "- ...\n",
    "- \n",
    "\n",
    "**Infrarød stråling:**\n",
    "- ...\n",
    "- \n",
    "\n",
    "\n",
    "**Mikrobølger:**\n",
    "- ...\n",
    "- \n",
    "\n",
    "**Radiobølger:**\n",
    "- ...\n",
    "- \n"
   ]
  },
  {
   "cell_type": "markdown",
   "metadata": {},
   "source": [
    "## Bestemme elektromagnetisk stråling med programmering\n",
    "\n",
    "Nå skal vi bygge opp et program som kan fortelle oss hva slags elektromagnetisk stråling vi har når vi forteller bølgelengden til strålingen. Under ser du en halvferdig kode, der vi bruker funksjonen `input()` for å få en bølgelengde i nanometer (nm) fra den som bruker programmet. Programmet skal så gi en fornuftig beskjed til brukeren om hva slags stråling det er.\n",
    "\n",
    "Vi bruker en *if*-test for å bestemme type stråling. En *if*-test er en rekke valg, der vi trinnvis undersøker om noe er sant eller ikke. "
   ]
  },
  {
   "cell_type": "markdown",
   "metadata": {},
   "source": [
    "<div class=\"alert alert-block alert-info\">\n",
    "\n",
    "**Oppgave 2**\n",
    "\n",
    "Fyll inn der det står spørsmålstegn `???` i koden under for å få den til å gi mening.\n",
    "<br><br>\n",
    "Tenk gjennom:\n",
    "- Hvis den første testen er sann, altså `if bølgelengde < ???`, skal vi få beskjeden <span style=\"font-family:'Courier New'\">Dette er elektromagnetisk stråling med kortere bølgelengde enn synlig lys.</span> For hvilke verdier av `bølgelengde` stemmer det?\n",
    "- I den neste testen, `elif bølgelengde < 750`, undersøker vi om bølgelengden er mellom 750 og den grensa vi satt i testen `if bølgelengde < ???`. Hva slags elektromagnetisk stråling er det?\n",
    "\n",
    "</div>"
   ]
  },
  {
   "cell_type": "code",
   "execution_count": null,
   "metadata": {},
   "outputs": [],
   "source": [
    "bølgelengde = float(input(\"Skriv inn bølgelengde i nm: \"))\n",
    "print(\"Du har valgt bølgelengde\", bølgelengde, \"nm\")\n",
    "\n",
    "if bølgelengde < ???:\n",
    "    print(\"Dette er elektromagnetisk stråling med kortere bølgelengde enn synlig lys.\")\n",
    "elif bølgelengde < 750: \n",
    "    print(\"Dette er ???\")\n",
    "else:\n",
    "    print(\"Dette er elektromagnetisk stråling med lengre bølgelengde enn synlig lys.\")"
   ]
  },
  {
   "cell_type": "markdown",
   "metadata": {},
   "source": [
    "### Vi utvider programmet\n",
    "\n",
    "Som du kan se på bildet lenger opp på siden, deler vi stråling med kortere bølgelengde i synlig lys inn i *gammastråling*, *røntgenstråling* og *ultrafiolett stråling*. Stråling med lengre bølgelengde enn synlig lys deles inn i *infrarød stråling*, *mikrobølger* og *radiobølger*. Vi kan ikke si nøyaktig hvor grensene mellom de forskjellige går, men her er en oversikt over de ulike strålingstypene med omtrentlige intervall for bølgelengdene:\n",
    "\n",
    "|Type elektromagnetisk stråling |Bølgelengde i nanometer (nm) | Bølgelengde i andre lengdeenheter |\n",
    "| :-: | :-: | :-: |\n",
    "| Gammastråling         | Under 0,01 nm | |\n",
    "| Røntgenstråling       | 0,01 - 10 nm  | |\n",
    "| Ultrafiolett stråling | 10 - 400 nm   | |\n",
    "| Synlig lys            | 400 - 750 nm  | |\n",
    "| Infrarød stråling     | 750 - 1'000'000 nm           | 750 nm - 1 mm |\n",
    "| Mikrobølger           | 1'000'000 - 1'000'000'000 nm | 1 mm - 1 m    |\n",
    "| Radiobølger           | Over 1'000'000'000 nm        | Over 1 m      |\n",
    "    \n",
    "<img style=\"float\" src=\"em-spekter_egenskaper.jpg\">"
   ]
  },
  {
   "cell_type": "markdown",
   "metadata": {},
   "source": [
    "<div class=\"alert alert-block alert-info\">\n",
    "\n",
    "**Oppgave 3:**\n",
    "\n",
    "1. Bruk tabellen for å utvide koden din til å undersøke for flere typer stråling. Dette kan du gjøre ved å legge inn flere tester i koden. Snakk med partneren din om hvordan du vil gå fram før du begynner å skrive programmet.\n",
    "\n",
    "\n",
    "2. Få programmet til å skrive ut en linje som forteller brukeren om de elektromagnetiske bølgene de har skrevet inn bølgelengden til. Bruk det du skrev om de forskjellige strålingstypene i oppgave 1. For synlig lys i intervallet 400 - 750 nm kan beskjeden for eksempel være:\n",
    "```python\n",
    "elif bølgelengde < 750:\n",
    "     print(\"Dette er synlig lys\")\n",
    "     print(\"Synlig lys kan deles inn i ROGGBIF-fargene rød, oransje, gul, grønn, blå, indigo og fiolett.\")\n",
    "```\n",
    "\n",
    "Du finner et forslag lenger ned - men prøv selv først!\n",
    "\n",
    "</div>"
   ]
  },
  {
   "cell_type": "code",
   "execution_count": null,
   "metadata": {},
   "outputs": [],
   "source": [
    "# Her kan du lime inn koden du lagde i forrige oppgave for å bygge videre på den:\n",
    "\n",
    "\n",
    "\n"
   ]
  },
  {
   "cell_type": "markdown",
   "metadata": {},
   "source": [
    ".\n",
    "\n",
    ".\n",
    "\n",
    ".\n",
    "\n",
    ".\n",
    "\n",
    ".\n",
    "\n",
    ".\n",
    "\n",
    ".\n",
    "\n",
    ".\n",
    "\n",
    ".\n",
    "\n",
    ".\n",
    "\n",
    ".\n",
    "\n",
    ".\n",
    "\n",
    ".\n",
    "\n",
    ".\n",
    "\n",
    ".\n",
    "\n",
    ".\n",
    "\n",
    ".\n",
    "\n",
    ".\n",
    "\n",
    ".\n",
    "\n",
    "."
   ]
  },
  {
   "cell_type": "code",
   "execution_count": null,
   "metadata": {},
   "outputs": [],
   "source": [
    "bølgelengde = float(input(\"Skriv inn bølgelengde i nm: \"))\n",
    "print(\"Du har valgt bølgelengde\", bølgelengde, \"nm\")\n",
    "\n",
    "if bølgelengde < 0.01:\n",
    "    print(\"Dette er gammastråling.\")\n",
    "    print(\"Gammastråling er energirik, radioaktiv stråling. Det kan brukes i kreftbehandling, men kan også være veldig skadelig.\")\n",
    "elif bølgelengde < 10:\n",
    "    print(\"Dette er røntgenstråling.\")\n",
    "    print(\"Røntgenstråling gjennomlyse stoff som er ugjennomsiktige for vanlig lys slik at vi kan ta bilder av beinstrukturen til levende mennesker (røntgenbilder).\")\n",
    "elif bølgelengde < 400:\n",
    "    print(\"Dette er ultrafiolett stråling.\")\n",
    "    print(\"Ultrafiolett stråling kalles også UV-stråling (ultraviolet), og er viktig for helsa vår, men kan også gi hud- og øyeskader i store doser.\")\n",
    "elif bølgelengde < 750:\n",
    "    print(\"Dette er synlig lys.\")\n",
    "    print(\"Synlig lys kan deles inn i ROGGBIF-fargene rød, oransje, gul, grønn, blå, indigo og fiolett.\")\n",
    "elif bølgelengde < 1000000:\n",
    "    print(\"Dette er infrarød stråling.\")\n",
    "    print(\"Infrarød stråling overfører varme, f.eks. fra sola eller en vedovn.\")\n",
    "elif bølgelengde < 1000000000:\n",
    "    print(\"Dette er mikrobølger.\")\n",
    "    print(\"Mikrobølger brukes særlig til oppvarming av mat i en mikrobølgeovn, ved at mikrobølgene får vann- og fettmolekylene til å vibrere slik at de varmes opp.\")\n",
    "else:\n",
    "    print(\"Dette er radiobølger.\")\n",
    "    print(\"Radiobølger har lang bølgelengde, og derfor passer de godt til å sende signaler over lange avstander, og brukes til både kommunikasjon og navigasjon.\")"
   ]
  },
  {
   "cell_type": "markdown",
   "metadata": {},
   "source": [
    "## Bølgelengde og frekvens\n",
    "\n",
    "Bølger med lang bølgelengde har lav *frekvens*. Det vil si at de ikke svinger så fort som noe som har høy frekvens og kort bølgelengde. Radiobølger har for eksempel veldig lang bølgelengde, så de svinger mye saktere enn bølgene til gammastråling, som har kortere bølgelengde.\n",
    "\n",
    "Bølgelengde og frekvens har denne sammenhengen:\n",
    "\n",
    "$$ v = f \\cdot \\lambda$$\n",
    "\n",
    "der $v$ er bølgefarten i m/s (meter per sekund), $f$ er frekvensen i Hz (svingninger per sekund), og $\\lambda$ er bølgelengden i meter. *Bølgefart* er hvor fort en bølge beveger seg bortover.\n",
    "\n",
    "<div class=\"alert alert-block alert-success\">\n",
    "\n",
    "Elektromagnetiske bølger beveger seg med farten $c = 3 \\cdot 10^8$ m/s, som er lysets hastighet. \n",
    "\n",
    "</div>"
   ]
  },
  {
   "cell_type": "markdown",
   "metadata": {},
   "source": [
    "<div class=\"alert alert-block alert-danger\">\n",
    "\n",
    "### Info til lærer:\n",
    "\n",
    "Velg én av variantene av oppgave 4 (under).\n",
    "</div>"
   ]
  },
  {
   "cell_type": "markdown",
   "metadata": {},
   "source": [
    "<div class=\"alert alert-block alert-info\">\n",
    "\n",
    "**Oppgave 4 - ALTERNATIV 1 (eleven må bygge opp mesteparten av koden selv)**\n",
    "\n",
    "1. Finn formelen for å regne om fra en bølgelengde $\\lambda$ oppgitt i nm ($10^{-9}$ m) til en frekvens $f$ oppgitt i THz ($10^{12}$ Hz)\n",
    "\n",
    "\n",
    "2. Finn formelen for å regne om fra en frekvens $f$ oppgitt i THz ($10^{12}$ Hz) til en bølgelengde $\\lambda$ oppgitt i nm ($10^{-9}$ m)\n",
    "\n",
    "\n",
    "3. Skriv et program der du bruker disse formlene. Programmet skal først innhente informasjon fra den som bruker det om du vil ha inn frekvens (f) eller bølgelengde (b). \n",
    "    - Hvis man velger frekvens, skal programmet skrive ut hvilken bølgelengde det tilsvarer. \n",
    "    - Hvis man velger bølgelengde, skal programmet skrive ut hvilken frekvens det tilsvarer. \n",
    "    - Bølgelengden skal være i nm, og frekvensen i THz.\n",
    "\n",
    "Du finner et forslag lenger ned.\n",
    "\n",
    "</div>"
   ]
  },
  {
   "cell_type": "code",
   "execution_count": null,
   "metadata": {},
   "outputs": [],
   "source": [
    "f_eller_b = input(\"Vil du oppgi frekvens(f) eller bølgelengde(b)? \")\n",
    "\n",
    "c = ???     # Lysets hastighet i m/s\n",
    "\n",
    "if f_eller_b == 'f':\n",
    "    ???                     # Skriv hva som skal skje hvis man velger frekvens(f)\n",
    "elif f_eller_b == 'b':\n",
    "    ???                     # Skriv hva som skal skje hvis man velger bølgelengde(b)\n",
    "else:\n",
    "    print(\"Du må skrive inn enten f eller b.\")"
   ]
  },
  {
   "cell_type": "markdown",
   "metadata": {},
   "source": [
    "<div class=\"alert alert-block alert-info\">\n",
    "\n",
    "**Oppgave 4 - ALTERNATIV 2 (utfylling av kode, eleven får de \"kjedelige\" greiene ferdig skrevet)**\n",
    "\n",
    "1. Finn formelen for å regne om fra en bølgelengde $\\lambda$ oppgitt i nm ($10^{-9}$ m) til en frekvens $f$ oppgitt i THz ($10^{12}$ Hz)\n",
    "\n",
    "\n",
    "2. Finn formelen for å regne om fra en frekvens $f$ oppgitt i THz ($10^{12}$ Hz) til en bølgelengde $\\lambda$ oppgitt i nm ($10^{-9}$ m)\n",
    "\n",
    "\n",
    "3. Bruk disse formlene for å fullføre programmet under. Programmet skal først innhente informasjon fra den som bruker det om du vil ha inn frekvens (f) eller bølgelengde (b). \n",
    "    - Hvis man velger frekvens, skal programmet skrive ut hvilken bølgelengde det tilsvarer. \n",
    "    - Hvis man velger bølgelengde, skal programmet skrive ut hvilken frekvens det tilsvarer. \n",
    "    - Bølgelengden skal være i nm, og frekvensen i THz.\n",
    "\n",
    "Du finner et forslag lenger ned.\n",
    "\n",
    "</div>"
   ]
  },
  {
   "cell_type": "code",
   "execution_count": null,
   "metadata": {},
   "outputs": [],
   "source": [
    "f_eller_b = input(\"Vil du oppgi frekvens(f) eller bølgelengde(b)? \")\n",
    "\n",
    "c = ???     # Lysets hastighet i m/s\n",
    "\n",
    "if f_eller_b == 'f':\n",
    "    frekvens = float(input(\"Skriv inn frekvensen i THz: \"))\n",
    "    bølgelengde = ???\n",
    "    print(\"Dette tilsvarer en bølgelengde på\", bølgelengde, \"nm\")\n",
    "    \n",
    "elif f_eller_b == 'b':\n",
    "    bølgelengde = float(input(\"Skriv inn bølgelengde i nm: \"))\n",
    "    frekvens = ???\n",
    "    print(\"Dette tilsvarer frekvensen\", frekvens, \"THz\")\n",
    "    \n",
    "else:\n",
    "    print(\"Du må skrive inn enten f eller b.\")"
   ]
  },
  {
   "cell_type": "markdown",
   "metadata": {},
   "source": [
    ".\n",
    "\n",
    ".\n",
    "\n",
    ".\n",
    "\n",
    ".\n",
    "\n",
    ".\n",
    "\n",
    ".\n",
    "\n",
    ".\n",
    "\n",
    ".\n",
    "\n",
    ".\n",
    "\n",
    ".\n",
    "\n",
    ".\n",
    "\n",
    ".\n",
    "\n",
    ".\n",
    "\n",
    ".\n",
    "\n",
    ".\n",
    "\n",
    ".\n",
    "\n",
    ".\n",
    "\n",
    ".\n",
    "\n",
    ".\n",
    "\n",
    "."
   ]
  },
  {
   "cell_type": "code",
   "execution_count": null,
   "metadata": {},
   "outputs": [],
   "source": [
    "f_eller_b = input(\"Vil du oppgi frekvens(f) eller bølgelengde(b)? \")\n",
    "\n",
    "c = 3 * 10**8\n",
    "\n",
    "if f_eller_b == 'f':\n",
    "    frekvens = float(input(\"Skriv inn frekvensen i THz: \"))\n",
    "    bølgelengde = c / (frekvens * 1000)\n",
    "    print(\"Dette tilsvarer en bølgelengde på\", bølgelengde, \"nm\")\n",
    "    \n",
    "elif f_eller_b == 'b':\n",
    "    bølgelengde = float(input(\"Skriv inn bølgelengde i nm: \"))\n",
    "    frekvens = c / (bølgelengde * 1000)\n",
    "    print(\"Dette tilsvarer frekvensen\", frekvens, \"THz\")\n",
    "    \n",
    "else:\n",
    "    print(\"Du må skrive inn enten f eller b.\")\n",
    "\n",
    "    \n",
    "# Vi kan også sette dette sammen med koden vi har laget fra før:\n",
    "\n",
    "if bølgelengde < 0.01:\n",
    "    print(\"Dette er gammastråling.\")\n",
    "elif bølgelengde < 10:\n",
    "    print(\"Dette er røntgenstråling.\")\n",
    "elif bølgelengde < 400:\n",
    "    print(\"Dette er ultrafiolett stråling.\")\n",
    "elif bølgelengde < 750:\n",
    "    print(\"Dette er synlig lys.\")\n",
    "elif bølgelengde < 1000:\n",
    "    print(\"Dette er infrarød stråling.\")\n",
    "elif bølgelengde < 1000000:\n",
    "    print(\"Dette er mikrobølger.\")\n",
    "else:\n",
    "    print(\"Dette er radiobølger.\")"
   ]
  },
  {
   "cell_type": "markdown",
   "metadata": {},
   "source": [
    "## Bølgelengder til synlig lys"
   ]
  },
  {
   "cell_type": "markdown",
   "metadata": {},
   "source": [
    "<div class=\"alert alert-block alert-danger\">\n",
    "\n",
    "### Info til lærer:\n",
    "\n",
    "Denne delen av opplegget går litt utover naturfagpensummet, men kan være en måte å visualisere hvordan de ulike fargene i synlig lys har forskjellige bølgelengder.\n",
    "</div>"
   ]
  },
  {
   "cell_type": "markdown",
   "metadata": {},
   "source": [
    "Synlig lys har bølgelengder mellom ca. 400 og 750 nm, og er de eneste bølgene vi kan se på det elektromagnetiske spektret. Bølgelengdene til lyset påvirker hvilken farge det har: Rødt lys har de lengst bølgelengdene, mens fiolett lys har de korteste. \n",
    "\n",
    "Nå skal vi plotte lys med ulike farger i samme koordinatsystem, for å sammenlikne dem og se hvordan bølgene deres oppfører seg.\n",
    "\n",
    "<img style=\"float\" src=\"em_lysbolger.gif\">\n",
    "\n",
    "For å tegne bølgene til de ulike lysfargene i Python bruker vi noe som kalles \"dictionaries\", eller *ordbøker*. Da kan programmet oversette fra en verdi til en annen."
   ]
  },
  {
   "cell_type": "code",
   "execution_count": null,
   "metadata": {},
   "outputs": [],
   "source": [
    "# Ordbok som oversetter fra norsk fargenavn til engelsk:\n",
    "n_til_e = {'rød':     'red', \n",
    "           'oransje': 'orange', \n",
    "           'gul':     'yellow', \n",
    "           'grønn':   'lime', \n",
    "           'turkis':  'cyan', \n",
    "           'blå':     'blue', \n",
    "           'fiolett': 'magenta'}  \n",
    "\n",
    "# Ordbok som oversetter fra engelsk fargenavn til bølgelengde i nm:\n",
    "b_lengder = {'red':     700, \n",
    "             'orange':  610, \n",
    "             'yellow':  580, \n",
    "             'lime':    540,\n",
    "             'cyan':    485,  \n",
    "             'blue':    460, \n",
    "             'magenta': 400}"
   ]
  },
  {
   "cell_type": "markdown",
   "metadata": {},
   "source": [
    "Vi skal også lage en funksjon for å lage bølgebevegelsen:"
   ]
  },
  {
   "cell_type": "code",
   "execution_count": null,
   "metadata": {},
   "outputs": [],
   "source": [
    "import numpy as np\n",
    "\n",
    "# Funksjon som lager en sinusbølge med bølgelengde lam (for \"lambda\") for gitte x-verdier\n",
    "def bølge(lam, x):\n",
    "    k = 2 * np.pi / lam\n",
    "    return np.sin(k * x)"
   ]
  },
  {
   "cell_type": "markdown",
   "metadata": {},
   "source": [
    "Til slutt setter vi alt sammen, og med en `input()`-funksjon kan vi velge hvor mange ganger vi vil se av gangen, og hvilke farger det skal være."
   ]
  },
  {
   "cell_type": "code",
   "execution_count": 20,
   "metadata": {},
   "outputs": [
    {
     "name": "stdout",
     "output_type": "stream",
     "text": [
      "Skriv hvor mange bølger du vil programmet skal tegne (mellom 1 og 7): 3\n",
      "Skriv fargen du vil ha (rød, oransje, gul, grønn, turkis, blå eller fiolett): gul\n",
      "Skriv fargen du vil ha (rød, oransje, gul, grønn, turkis, blå eller fiolett): blå\n",
      "Skriv fargen du vil ha (rød, oransje, gul, grønn, turkis, blå eller fiolett): grønn\n"
     ]
    },
    {
     "data": {
      "image/png": "[encoded data removed]",
      "text/plain": [
       "<Figure size 1152x288 with 1 Axes>"
      ]
     },
     "metadata": {},
     "output_type": "display_data"
    }
   ],
   "source": [
    "import numpy as np\n",
    "import matplotlib.pyplot as plt\n",
    "\n",
    "n_til_e = {'rød': 'red',     'oransje': 'orange', 'gul': 'yellow',     'grønn': 'lime', \n",
    "           'turkis': 'cyan', 'blå': 'blue',       'fiolett': 'magenta'}  \n",
    "\n",
    "b_lengder = {'red': 700,   'orange': 610, 'yellow': 580, 'lime': 540,\n",
    "             'cyan': 485,  'blue': 460,   'magenta': 400}\n",
    "\n",
    "def bølge(lam, x):\n",
    "    k = 2 * np.pi / lam\n",
    "    return np.sin(k * x)\n",
    "\n",
    "x_max = 4000\n",
    "x = np.linspace(0, x_max, 1001)     # x inneholder verdier fra 0 til 2000, og skal brukes til å tegne grafen\n",
    "\n",
    "# Nå skal vi tegne figuren:\n",
    "plt.style.use('dark_background')    # Her gir vi plottet mørk bakgrunn, fordi det ser kult ut\n",
    "plt.figure(figsize=(16, 4))         # Bestemmer størrelsen til figuren\n",
    "\n",
    "antall = int(input(\"Skriv hvor mange bølger du vil programmet skal tegne (mellom 1 og 7): \"))\n",
    "\n",
    "if antall >= 7:                     # Dersom man ber om 7 eller flere, tegner vi alle i \"b_lengder\"\n",
    "    for farge in b_lengder:         # Her løkker vi gjennom \"b_lengder\" og plotter alle bølgene\n",
    "        y = bølge(b_lengder[farge], x)\n",
    "        plt.plot(x, y, color=farge)\n",
    "else:\n",
    "    for i in range(antall):         # Hvis man vil ha færre enn syv bølger, får man velge fargene\n",
    "        farge = input(\"Skriv fargen du vil ha (rød, oransje, gul, grønn, turkis, blå eller fiolett): \")\n",
    "        farge = n_til_e[farge]      # Fargenavnet oversettes slik at det kan brukes i plottingen\n",
    "        y = bølge(b_lengder[farge], x)\n",
    "        plt.plot(x, y, color=farge)\n",
    "\n",
    "plt.show()"
   ]
  }
 ],
 "metadata": {
  "kernelspec": {
   "display_name": "Python 3",
   "language": "python",
   "name": "python3"
  },
  "language_info": {
   "codemirror_mode": {
    "name": "ipython",
    "version": 3
   },
   "file_extension": ".py",
   "mimetype": "text/x-python",
   "name": "python",
   "nbconvert_exporter": "python",
   "pygments_lexer": "ipython3",
   "version": "3.7.0"
  }
 },
 "nbformat": 4,
 "nbformat_minor": 2
}
