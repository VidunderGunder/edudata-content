{
 "cells": [
  {
   "cell_type": "markdown",
   "metadata": {},
   "source": [
    "# Andregradslikninger"
   ]
  },
  {
   "cell_type": "markdown",
   "metadata": {
    "slideshow": {
     "slide_type": "slide"
    }
   },
   "source": [
    "<div class=\"alert alert-block alert-danger\">\n",
    "    \n",
    "### Info til lærer\n",
    "    \n",
    "Opplegget er tenkt å implementeres etter at elevene har lært om andregradsformelen og egenskaper til andregradsfunksjoner. Fokuset er på at elevene skal diskutere og få en dypere forståelse av egenskaper til andregradsfunksjoner i tillegg til å lage et program som gjør en del utregninger for dem. Erfaringsmessig synes elevene at dette er litt tungvindt i begynnelsen, men de vil etterhvert se at programmet er effektivt. \n",
    "    \n",
    "Utformingen tar utgangspunkt i at elevene kun kan litt grunnleggende programmering, og mye kode er gitt slik at fokuset kan være på matematikken. Dette kan læreren selvsagt endre etter nivået til klassen."
   ]
  },
  {
   "cell_type": "markdown",
   "metadata": {},
   "source": [
    "<div class=\"alert alert-block alert-warning\">\n",
    "\n",
    "#### Kompetansemål i 1T    \n",
    "    \n",
    "Mål for opplæringen er at eleven skal kunne\n",
    "\n",
    "- utforske sammenhenger mellom andregradslikninger og andregradsulikheter, andregradsfunksjoner og kvadratsetningaene og bruke sammenhengene i problemløsing\n",
    "- formulere og løse problemer ved hjelp av algoritmisk tenking, ulike problemløsingsstrategier, digitale verktøy og programmering\n",
    "\n",
    "</div>"
   ]
  },
  {
   "cell_type": "markdown",
   "metadata": {},
   "source": [
    "<div class=\"alert alert-block alert-success\">\n",
    "\n",
    "Vi skal lage et program som gir all informasjon vi kommer til å trenge om en gitt andregradsfunksjon.\n",
    "\n",
    "</div>"
   ]
  },
  {
   "cell_type": "markdown",
   "metadata": {},
   "source": [
    "**Innhold**\n",
    "\n",
    "- [Steg 1 – Hente inn funksjonen](#Steg-1-–-Hente-inn-funksjonen)\n",
    "- [Steg 2 – Plotte funksjonen](#Steg-2-–-Plotte-funksjonen)\n",
    "- [Steg 3 – Pynte på grafen](#Steg-3-–-Pynte-på-grafen)\n",
    "- [Steg 4 – Nullpunkter](#Steg-4-–-Nullpunkter)\n",
    "- [Steg 5 – Unntak og if-setninger](#Steg-5-–-Unntak-og-if-setninger)\n",
    "- [Steg 6 – Andre egenskaper](#Steg-6-–-Andre-egenskaper)"
   ]
  },
  {
   "cell_type": "markdown",
   "metadata": {},
   "source": [
    "## Steg 1 – Hente inn funksjonen"
   ]
  },
  {
   "cell_type": "markdown",
   "metadata": {},
   "source": [
    "Vi starter med å hente inn informasjon fra brukeren om funksjonen. Hvor mye informasjon trenger vi?\n",
    "\n",
    "La oss bruke følgende andregradsfunksjon som eksempel: $$f(x) = x^2 - x - 2$$"
   ]
  },
  {
   "cell_type": "markdown",
   "metadata": {},
   "source": [
    "<div class=\"alert alert-block alert-info\">\n",
    "\n",
    "#### Oppgave 1\n",
    "\n",
    "Diskuter med sidemannen:\n",
    "\n",
    "<br>\n",
    "\n",
    "a) Hvor mye informasjon trenger vi å vite om andregradsfunksjonen ovenfor for å kunne lage en identisk funksjon? \n",
    "\n",
    "<br>\n",
    "\n",
    "b) Hva trenger vi å vite for å kunne tegne en graf over en andregradsfunksjon? Trenger vi mer, mindre eller samme mengde med informasjon?\n",
    "</div>"
   ]
  },
  {
   "cell_type": "markdown",
   "metadata": {},
   "source": [
    "En god ting med programmering er at vi kan endre på programmet seinere hvis vi ser at vi ikke har hentet inn nok informasjon. \n",
    "\n",
    "Vi bruker $abc$-formelen til å finne nullpunktene til funksjonen. Ut fra dette virker det fornuftig å hente inn verdiene til $a$, $b$ og $c$. Vi bruker `input()`-kommandoen i kombinasjon med `float()`-kommandoen for å hente inn verdien til $a$, $b$ og $c$:"
   ]
  },
  {
   "cell_type": "markdown",
   "metadata": {},
   "source": [
    "```python\n",
    "a = float(input(\"Skriv inn koeffisienten foran x^2-leddet: \"))\n",
    "b = float(input(\"Skriv inn koeffisienten foran x-leddet: \"))\n",
    "c = float(input(\"Skriv inn konstantleddet: \"))\n",
    "```"
   ]
  },
  {
   "cell_type": "markdown",
   "metadata": {},
   "source": [
    "Her kommer enda en fordel med programmering. Vi kan selv bestemme hva programmet skal spørre om. Hvis du for eksempel synes det er lettere å spørre om verdiene til $a$, $b$ og $c$ til det generelle uttrykket $ax^2 + bx + c = 0$ kan du endre den røde teksten. Dette gjør at du kan lage et program som spør etter informasjon på en måte som er tilpasset deg."
   ]
  },
  {
   "cell_type": "markdown",
   "metadata": {},
   "source": [
    "## Steg 2 – Plotte funksjonen"
   ]
  },
  {
   "cell_type": "markdown",
   "metadata": {},
   "source": [
    "For å kunne tegne grafen må det lages et sett med koordinater. Vi lager først en rekke med $x$–verdier (kalt en \"array\") med kommandoen `linspace(start, slutt, antall)`. Denne kommandoen ligger imidlertid ikke inne i \"grunnpakken\" til Python, men den finnes i Python-biblioteket `numpy`. For å hente fram kommandoene må vi importere dem, og det gjøres ved kommandolinja `import numpy as np`. \n",
    "\n",
    "Dette gjør at alt fra biblioteket numpy kan kalles på ved å skrive `np.<kommando>`, for eksempel kan kommandoen `linspace()` brukes ved å skrive `np.linspace()`. Kommandoer for å importere biblioteker settes alltid øverst i programkoden."
   ]
  },
  {
   "cell_type": "markdown",
   "metadata": {},
   "source": [
    "```python\n",
    "import numpy as np\n",
    "```"
   ]
  },
  {
   "cell_type": "markdown",
   "metadata": {},
   "source": [
    "<div class=\"alert alert-block alert-success\">\n",
    "\n",
    "`pylab`-kommandoen `linspace(start, slutt, antall)` har tre input-parametere:\n",
    "\n",
    "- `start`, som er startverdien til tallrekken\n",
    "\n",
    "- `slutt`, som er sluttverdien til tallrekken\n",
    "\n",
    "- `antall`, som er antall tall i tallrekken\n",
    "\n",
    "Vi lager tallrekken med $x$-verdier ved å bytte ut `start`, `slutt` og `antall` med passende tall.\n",
    "\n",
    "</div>"
   ]
  },
  {
   "cell_type": "markdown",
   "metadata": {},
   "source": [
    "```python\n",
    "x = linspace(-10, 10, 1001)\n",
    "```"
   ]
  },
  {
   "cell_type": "markdown",
   "metadata": {},
   "source": [
    "Denne kodebiten deler opp intervallet for $x$ mellom $–10$ og $10$ i $1001$ biter, dvs $-10{,}0, ~-9{,}98, ~-9{,}96, \\cdots , ~-0{,}01, ~0, ~0{,}01, \\cdots , ~9{,96}, ~9{,}98, ~10{,}0$.\n",
    "\n",
    "Vi regner så ut den tilhørende funksjonsverdien (ofte kalt y-verdien) ved å bruke funksjonsuttrykket (husk at opphøyd i python er `**`): \n",
    "\n",
    "$$y = ax^2 + bx + c$$"
   ]
  },
  {
   "cell_type": "markdown",
   "metadata": {},
   "source": [
    "```python\n",
    "x = linspace(-10, 10, 1001)\n",
    "y = a*x**2 + b*x + c\n",
    "```"
   ]
  },
  {
   "cell_type": "markdown",
   "metadata": {},
   "source": [
    "For å plotte grafen brukes kommandoen `plot(x, y)`. Denne ligger i `matplotlib.pyplot`-biblioteket, som vi nå må importere med kommandoen: \n",
    "\n",
    "```python\n",
    "import matplotlib.pyplot as plt\n",
    "```\n",
    "\n",
    "Vi bruker da `plt.plot(x, y)` for å tegne en graf."
   ]
  },
  {
   "cell_type": "code",
   "execution_count": null,
   "metadata": {
    "scrolled": true
   },
   "outputs": [],
   "source": [
    "import numpy as np\n",
    "import matplotlib.pyplot as plt\n",
    "\n",
    "a = float(input(\"Skriv inn koeffisienten foran x^2-leddet: \"))\n",
    "b = float(input(\"Skriv inn koeffisienten foran x-leddet: \"))\n",
    "c = float(input(\"Skriv inn konstantleddet: \"))\n",
    "\n",
    "x = np.linspace(-10, 10, 5)\n",
    "y = a*x**2 + b*x + c\n",
    "\n",
    "plt.plot(x, y)\n",
    "plt.show()"
   ]
  },
  {
   "cell_type": "markdown",
   "metadata": {},
   "source": [
    "Noen vil kanskje reagere på at det brukes `y` her og ikke $f(x)$. Det er fordi det er enklere å skrive `y` i Python. Vi kunne godt kalt denne variabelen for noe annet, men ofte brukes `y` når vi skal plotte. Hvis vi har flere plot, er det fornuftig å ha andre navn (for eksempel `y1`, `y2`, osv.)."
   ]
  },
  {
   "cell_type": "markdown",
   "metadata": {},
   "source": [
    "<div class=\"alert alert-block alert-info\">\n",
    "\n",
    "#### Oppgave 2\n",
    "\n",
    "a) Velg verdier for $a$, $b$ og $c$ slik at du får funksjonen $f(x) = x^2 - x - 2$ \n",
    "\n",
    "<br>\n",
    "    \n",
    "b) Kjør programmet et par ganger, der du endrer på $a$, $b$ og $c$ hver gang. Er det noen ganger du ikke ser funksjonen i graf-feltet? \n",
    "\n",
    "<br>    \n",
    "\n",
    "c) Prøv å endre på tallene i `np.linspace()`-kommandoen og se hva som skjer. Er det noen verdier som er mer fornuftige å bruke enn andre i `np.linspace()`-kommandoen? Avhenger det av funksjonen? Diskuter med sidemannen. \n",
    "\n",
    "</div>"
   ]
  },
  {
   "cell_type": "markdown",
   "metadata": {},
   "source": [
    "##  Steg 3 – Pynte på grafen"
   ]
  },
  {
   "cell_type": "markdown",
   "metadata": {},
   "source": [
    "Grafen tegnet over er ikke ideell. Hverken $x$-akse, $y$-akse, rutenett eller navn på aksene er markert. Nedenfor er en liste med kommandoer som kan brukes. Alle disse må ha prefikset `plt.<kommando>`. Det finnes mange flere, men dette er de mest sentrale for oss. Hvis dere ønsker flere muligheter, er et Google-søk med \"python + plot + (det man leter etter)\" en god mulighet.\n",
    "\n",
    "Farge setter man rett etter `plt.plot()`-kommandoen."
   ]
  },
  {
   "cell_type": "markdown",
   "metadata": {},
   "source": [
    "<div class=\"alert alert-block alert-success\">\n",
    "\n",
    "|<p align=\"left\"> Kommando |<p align=\"left\"> Beskrivelse |\n",
    "| --- | --- |\n",
    "|<p align=\"left\"> `\"b\", \"r\", \"g\", \"m\", \"c\", \"y\", \"w\", \"k\"` |<p align=\"left\"> Angir farge (henholdsvis blå, rød, grønn, magenta, cyan, gul, hvit og sort) |\n",
    "|<p align=\"left\"> `title()`  |<p align=\"left\"> Setter inn tittelen på grafen øverst i vinduet |\n",
    "|<p align=\"left\"> `xlabel()` |<p align=\"left\"> Setter inn navn på $x$-aksen |\n",
    "|<p align=\"left\"> `ylabel()` |<p align=\"left\"> Setter inn navn på $y$-aksen |\n",
    "|<p align=\"left\"> `xlim()`   |<p align=\"left\"> Setter intervallet for $x$-aksen |\n",
    "|<p align=\"left\"> `ylim()`   |<p align=\"left\"> Setter intervallet for $y$-aksen |\n",
    "|<p align=\"left\"> `grid()`   |<p align=\"left\"> Tegner rutenett |\n",
    "|<p align=\"left\"> `axhline()`|<p align=\"left\"> Lager horisontal linje |\n",
    "|<p align=\"left\"> `avhline()`|<p align=\"left\"> Lager vertikal linje |\n",
    "|<p align=\"left\"> `show()`   |<p align=\"left\"> Viser grafen |\n",
    "    \n",
    "</div>"
   ]
  },
  {
   "cell_type": "markdown",
   "metadata": {},
   "source": [
    "Vi endrer på plottet ved å legge disse kodebitene til etter at grafen er plottet. Et forslag er vist nedenfor:"
   ]
  },
  {
   "cell_type": "code",
   "execution_count": null,
   "metadata": {},
   "outputs": [],
   "source": [
    "import numpy as np\n",
    "import matplotlib.pyplot as plt\n",
    "\n",
    "a = float(input(\"Skriv inn koeffisienten foran x^2-leddet: \")) \n",
    "b = float(input(\"Skriv inn koeffisienten foran x-leddet: \")) \n",
    "c = float(input(\"Skriv inn konstantleddet: \")) \n",
    "\n",
    "x = np.linspace(-10, 10, 1001) \n",
    "y = a*x**2 + b*x + c\n",
    "\n",
    "plt.plot(x, y, \"m\")                 # Plotter x og y med magenta farge\n",
    "plt.title(\"Andregradsfunksjon\")     # Setter tittel på grafen\n",
    "plt.xlabel(\"x\")                     # Setter navn på x-aksen\n",
    "plt.ylabel(\"f(x)\")                  # Setter navn på y-aksen\n",
    "plt.xlim(-5, 5)                     # Setter intervall for x-aksen\n",
    "plt.ylim(-5, 20)                    # Setter intervall for y-aksen\n",
    "plt.axhline(y=0, color=\"k\")         # Tegner sort linje for y = 0\n",
    "plt.axvline(x=0, color=\"k\")         # Tegner sort linje for x = 0\n",
    "plt.grid()                          # Tegner rutenett\n",
    "plt.show()                          # Viser grafen"
   ]
  },
  {
   "cell_type": "markdown",
   "metadata": {},
   "source": [
    "<div class=\"alert alert-block alert-info\">\n",
    "\n",
    "#### Oppgave 3\n",
    "   \n",
    "    \n",
    "a) Velg verdier for $a$, $b$ og $c$ slik at du får funksjonen $f(x) = x^2 - x - 2$ \n",
    "\n",
    "<br>\n",
    "    \n",
    "b) Lek litt med å endre på farge, tall osv. på de forskjellige kommandoene slik at du ser hva de gjør. \n",
    "\n",
    "</div>"
   ]
  },
  {
   "cell_type": "markdown",
   "metadata": {},
   "source": [
    "## Steg 4 – Nullpunkter"
   ]
  },
  {
   "cell_type": "markdown",
   "metadata": {},
   "source": [
    "Vi er ofte på jakt etter løsningene på en gitt andregradslikning, og dette er det samme som å finne nullpunktene til funksjonen\n",
    "\n",
    "$$f(x) = x^2 - x - 2 = 0$$"
   ]
  },
  {
   "cell_type": "markdown",
   "metadata": {},
   "source": [
    "<div class=\"alert alert-block alert-info\">\n",
    "\n",
    "#### Oppgave 4 \n",
    "\n",
    "Lag en kodebit som regner ut nullpunktene til funksjonen vi skriver inn. Bruk kodevinduet under. Hvert sted det står `Noe må stå her` skal byttes ut. Prøv selv før dere ser på en mulig framgangsmåte lenger ned.\n",
    "\n",
    "</div>"
   ]
  },
  {
   "cell_type": "markdown",
   "metadata": {},
   "source": [
    "<div class=\"alert alert-block alert-success\">\n",
    "\n",
    "**Hint:** \n",
    "\n",
    "Rottegn i Python skrives med `numpy`-kommandoen `np.sqrt()`. Husk at det ofte er to løsninger. \n",
    "\n",
    "</div>"
   ]
  },
  {
   "cell_type": "code",
   "execution_count": null,
   "metadata": {},
   "outputs": [],
   "source": [
    "import numpy as np\n",
    "import matplotlib.pyplot as plt\n",
    "\n",
    "a = float(input(\"Skriv inn koeffisienten foran x^2-leddet: \")) \n",
    "b = float(input(\"Skriv inn koeffisienten foran x-leddet: \")) \n",
    "c = float(input(\"Skriv inn konstantleddet: \")) \n",
    "\n",
    "# Her skriver du koden til oppgave 4\n",
    "\n",
    "x1 = # Noe må stå her\n",
    "x2 = # Noe må stå her\n",
    "\n",
    "print(\"Nullpunktene er ved x =\", x1, \"og x =\", x2)"
   ]
  },
  {
   "cell_type": "markdown",
   "metadata": {},
   "source": [
    "<div class=\"alert alert-block alert-info\">\n",
    "\n",
    "#### Oppgave 5\n",
    " \n",
    "Test programmet du lagde i oppgave 4 ved å kjøre det for funksjonene nedenfor og sjekk at løsningene er korrekte\n",
    "\n",
    "    \n",
    "a) $x^2 + 3x + 2 = 0$\n",
    "\n",
    "<br> \n",
    "    \n",
    "b) $2x^2 -3x - 2 = 0$\n",
    "    \n",
    "<br>\n",
    "    \n",
    "c) $4x^2 - 49 = 0$\n",
    "    \n",
    "<br>\n",
    "    \n",
    "d) $x^2 + 2x - 1 = 0$\n",
    "\n",
    "</div>"
   ]
  },
  {
   "cell_type": "code",
   "execution_count": null,
   "metadata": {},
   "outputs": [],
   "source": [
    "# Koden vi har så langt med løsningsforslag til oppgave 4 nederst.\n",
    "\n",
    "import numpy as np\n",
    "import matplotlib.pyplot as plt\n",
    "\n",
    "a = float(input(\"Skriv inn koeffisienten foran x^2-leddet: \")) \n",
    "b = float(input(\"Skriv inn koeffisienten foran x-leddet: \")) \n",
    "c = float(input(\"Skriv inn konstantleddet: \")) \n",
    "\n",
    "x = np.linspace(-10, 10, 1001) \n",
    "y = a*x**2 + b*x + c\n",
    "\n",
    "plt.plot(x, y, \"m\")                 # Plotter x og y med magenta farge\n",
    "plt.title(\"Andregradsfunksjon\")     # Setter tittel på grafen\n",
    "plt.xlabel(\"x\")                     # Setter navn på x-aksen\n",
    "plt.ylabel(\"f(x)\")                  # Setter navn på y-aksen\n",
    "plt.xlim(-5, 5)                     # Setter intervall for x-aksen\n",
    "plt.ylim(-5, 20)                    # Setter intervall for y-aksen\n",
    "plt.axhline(y=0, color=\"k\")         # Tegner sort linje for y = 0\n",
    "plt.axvline(x=0, color=\"k\")         # Tegner sort linje for x = 0\n",
    "plt.grid()                          # Tegner rutenett\n",
    "plt.show()                          # Viser grafen\n",
    "\n",
    "x1 = ( -b - np.sqrt( b**2 - 4*a*c )) / (2*a)\n",
    "x2 = ( -b + np.sqrt( b**2 - 4*a*c )) / (2*a)\n",
    "\n",
    "print(\"Nullpunktene er ved x =\", x1, \"og x =\", x2)"
   ]
  },
  {
   "cell_type": "markdown",
   "metadata": {},
   "source": [
    "<div class=\"alert alert-block alert-info\">\n",
    "\n",
    "#### Oppgave 6\n",
    "\n",
    "a) Velg verdier for $a$, $b$ og $c$ slik at finner nullpunktene til funksjonen $f(x) = x^2 - x - 2$.\n",
    "\n",
    "<br>\n",
    "    \n",
    "b) Hva skjer når du prøver å løse likningen $x^2 + 3x + 4 = 0$? Diskuter med sidemannen hva som har skjedd. \n",
    "\n",
    "    Hint:\n",
    "\n",
    "    Se på grafen som blir tegnet.\n",
    "    \n",
    "</div>"
   ]
  },
  {
   "cell_type": "markdown",
   "metadata": {},
   "source": [
    "<div class=\"alert alert-block alert-info\">\n",
    "\n",
    "#### Oppgave 7\n",
    "    \n",
    "Diskuter i gruppen hvordan vi kan gjøre at programmet gir beskjed til brukeren hvis det ikke er noen nullpunkter. Dere skal ikke kode her, for koden lager vi i neste steg.\n",
    "\n",
    "</div>"
   ]
  },
  {
   "cell_type": "markdown",
   "metadata": {},
   "source": [
    "## Steg 5 – Unntak og *if*-setninger"
   ]
  },
  {
   "cell_type": "markdown",
   "metadata": {},
   "source": [
    "I oppgave 5 var det en likning som ikke hadde noen reelle løsninger. Vi har tidligere lært å sjekke uttrykket under rottegnet i $abc$-formelen (som kalles \"diskriminanten\") for å sjekke om uttrykket har ingen, én, eller to løsninger. "
   ]
  },
  {
   "cell_type": "markdown",
   "metadata": {},
   "source": [
    "<div class=\"alert alert-block alert-info\">\n",
    "\n",
    "#### Oppgave 8\n",
    "\n",
    "Diskuter følgende oppgaver med sidemannen:\n",
    "\n",
    "<br>\n",
    "\n",
    "a) Hva må være sant for at andregradsfunksjonen skal ha to nullpunkter?\n",
    "\n",
    "<br>\n",
    "\n",
    "b) Hva må være sant for at andregradsfunksjonen skal ha nøyaktig ett nullpunkt?\n",
    "\n",
    "<br>\n",
    "\n",
    "c) Hva må være sant for at andregradsfunksjonen ikke skal ha noen nullpunkter?\n",
    "\n",
    "</div>"
   ]
  },
  {
   "cell_type": "markdown",
   "metadata": {},
   "source": [
    "For å sjekke antallet løsninger lager vi et sett med *if*-setninger. Vi starter med å sjekke om andregradsfunksjonen har to nullpunkter."
   ]
  },
  {
   "cell_type": "markdown",
   "metadata": {},
   "source": [
    "<div class=\"alert alert-block alert-info\">\n",
    "\n",
    "#### Oppgave 9\n",
    "\n",
    "Fyll ut resten av if-setningene i kodevinduet under. Hvert sted det står `Noe må stå her` skal byttes ut. Diskuter med sidemannen hva som bør settes inn. Prøv selv før dere ser et forslag lenger ned.\n",
    "\n",
    "</div>"
   ]
  },
  {
   "cell_type": "code",
   "execution_count": null,
   "metadata": {},
   "outputs": [],
   "source": [
    "a = float(input(\"Skriv inn koeffisienten foran x^2-leddet: \")) \n",
    "b = float(input(\"Skriv inn koeffisienten foran x-leddet: \")) \n",
    "c = float(input(\"Skriv inn konstantleddet: \")) \n",
    "\n",
    "if b**2 - 4*a*c > 0:\n",
    "    print(\"Funksjonen har to nullpunkter\") \n",
    "elif # Noe må stå her :\n",
    "    print(\"Noe må stå her\") \n",
    "else:\n",
    "    print(\"Noe må stå her\")"
   ]
  },
  {
   "cell_type": "code",
   "execution_count": null,
   "metadata": {},
   "outputs": [],
   "source": [
    "# Koden vi har så langt med løsningsforslag til oppgave 7 nederst.\n",
    "\n",
    "import numpy as np\n",
    "import matplotlib.pyplot as plt\n",
    "\n",
    "a = float(input(\"Skriv inn koeffisienten foran x^2-leddet: \")) \n",
    "b = float(input(\"Skriv inn koeffisienten foran x-leddet: \")) \n",
    "c = float(input(\"Skriv inn konstantleddet: \")) \n",
    "\n",
    "x = np.linspace(-10, 10, 1001) \n",
    "y = a*x**2 + b*x + c\n",
    "\n",
    "plt.plot(x, y, \"m\")                 # Plotter x og y med magenta farge\n",
    "plt.title(\"Andregradsfunksjon\")     # Setter tittel på grafen\n",
    "plt.xlabel(\"x\")                     # Setter navn på x-aksen\n",
    "plt.ylabel(\"f(x)\")                  # Setter navn på y-aksen\n",
    "plt.xlim(-5, 5)                     # Setter intervall for x-aksen\n",
    "plt.ylim(-5, 20)                    # Setter intervall for y-aksen\n",
    "plt.axhline(y=0, color=\"k\")         # Tegner sort linje for y = 0\n",
    "plt.axvline(x=0, color=\"k\")         # Tegner sort linje for x = 0\n",
    "plt.grid()                          # Tegner rutenett\n",
    "plt.show()                          # Viser grafen\n",
    "\n",
    "# Her er et løsningsforslag til oppgave 7\n",
    "\n",
    "if b**2 - 4*a*c > 0:  \n",
    "    x1 = ( -b - sqrt( b**2 - 4*a*c )) / (2*a)    \n",
    "    x2 = ( -b + sqrt( b**2 - 4*a*c )) / (2*a)  \n",
    "    print(\"Funksjonen har nullpunkter ved x =\", x1, \"og x =\", x2)\n",
    "elif b**2 - 4*a*c == 0:  \n",
    "    x1 = -b / (2*a)  \n",
    "    print(\"Funksjonen har ett nullpunkt som er ved x =\", x1)\n",
    "else:\n",
    "    print(\"Funksjonen har ingen nullpunkter\")"
   ]
  },
  {
   "cell_type": "markdown",
   "metadata": {},
   "source": [
    "Det er greit å sette informasjonen om hvor mange nullpunkter det er, sammen med informasjonen om hvor nullpunktene er. For å unngå feilmeldinger regner programmet ut nullpunktene bare hvis de eksisterer, dvs at vi har puttet utregningen kun inne i _if_-setningen."
   ]
  },
  {
   "cell_type": "markdown",
   "metadata": {},
   "source": [
    "<div class=\"alert alert-block alert-info\">\n",
    "\n",
    "#### Oppgave 10\n",
    "\n",
    "Diskuter med sidemannen hvorfor midterste ledd bare har utregningen: `x1 = -b / (2*a)`\n",
    "\n",
    "</div>"
   ]
  },
  {
   "cell_type": "markdown",
   "metadata": {},
   "source": [
    "<div class=\"alert alert-block alert-info\">\n",
    "\n",
    "#### Oppgave 11\n",
    "\n",
    "Kjør programmet for følgende funksjoner.\n",
    "\n",
    "<br>\n",
    "\n",
    "a) $f(x) = x^2 + 3x + 2$\n",
    "\n",
    "<br>\n",
    "    \n",
    "b) $f(x) = x^2 + 3x + 4$ \n",
    "\n",
    "<br>    \n",
    "\n",
    "c) Prøv deg frem med egne verdier for $a$, $b$ og $c$. Går det alltid bra?\n",
    "\n",
    "</div>"
   ]
  },
  {
   "cell_type": "markdown",
   "metadata": {},
   "source": [
    "## Steg 6 – Andre egenskaper"
   ]
  },
  {
   "cell_type": "markdown",
   "metadata": {},
   "source": [
    "Det er mange egenskaper ved en andregradsfunksjon. Hittil er bare nullpunktene vist. Nå skal programmet utvides til å gi brukeren informasjon om andre egenskaper ved andregradsfunksjonen."
   ]
  },
  {
   "cell_type": "markdown",
   "metadata": {
    "slideshow": {
     "slide_type": "slide"
    }
   },
   "source": [
    "<div class=\"alert alert-block alert-danger\">\n",
    "    \n",
    "### Info til lærer\n",
    "    \n",
    "Denne oppgaven er ganske åpen, og i oppgave a) gir vi med vilje ikke så mange eksempler da vi ønsker at elevene selv skal utforske hva de kan gjøre. Flere eksemper er:\n",
    "- ekstremalpunkt på flere måter\n",
    "- det deriverte uttrykket\n",
    "- hvilken vei grafen buer\n",
    "- etc. \n",
    "    \n",
    " Denne oppgaven kan også med fordel gjennomgår i felleskap i en klasseromsdiskusjon. Det vil gjøre at alle ser hvilke egenskaper man kan finne i en andregradsfunksjon. Erfarngsmessig er det flere enn elevene tror."
   ]
  },
  {
   "cell_type": "markdown",
   "metadata": {},
   "source": [
    "<div class=\"alert alert-block alert-info\">\n",
    "\n",
    "#### Oppgave 12\n",
    "\n",
    "a) Hvilke andre egenskaper ved en andregradsfunksjon kan vi finne/gi brukeren? Diskuter med sidemannen om hvilke egenskaper dere ønsker å finne. \n",
    "    \n",
    "Eksempler er: \n",
    "- krysning med $y$-akse \n",
    "- det faktoriserte uttrykket \n",
    "- etc.\n",
    "\n",
    "<br>    \n",
    "    \n",
    "b) Diskuter raskt hvordan dere ville funnet disse egenskapene ved regning, og deretter hvordan dere kan lage en kodebit som gjør at programmet regner det ut.\n",
    "\n",
    "Utvid programmet til å inkludere disse egenskapene.\n",
    "\n",
    "</div>"
   ]
  },
  {
   "cell_type": "markdown",
   "metadata": {},
   "source": [
    "[Til toppen](#Andregradslikninger)"
   ]
  }
 ],
 "metadata": {
  "kernelspec": {
   "display_name": "Python 3",
   "language": "python",
   "name": "python3"
  },
  "language_info": {
   "codemirror_mode": {
    "name": "ipython",
    "version": 3
   },
   "file_extension": ".py",
   "mimetype": "text/x-python",
   "name": "python",
   "nbconvert_exporter": "python",
   "pygments_lexer": "ipython3",
   "version": "3.8.5"
  }
 },
 "nbformat": 4,
 "nbformat_minor": 2
}
