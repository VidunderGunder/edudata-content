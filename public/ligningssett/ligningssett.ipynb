{
 "cells": [
  {
   "cell_type": "markdown",
   "metadata": {},
   "source": [
    "# Lineært likningssett med to ukjente"
   ]
  },
  {
   "cell_type": "markdown",
   "metadata": {
    "slideshow": {
     "slide_type": "slide"
    }
   },
   "source": [
    "<div class=\"alert alert-block alert-danger\">\n",
    "    \n",
    "### Info til lærer\n",
    "    \n",
    "Opplegget kan egne seg både til ungdomskolen og videregående, med litt ulik bruk av opplegget.\n",
    "    \n",
    "1T: Her kan opplegget brukes både som innlæring av enkelte programmeringskommandoer og som et opplegg for å øke dybdelæringen til elever i forståelsen av likningssett. Sammenhengen mellom antall løsninger, grafen til likningssettet og, ikke minst, hvorfor det matematisk blir de løsningene det blir, er vektlagt mot slutten av opplegget. \n",
    "    \n",
    "10 trinn: Her blir det noe likt som i 1T, men siden for eksempel graftegning ikke er like vektlagt, kan man gi elevene mer skjelettkode. Fokuset blir da på hvordan man kan bruke programmering til å løse et likningssett og økt forståelsen for sammenhengene."
   ]
  },
  {
   "cell_type": "markdown",
   "metadata": {},
   "source": [
    "<div class=\"alert alert-block alert-warning\">\n",
    "\n",
    "#### Kompetansemål i 1T    \n",
    "    \n",
    "Mål for opplæringen er at eleven skal kunne\n",
    "\n",
    "- utforske strategier for å løse likninear, likningssystemer og ulikheter og argumentere for tenkemåtene sine\n",
    "- formulere og løse problemer ved hjelp av algoritmisk tenkning, ulike problemløsingsstrategier, digitale verktøy og programmering\n",
    "\n",
    "</div>"
   ]
  },
  {
   "cell_type": "markdown",
   "metadata": {},
   "source": [
    "<div class=\"alert alert-block alert-warning\">\n",
    "\n",
    "#### Kompetansemål fra 10. trinn   \n",
    "    \n",
    "Mål for opplæringen er at eleven skal kunne\n",
    "\n",
    "- utforske og sammenlikne egenskaper ved ulike funksjoner ved å bruke digitale verktøy\n",
    "- lage, løse og forklare likningssett knytter til praktiske situasjoner\n",
    "- utforske matematiske egenskapar og sammenhenger ved å bruke programmering\n",
    "    \n",
    "</div>"
   ]
  },
  {
   "cell_type": "markdown",
   "metadata": {},
   "source": [
    "## Løsning av et standard likningssett for hånd"
   ]
  },
  {
   "cell_type": "markdown",
   "metadata": {},
   "source": [
    "<div class=\"alert alert-block alert-info\">\n",
    "\n",
    "#### Oppgave 1\n",
    "\n",
    "Løs følgende likningssett for hånd\n",
    "\n",
    "$$\\begin{matrix}\n",
    "  2y = 7x + 11 \\\\\n",
    "  5y = 3x + 13 \\\\\n",
    "  \\end{matrix}$$\n"
   ]
  },
  {
   "cell_type": "markdown",
   "metadata": {},
   "source": [
    "Hvis alt gikk etter planen skal man få $x = -1$ og $y = 2$."
   ]
  },
  {
   "cell_type": "markdown",
   "metadata": {
    "slideshow": {
     "slide_type": "slide"
    }
   },
   "source": [
    "<div class=\"alert alert-block alert-danger\">\n",
    "    \n",
    "### Info til lærer\n",
    "    \n",
    "Hvis man vil kan man diskutere valget av koeffisienter i likningssetet over. Alle er primtall som er valgt med vilje, hvorfor? \n",
    "    \n",
    "Løsningen under kan man gjennomføre på tavlen eller kanskje la en elev vise det. Dette er litt avhengig av klasse og nivå."
   ]
  },
  {
   "cell_type": "markdown",
   "metadata": {},
   "source": [
    "Vi skal nå løse likningssettet en gang til, men denne gangen skal vi ikke regne ut noen produkter eller summer underveis. Dette er grunnen til at vi valgte primtall som faktorer.\n",
    "\n",
    "Løser først hver likning med hensyn på $y$.\n",
    "\n",
    "$$y = \\frac{7}{2}x + \\frac{11}{2}$$\n",
    "\n",
    "$$y = \\frac{3}{5}x + \\frac{13}{5}$$\n",
    "\n",
    "Setter utrykkene lik hverandre\n",
    "\n",
    "$$\\frac{7}{2}x + \\frac{11}{2} = \\frac{3}{5}x + \\frac{13}{5}$$\n",
    "\n",
    "Multipliserer alle ledd med fellesnevner ($2\\cdot 5$). Husk at vi ikke skal regne ut produktene.\n",
    "\n",
    "$$(7\\cdot 5)x + 11\\cdot 5 = (3\\cdot 2)x + 13\\cdot 2$$\n",
    "\n",
    "Samler uttrykkene med $x$ på venstre side\n",
    "\n",
    "$$(7\\cdot 5)x - (3\\cdot 2)x = 13\\cdot 2 - 11\\cdot 5$$\n",
    "\n",
    "Trekker $x$ uten for en parentes\n",
    "\n",
    "$$(7\\cdot 5 - 3\\cdot 2)x = 13\\cdot 2 - 11\\cdot 5$$\n",
    "\n",
    "Dividerer slik at vi får $x$ alene\n",
    "\n",
    "$$x = \\frac{13\\cdot 2 - 11\\cdot 5}{7\\cdot 5 - 3\\cdot 2}$$\n",
    "\n",
    "Når vi har funnet $x$, kan vi løse for å finne $y$.\n",
    "\n",
    "$$y = \\frac{7x + 11}{2}$$"
   ]
  },
  {
   "cell_type": "markdown",
   "metadata": {},
   "source": [
    "### Hvordan hjelper dette oss når vi skal lage et program som løser _alle_ lineære likningssett med to ukjente? "
   ]
  },
  {
   "cell_type": "markdown",
   "metadata": {},
   "source": [
    "<div class=\"alert alert-block alert-success\">\n",
    "\n",
    "La oss se på et generelt lineært likningssett med to ukjente. Her kan faktorene være alle mulige kombinasjoner av tall, så vi erstatter hver faktor med en ukjent.\n",
    "\n",
    "$$\\begin{matrix}\n",
    "  ay = bx + c \\\\\n",
    "  dy = ex + f \\\\\n",
    "  \\end{matrix}$$\n",
    "\n",
    "</div>"
   ]
  },
  {
   "cell_type": "markdown",
   "metadata": {},
   "source": [
    "Vi skal nå løse dette likningssettet. Hvordan gjør vi det på enklest mulig måte? Vi kan selvsagt gjennomføre samme fremgangsmåte som i eksempelet over, men det er tungvint. La oss heller bruke utregningen vår og sammenligne de to likningssettene.\n",
    "\n",
    "$$\\begin{matrix}\n",
    "  2y = 7x + 11 &&&& ay = bx + c \\\\\n",
    "  5y = 3x + 13 &&&& dy = ex + f \\\\\n",
    "  \\end{matrix}$$"
   ]
  },
  {
   "cell_type": "markdown",
   "metadata": {},
   "source": [
    "<div class=\"alert alert-block alert-info\">\n",
    "\n",
    "#### Oppgave 2\n",
    "\n",
    "Diskuter med gruppen: Hvordan kan vi bruke dette til å finne løsningen på det generelle likningssettet?\n",
    "    \n",
    "</div>"
   ]
  },
  {
   "cell_type": "markdown",
   "metadata": {},
   "source": [
    "Vi ser nå at variabelen $a = 2$, $b=7$, osv. Dette kan vi sette tilbake i løsningen vi fant tidligere.\n",
    "\n",
    "$$x = \\frac{13\\cdot 2 - 11\\cdot 5}{7\\cdot 5 - 3\\cdot 2} = \\frac{f\\cdot a - c\\cdot d}{b\\cdot d - e\\cdot a} $$\n",
    "\n",
    "$$y = \\frac{7x + 11}{2} = \\frac{bx + c}{a} $$"
   ]
  },
  {
   "cell_type": "markdown",
   "metadata": {},
   "source": [
    "Vi har nå laget en generell løsning på et lineært likningssett med to ukjente, og dette kan vi programmere.\n",
    "\n",
    "<div class=\"alert alert-block alert-info\">\n",
    "\n",
    "#### Oppgave 3\n",
    "\n",
    "Diskuter med gruppen hvilke deler programmet må inneholde.\n",
    "    \n",
    "</div>"
   ]
  },
  {
   "cell_type": "markdown",
   "metadata": {},
   "source": [
    "## Utregning\n",
    "\n",
    "Vi bruker nå variablene $(a$, $b$, $c$, $d$, $e$, og $f)$ til å regne ut løsningene til likningssettet."
   ]
  },
  {
   "cell_type": "markdown",
   "metadata": {},
   "source": [
    "<div class=\"alert alert-block alert-info\">\n",
    "\n",
    "#### Oppgave 5\n",
    "\n",
    "Bruk kodevinduet under til å utvide programmet over til å regne ut løsningene på likningssettet. Husk at formlene dere skal bruke står mellom oppgave 2 og oppgave 3.\n",
    "    \n",
    "</div>"
   ]
  },
  {
   "cell_type": "markdown",
   "metadata": {
    "slideshow": {
     "slide_type": "slide"
    }
   },
   "source": [
    "<div class=\"alert alert-block alert-danger\">\n",
    "    \n",
    "### Info til lærer\n",
    "    \n",
    "Merk at linje 5 og 6 i koden under trenger en forklaring. Det er mulig i Python å gi verdi til flere variabler på én linje som vist, men sannsynligvis har ikke elevene sett dette før. Vanligvis gjøres ikke dette siden det er litt programmeringsteknisk, men siden vi har så mange variabler ble dette vurdert enklere. Selv på vgs vil man sjelden ha så mange variabler i et program, så dette blir på mange måter litt unikt til akkurat dette opplegget. "
   ]
  },
  {
   "cell_type": "code",
   "execution_count": null,
   "metadata": {},
   "outputs": [],
   "source": [
    "# Programkoden så langt\n",
    "\n",
    "print(\"Dette programmet løser et lineært likningssett med to ukjente.\")\n",
    "\n",
    "a, b, c = 2, 7, 11            # Koeffisientene til likning på formen ay = bx + c\n",
    "d, e, f = 5, 3, 13            # Koeffisientene til likning på formen dy = ex + f\n",
    "\n",
    "# Løs oppgave 5 her\n",
    "\n"
   ]
  },
  {
   "cell_type": "markdown",
   "metadata": {},
   "source": [
    "<div class=\"alert alert-block alert-info\">\n",
    "\n",
    "#### Oppgave 6\n",
    "\n",
    "Test programmet ditt og se om det gir samme svar som utregningen i oppgave 1.\n",
    "    \n",
    "</div>"
   ]
  },
  {
   "cell_type": "code",
   "execution_count": 2,
   "metadata": {},
   "outputs": [
    {
     "name": "stdout",
     "output_type": "stream",
     "text": [
      "Dette programmet løser et lineært likningssett med to ukjente.\n",
      "Viktig at likningssettet er ordnet med y-leddet på venstre side og x- og konstantleddet på høyre side.\n",
      "Det vil si på formen:\n",
      "ay = bx + c\n",
      "dy = ex + f\n",
      "Løsningene er x = -1.0 og y = 2.0\n"
     ]
    }
   ],
   "source": [
    "# Programkoden så langt med løsning på oppgave 5 nederst\n",
    "\n",
    "print(\"Dette programmet løser et lineært likningssett med to ukjente.\")\n",
    "\n",
    "a, b, c = 2, 7, 11            # Koeffisientene til likning på formen ay = bx + c\n",
    "d, e, f = 5, 3, 13            # Koeffisientene til likning på formen dy = ex + f\n",
    "\n",
    "x = (f*a - c*d)/(b*d - e*a)\n",
    "y = (b*x + c)/a\n",
    "\n",
    "print(\"Løsningene er x =\", x, \"og y =\", y)"
   ]
  },
  {
   "cell_type": "markdown",
   "metadata": {},
   "source": [
    "<div class=\"alert alert-block alert-info\">\n",
    "\n",
    "#### Oppgave 7\n",
    "    \n",
    "Prøv ut programmet for flere ulike lineære likningssett og diskuter med gruppen om programmet fungerer for alle likningssett.\n",
    "\n",
    "</div>"
   ]
  },
  {
   "cell_type": "markdown",
   "metadata": {},
   "source": [
    "<div class=\"alert alert-block alert-info\">\n",
    "\n",
    "#### Oppgave 8\n",
    "    \n",
    "Prøv med likningssettet\n",
    "$$\\begin{matrix}\n",
    "  y = 2x + 3 \\\\\n",
    "  4y = 8x + 5 \\\\\n",
    "  \\end{matrix}$$ \n",
    "<br>\n",
    "Hvorfor går dette galt?\n",
    "\n",
    "Løs likningssettet for hånd og diskuter med gruppen hvorfor programmet ikke klarer å regne ut svaret.\n",
    "\n",
    "</div>"
   ]
  },
  {
   "cell_type": "markdown",
   "metadata": {},
   "source": [
    "## Plotting av likningssettet\n",
    "\n",
    "For å lettere se hva som skjer når vi ikke får en løsning, skal vi nå lage et plot av likningssettet. For å klare å tegne grafen til likningssettet trenger vi en del ekstra kommandoer som vi må laste inn. Vi laster inn dette i starten av programmet, og lager plottet før vi løser likningssettet."
   ]
  },
  {
   "cell_type": "code",
   "execution_count": 2,
   "metadata": {},
   "outputs": [
    {
     "name": "stdout",
     "output_type": "stream",
     "text": [
      "Dette programmet løser et lineært likningssett med to ukjente.\n",
      "Viktig at likningssettet er ordnet med y-leddet på venstre side og x- og konstantleddet på høyre side.\n",
      "Det vil si på formen:\n",
      "ay = bx + c\n",
      "dy = ex + f\n",
      "Løsningene er x = -1.0 og y = 2.0\n"
     ]
    },
    {
     "data": {
      "image/png": "[encoded data removed]",
      "text/plain": [
       "<Figure size 432x288 with 1 Axes>"
      ]
     },
     "metadata": {
      "needs_background": "light"
     },
     "output_type": "display_data"
    }
   ],
   "source": [
    "from numpy import linspace   # Vi trenger en kommando som lager en liste med x-verdier, biblioteket numpy har dette.\n",
    "from matplotlib.pyplot import plot, grid, xlabel, ylabel\n",
    "\n",
    "print(\"Dette programmet løser et lineært likningssett med to ukjente.\")\n",
    "\n",
    "a, b, c = 2, 7, 11            # Koeffisientene til likning på formen ay = bx + c\n",
    "d, e, f = 5, 3, 13            # Koeffisientene til likning på formen dy = ex + f\n",
    "\n",
    "x = linspace(-10, 10, 21)     # Lager en liste med x-verdier i intervallet fra -10 til 10\n",
    "y1 = (b*x + c) / a            # Regner ut de tilhørende funksjonsverdiene (y-verdiene)\n",
    "y2 = (e*x + f) / d\n",
    "\n",
    "plot(x, y1)                   # Tegner grafen for likning 1\n",
    "plot(x, y2)                   # Tegner grafen for likning 2\n",
    "grid()                        # Tegner rutenett\n",
    "xlabel(\"x\")                   # Setter navn på x-aksen\n",
    "ylabel(\"y\")                   # Setter navn på y-aksen\n",
    "\n",
    "x = (f*a - c*d)/(b*d - e*a)   # Regner ut x-verdien til skjæringspunktet\n",
    "y = (b*x + c)/a               # Regner ut y-verdien til skjæringspunktet\n",
    "print(\"Løsningene er x =\", x, \"og y =\", y)"
   ]
  },
  {
   "cell_type": "markdown",
   "metadata": {},
   "source": [
    "<div class=\"alert alert-block alert-info\">\n",
    "\n",
    "#### Oppgave 9\n",
    "\n",
    "Kjør programkoden over med mange forskjellige likningssett (endre i linje 11 og 12). \n",
    "\n",
    "Diskuter med gruppen: Hva er felles for alle likningssettene som ikke gir en løsning?\n",
    "</div>"
   ]
  },
  {
   "cell_type": "markdown",
   "metadata": {},
   "source": [
    "## Antall løsninger til likningssett\n",
    "\n",
    "I oppgave 9 lette vi etter forskjellen på likningssett som hadde og ikke hadde en løsning. Vi skal her gå litt nærmere inn på hva forskjellen er og hvordan vi kan matematisk forklare dem.\n",
    "\n",
    "Vi starter med å se på et par eksempler på likningssett, løsningen (hvis den finnes), og grafen.\n",
    "\n",
    "<img style=\"float: right;\" src=\"Lineære_likningssett_graf01.png\">\n",
    "\n",
    "**Likningssett 1:**\n",
    "$$ y = 2x + 1 $$\n",
    "$$ y = -x + 4 $$\n",
    "\n",
    "Likningssett 1 har én løsning. For at det skal ha én løsning må de to likningene ha ulikt stigningstall."
   ]
  },
  {
   "cell_type": "markdown",
   "metadata": {},
   "source": [
    "<div class=\"alert alert-block alert-info\">\n",
    "\n",
    "#### Oppgave 10\n",
    "\n",
    "Diskuter med gruppen: Hvordan kan vi vite at et likningssett har nøyaktig én løsning når stigningstallene til likningene er ulike?\n",
    "\n",
    "</div>"
   ]
  },
  {
   "cell_type": "markdown",
   "metadata": {},
   "source": [
    "<img style=\"float: right;\" src=\"Lineære_likningssett_graf02.png\">\n",
    "\n",
    "**Likningssett 2:**\n",
    "$$ y = -x + 1 $$\n",
    "$$ y = -x + 4 $$\n",
    "\n",
    "Likningssett 2 har ingen løsninger. For at det ikke skal være en løsning må de to likningene ha identisk stigningstall."
   ]
  },
  {
   "cell_type": "markdown",
   "metadata": {},
   "source": [
    "<div class=\"alert alert-block alert-info\">\n",
    "\n",
    "#### Oppgave 11\n",
    "\n",
    "Så langt er en mulig hypotese at vi har én løsning når stigningstallet er ulike, og ingen løsninger når stigningstallet er likt. \n",
    "\n",
    "Diskuter med gruppen:\n",
    "* Har vi flere mulige tilfeller?\n",
    "* Hvordan vi kan gjenkjenne disse tilfellene kun ved å se på likningssettet?\n",
    "\n",
    "</div>"
   ]
  },
  {
   "cell_type": "markdown",
   "metadata": {},
   "source": [
    "<img style=\"float: right;\" src=\"Lineære_likningssett_graf03.png\">\n",
    "\n",
    "**Likningssett 3:**\n",
    "$$ y = -x + 2 $$\n",
    "$$ 2y = -2x + 4 $$\n",
    "\n",
    "Likningssett 3 har uendelig mange løsninger. For at det skal være uendelig mange løsninger må forholdet mellom tilsvarende koeffisienter i hver likning være bevart. Merk at på grafen til høyre er det to linjer, men den siden de er like har den ene overskrevet den andre."
   ]
  },
  {
   "cell_type": "markdown",
   "metadata": {
    "slideshow": {
     "slide_type": "slide"
    }
   },
   "source": [
    "<div class=\"alert alert-block alert-danger\">\n",
    "    \n",
    "### Info til lærer\n",
    "    \n",
    "Likningssett 3 kan kobles til formlikhet med trekanter, der tilsvarende sider i to formlike trekanter alltid har samme forhold. "
   ]
  },
  {
   "cell_type": "markdown",
   "metadata": {},
   "source": [
    "## Endre programmet\n",
    "\n",
    "Vi skal nå endre programmet slik at det tar hensyn til alle settene av lineære likninger vi har diskutert over. Vi starter med å se på uttrykket:\n",
    "\n",
    "$$x = \\frac{f\\cdot a - c\\cdot d}{b\\cdot d - e\\cdot a} $$"
   ]
  },
  {
   "cell_type": "markdown",
   "metadata": {},
   "source": [
    "<div class=\"alert alert-block alert-info\">\n",
    "\n",
    "#### Oppgave 12\n",
    "\n",
    "a) Se på likningssettene over og sett inn verdier i telleren. I hvilke tilfeller blir nevneren lik 0, altså $ \\ b\\cdot d - e\\cdot a = 0$ ?\n",
    "\n",
    "<br>\n",
    "\n",
    "b) I de tilfellene der nevneren ble lik null, når blir da også telleren lik 0, altså $ \\ f\\cdot a - c\\cdot d = 0$ ?\n",
    "\n",
    "<br>\n",
    "    \n",
    "c) Skriv av og fyll ut tabellen under:\n",
    "\n",
    "| Er nevner lik null? | Er teller lik null? | Antall løsninger |\n",
    "| -- | -- | --  |\n",
    "| .  | .  |   1 |\n",
    "| .  | .  |   Ingen  |\n",
    "| .  | .  |   Uendelig mange |\n",
    "\n",
    "</div>"
   ]
  },
  {
   "cell_type": "markdown",
   "metadata": {
    "slideshow": {
     "slide_type": "slide"
    }
   },
   "source": [
    "<div class=\"alert alert-block alert-danger\">\n",
    "    \n",
    "### Info til lærer\n",
    "    \n",
    "Løsning:\n",
    "    \n",
    "| Er nevner lik null? | Er teller lik null? | Antall løsninger |\n",
    "| --  | --  | --             |\n",
    "| Nei | Nei | 1              |\n",
    "| Ja  | Nei | Ingen          |\n",
    "| Ja  | Ja  | Uendelig mange |"
   ]
  },
  {
   "cell_type": "markdown",
   "metadata": {},
   "source": [
    "Vi skal nå bruke tabellen vi lagde i oppgaven over til å lage ferdig programmet. For å gjøre dette må vi bruke en _if_-setning. Starten på en slik _if_-setning er gitt under. "
   ]
  },
  {
   "cell_type": "code",
   "execution_count": null,
   "metadata": {},
   "outputs": [],
   "source": [
    "if ??? != 0:\n",
    "    x = (f*a - c*d)/(b*d - e*a)\n",
    "    y = (b*x + c)/a\n",
    "    print(\"Løsningene er x =\", x, \"og y =\", y)\n",
    "elif ??? != ???:\n",
    "    print(\"???\")\n",
    "else:\n",
    "    ???"
   ]
  },
  {
   "cell_type": "markdown",
   "metadata": {},
   "source": [
    "<div class=\"alert alert-block alert-info\">\n",
    "\n",
    "#### Oppgave 13\n",
    "\n",
    "Hva skal stå istedenfor `???` i kodebiten over? Diskuter med sidemannen din og prøv å sette inn kode.\n",
    "    \n",
    "<br>    \n",
    "\n",
    "Hint: Bruk flytskjemaene under for hjelp til oppgave 13\n",
    "    \n",
    "</div>"
   ]
  },
  {
   "cell_type": "markdown",
   "metadata": {
    "slideshow": {
     "slide_type": "slide"
    }
   },
   "source": [
    "<div class=\"alert alert-block alert-danger\">\n",
    "    \n",
    "### Info til lærer\n",
    "    \n",
    "Denne oppgaven kan skaleres ganske enkelt ved å bestemme hvor mange steder i skjelettkoden over det skal stå ???. Slik den står nå er den vanskelig, i hvert fall hvis ikke oppgave 12 er ferdig. Har også lagt ved to flyskjemaer her som hjelp til oppgaven, skjemaet til venstre er generelt mens skjemaet til høyre er for oppgaven gitt i koden."
   ]
  },
  {
   "cell_type": "markdown",
   "metadata": {},
   "source": [
    "<img style=\"float: left;\" src=\"Flytskjema01.png\" width=\"450\">\n",
    "<img style=\"float: middle;\" src=\"Flytskjema02.png\" width=\"450\">"
   ]
  },
  {
   "cell_type": "code",
   "execution_count": 3,
   "metadata": {},
   "outputs": [
    {
     "name": "stdout",
     "output_type": "stream",
     "text": [
      "Dette programmet løser et lineært likningssett med to ukjente.\n",
      "Løsningene er x = -1.0 og y = 2.0\n"
     ]
    },
    {
     "data": {
      "image/png": "[encoded data removed]",
      "text/plain": [
       "<Figure size 432x288 with 1 Axes>"
      ]
     },
     "metadata": {
      "needs_background": "light"
     },
     "output_type": "display_data"
    }
   ],
   "source": [
    "# Koden så langt med forslag til løsning på oppgave 14 nederst\n",
    "\n",
    "from numpy import linspace   # Vi trenger en kommando som lager en liste med x-verdier, biblioteket numpy har dette.\n",
    "from matplotlib.pyplot import plot, grid, xlabel, ylabel\n",
    "\n",
    "print(\"Dette programmet løser et lineært likningssett med to ukjente.\")\n",
    "\n",
    "a, b, c = 2, 7, 11            # Koeffisientene til likning på formen ay = bx + c\n",
    "d, e, f = 5, 3, 13            # Koeffisientene til likning på formen dy = ex + f\n",
    "    \n",
    "x = linspace(-10, 10, 21)     # Lager en liste med x-verdier i intervallet fra -10 til 10\n",
    "y1 = (b*x + c) / a            # Regner ut de tilhørende funksjonsverdiene (y-verdiene)\n",
    "y2 = (e*x + f) / d\n",
    "\n",
    "plot(x, y1)                   # Tegner grafen for likning 1\n",
    "plot(x, y2)                   # Tegner grafen for likning 2\n",
    "grid()                        # Tegner rutenett\n",
    "xlabel(\"x\")                   # Setter navn på x-aksen\n",
    "ylabel(\"y\")                   # Setter navn på y-aksen\n",
    "\n",
    "if b*d - e*a != 0:                                              # Sjekker nevner ikke lik 0 ...\n",
    "    x = (f*a - c*d)/(b*d - e*a)                                 # ... for da kan vi finne skjæringspunktet\n",
    "    y = (b*x + c)/a\n",
    "    print(\"Løsningene er x =\", x, \"og y =\", y)\n",
    "elif f*a - c*d != 0:                                            # ... ellers sjekker teller ikke lik 0 ... \n",
    "    print(\"Det er ingen mulige løsninger for x og y, siden dette er to\")\n",
    "    print(\"parallelle linjer som er parallellforskjøvet.\")\n",
    "else:                                                           # ... ellers er begge lik null\n",
    "    print(\"Det er uendelig mange muligheter for verdiene til x og y\")\n",
    "    print(\"fordi linjene er parallelle og ligger oppå hverandre.\")"
   ]
  },
  {
   "cell_type": "markdown",
   "metadata": {},
   "source": [
    "<div class=\"alert alert-block alert-info\">\n",
    "\n",
    "#### Oppgave 15\n",
    "\n",
    "Vil dette programmet løse alle likningssett med to ukjente? Er det noen begrensninger? Diskuter med gruppen.\n",
    "\n",
    "</div>"
   ]
  },
  {
   "cell_type": "markdown",
   "metadata": {
    "slideshow": {
     "slide_type": "slide"
    }
   },
   "source": [
    "<div class=\"alert alert-block alert-danger\">\n",
    "    \n",
    "### Info til lærer\n",
    "    \n",
    "Her vil de fleste si nei, men kan man utfordre elevene. Vi har for eksempel likningssett med $x^2$, og selv om det ikke er pensum på ungdomstrinnet så gjør det ingen ting å vise at det kommer. "
   ]
  },
  {
   "cell_type": "markdown",
   "metadata": {
    "slideshow": {
     "slide_type": "slide"
    }
   },
   "source": [
    "<div class=\"alert alert-block alert-danger\">\n",
    "    \n",
    "### Info til lærer\n",
    "    \n",
    "Utfordringene under er vanskelige. Begge to krever en god del forståelse av programmering og matematikk. Vær forsiktig med å gi elevene disse oppgavene. Begge oppgavene kan diskuteres uten å implementere programmering."
   ]
  },
  {
   "cell_type": "markdown",
   "metadata": {},
   "source": [
    "<div class=\"alert alert-block alert-success\">\n",
    "\n",
    "**Utfordring 1**\n",
    "\n",
    "Lag et program som tar inn _tre_ likninger med to ukjente og plotter de i samme koordinatsystem. For å ikke gjøre det altfor komplisert antar vi at likningene alltid er ordnet med $y$ alene på høyreside. \n",
    "    \n",
    "Når har disse en felles løsning, og når har de ikke en løsning? Vi kan prøve å la programmet finne en eventuell løsning, men dette er mer komplisert.\n",
    "\n",
    "To eksempler er:\n",
    "\n",
    "$$\\begin{matrix}\n",
    "  y = x + 5 \\\\\n",
    "  y = 4x - 7 \\\\\n",
    "  y = 13 - x \\\\\n",
    "  \\end{matrix}$$\n",
    "  \n",
    "og \n",
    "\n",
    " $$\\begin{matrix}\n",
    "  y = 7 \\\\\n",
    "  y = x + 4 \\\\\n",
    "  y = 10 - x \\\\\n",
    "  \\end{matrix}$$\n",
    "\n",
    "</div>"
   ]
  },
  {
   "cell_type": "code",
   "execution_count": 10,
   "metadata": {},
   "outputs": [
    {
     "name": "stdout",
     "output_type": "stream",
     "text": [
      "Dette programmet løser tre likningssett med to ukjente.\n",
      "Løsningen er x = 3.0 og y = 7.0\n"
     ]
    },
    {
     "data": {
      "image/png": "[encoded data removed]",
      "text/plain": [
       "<Figure size 432x288 with 1 Axes>"
      ]
     },
     "metadata": {
      "needs_background": "light"
     },
     "output_type": "display_data"
    }
   ],
   "source": [
    "# Forslag til løsning på utfordring 1\n",
    "\n",
    "from numpy import linspace   # Vi trenger en kommando som lager en liste med x-verdier, biblioteket numpy har dette.\n",
    "from matplotlib.pyplot import plot, grid, xlabel, ylabel\n",
    "\n",
    "print(\"Dette programmet løser tre likningssett med to ukjente.\")\n",
    "\n",
    "a, b = 0, 7             # Koeffisientene til likning på formen y = ax + b\n",
    "c, d = 1, 4             # Koeffisientene til likning på formen y = cx + d\n",
    "e, f = -1, 10           # Koeffisientene til likning på formen y = ex + f\n",
    "\n",
    "x = linspace(-10, 10, 21)     # Lager en liste med x-verdier i intervallet fra -10 til 10\n",
    "y1 = (a*x + b)               # Regner ut de tilhørende funksjonsverdiene (y-verdiene)\n",
    "y2 = (c*x + d)\n",
    "y3 = (e*x + f)\n",
    "\n",
    "plot(x, y1)                   # Tegner grafen for likning 1\n",
    "plot(x, y2)                   # Tegner grafen for likning 2\n",
    "plot(x, y3)                   # Tegner grafen for likning 3\n",
    "grid()                        # Tegner rutenett\n",
    "xlabel(\"x\")                   # Setter navn på x-aksen\n",
    "ylabel(\"y\")                   # Setter navn på y-aksen\n",
    "\n",
    "# Merk at koden her antar at ingen av likningene har formen x = en konstant.\n",
    "\n",
    "if a != c:                             # Sjekker at stigningstallet er ulikt ...\n",
    "    x = (d-b)/(a-c)                    # ... regner ut skjæringspunktet mellom y1 og y2\n",
    "    y = a*x + b\n",
    "    if y == e*x + f:                   # Sjekker om punktet også ligger på y3\n",
    "        print(\"Løsningen er x =\", x, \"og y =\", y)\n",
    "    else:\n",
    "        print(\"Det er ingen mulige løsninger for x og y\")\n",
    "elif a != e:                           # ... hvis stigningstaller er likt, sjekker vi mot y3 ...\n",
    "    x = (f-b)/(a-e)                    # ... regner ut skjæringspunktet mellom y1 og y3\n",
    "    y = a*x + b\n",
    "    print(\"Løsningen er x =\", x, \"og y =\", y)\n",
    "else:\n",
    "    print(\"Det er ingen mulige løsninger for x og y\")"
   ]
  },
  {
   "cell_type": "markdown",
   "metadata": {},
   "source": [
    "<div class=\"alert alert-block alert-success\">\n",
    "\n",
    "**Utfordring 2**\n",
    "\n",
    "Utvid programmet til å løse likningssett med andregradsuttrykk på formen\n",
    "$$\\begin{matrix}\n",
    "  y = ax^2 + bx + c \\\\\n",
    "  y = dx^2 + ex + f \\\\\n",
    "  \\end{matrix}$$\n",
    " for eksempel\n",
    " $$\\begin{matrix}\n",
    "  y = x^2  + 1 \\\\\n",
    "  y = 4x - 2 \\\\\n",
    "  \\end{matrix}$$\n",
    "\n",
    "</div>"
   ]
  },
  {
   "cell_type": "markdown",
   "metadata": {},
   "source": [
    "<div class=\"alert alert-block alert-danger\">\n",
    "    \n",
    "### Info til lærer\n",
    "    \n",
    "Merk: Oppgaven antar at elevene har lært å løse andregradslikninger.\n",
    "\n",
    "</div>"
   ]
  },
  {
   "cell_type": "code",
   "execution_count": 2,
   "metadata": {},
   "outputs": [
    {
     "name": "stdout",
     "output_type": "stream",
     "text": [
      "Dette programmet løser et andregradslikningssett med to ukjente.\n",
      "Funksjonene krysser ved ( 1.58 , 4.24 )\n",
      "og ( -1.58 , -5.24 )\n"
     ]
    },
    {
     "data": {
      "text/plain": [
       "Text(0, 0.5, 'y')"
      ]
     },
     "execution_count": 2,
     "metadata": {},
     "output_type": "execute_result"
    },
    {
     "data": {
      "image/png": "[encoded data removed]",
      "text/plain": [
       "<Figure size 432x288 with 1 Axes>"
      ]
     },
     "metadata": {
      "needs_background": "light"
     },
     "output_type": "display_data"
    }
   ],
   "source": [
    "# Forslag til løsning på utfordring 2\n",
    "\n",
    "from numpy import linspace, sqrt   # Vi trenger en kommando som lager en liste med x-verdier, biblioteket numpy har dette.\n",
    "from matplotlib.pyplot import plot, grid, xlabel, ylabel\n",
    "\n",
    "print(\"Dette programmet løser et andregradslikningssett med to ukjente.\")\n",
    "\n",
    "a1, b1, c1 = -1, 3, 2            # Koeffisientene til likning på formen y = a1*x^2 + b1*x + c1\n",
    "a2, b2, c2 = 1, 3, -3            # Koeffisientene til likning på formen y = a2*x^2 + b2*x + c2\n",
    "    \n",
    "x = linspace(-10, 10, 21)        # Lager en liste med x-verdier i intervallet fra -10 til 10\n",
    "y1 = a1*x**2 + b1*x + c1         # Regner ut de tilhørende funksjonsverdiene (y-verdiene)\n",
    "y2 = a2*x**2 + b2*x + c2\n",
    "\n",
    "a = a1 - a2\n",
    "b = b1 - b2\n",
    "c = c1 - c2\n",
    "\n",
    "if b**2 - 4*a*c > 0:             # Denne koden er kopiert fra andregradslikninger-filen og endret noe\n",
    "    x1 = (-b - sqrt( b**2 - 4*a*c )) / (2*a)    \n",
    "    x2 = (-b + sqrt( b**2 - 4*a*c )) / (2*a)  \n",
    "    print(\"Funksjonene krysser ved (\", round(x1, 2), \",\", round(a1*x1**2 + b1*x1 + c1, 2), \")\") \n",
    "    print(\"og (\", round(x2, 2), \",\", round(a2*x2**2 + b2*x2 + c2,2), \")\")\n",
    "elif b**2 - 4*a*c == 0:  \n",
    "    x1 = -b / (2*a)  \n",
    "    print(\"Funksjonene krysser ved (\", round(x1, 2), \",\", round(a1*x1**2 + b1*x1 + c1, 2), \")\")\n",
    "else:\n",
    "    print(\"Funksjonene krysser aldri\")\n",
    "\n",
    "plot(x, y1)                   # Tegner grafen for likning 1\n",
    "plot(x, y2)                   # Tegner grafen for likning 2\n",
    "grid()                        # Tegner rutenett\n",
    "xlabel(\"x\")                   # Setter navn på x-aksen\n",
    "ylabel(\"y\")                   # Setter navn på y-aksen"
   ]
  },
  {
   "cell_type": "code",
   "execution_count": null,
   "metadata": {},
   "outputs": [],
   "source": []
  }
 ],
 "metadata": {
  "kernelspec": {
   "display_name": "Python 3",
   "language": "python",
   "name": "python3"
  },
  "language_info": {
   "codemirror_mode": {
    "name": "ipython",
    "version": 3
   },
   "file_extension": ".py",
   "mimetype": "text/x-python",
   "name": "python",
   "nbconvert_exporter": "python",
   "pygments_lexer": "ipython3",
   "version": "3.8.5"
  }
 },
 "nbformat": 4,
 "nbformat_minor": 2
}
