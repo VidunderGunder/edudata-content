{
 "cells": [
  {
   "cell_type": "markdown",
   "metadata": {},
   "source": [
    "# Hvordan laste ned og åpne filer i Jupyter"
   ]
  },
  {
   "cell_type": "markdown",
   "metadata": {},
   "source": [
    "Alle oppleggene på denne siden er laget for å kunne åpnes og utforskes i Python-editoren Jupyter. Du kan laste ned Jupyter sammen med [Anaconda](#https://www.anaconda.com/)-pakka - da vil du få både Python og Jupyter installert på din maskin.\n",
    "\n",
    "Denne editoren er egner seg godt til å bruke programmering i fag, siden det er enkelt å kombinere tekst, bilder og kjørbar kode. En ulempe med Jupyter, er at det krever litt tilvenning for elevene å åpne filer i programmet.\n",
    "\n",
    "Hvis man skal åpne for eksempel Word- eller Excel-filer, kan man gjøre det ved å gå inn i dokumentene sine og dobbeltrykke på fila, og så vil den åpnes i riktig program. Slik er det dessverre ikke med Jupyter-filer (med filtype .ipynb). Man er derimot først nødt til å først starte Jupyter, finne fram til fila derfra, og deretter åpne den.\n",
    "\n",
    "På denne sida vil vi gi en trinnvis forklaring på hvordan dette gjøres:\n",
    "\n",
    "1. [Åpne Jupyter](#Trinn-1:-Åpne-Jupyter)\n",
    "\n",
    "\n",
    "2. [Finne ut hvor vi lagrer](#Trinn-2:-Finne-ut-hvor-vi-lagrer)\n",
    "\n",
    "\n",
    "3. [Laste ned og pakke ut filer](#Trinn-3:-Laste-ned-og-pakke-ut-filer)\n",
    "\n",
    "\n",
    "4. [Åpne programfila i Jupyter](#Trinn-4:-Åpne-programfila-i-Jupyter)\n",
    "\n",
    "[Trinnene kort oppsummert](#Kort-oppsummert)"
   ]
  },
  {
   "cell_type": "markdown",
   "metadata": {},
   "source": [
    "### Trinn 1: Åpne Jupyter\n",
    "\n",
    "\n",
    "\n",
    "Begynn med å åpne Jupyter, for eksempel ved å søke det opp på din maskin (etter installasjon). Når du åpner Jupyter, vil to ting skje:\n",
    "\n",
    "1. Det vil åpne seg et sort vindu, som raskt begynner å fylle seg ut med hvit tekst\n",
    "\n",
    "<img src=\"Åpne_Jupyter.png\" style=\"float: left;\" width=\"700\"/>"
   ]
  },
  {
   "cell_type": "markdown",
   "metadata": {},
   "source": [
    "2. Jupyter vil åpne seg i standardnettleseren din\n",
    "\n",
    "<img src=\"Jupyter_forside.png\" style=\"float: left;\" width=\"600\"/>"
   ]
  },
  {
   "cell_type": "markdown",
   "metadata": {},
   "source": [
    "Du kommer til å bruke Jupyter i nettleseren, men du må la det sorte kodevinduet være åpent for at programmet skal fungere riktig."
   ]
  },
  {
   "cell_type": "markdown",
   "metadata": {},
   "source": [
    "### Trinn 2: Finne ut hvor vi lagrer\n",
    "\n",
    "(Dette trenger du ikke gjøre hver gang du skal bruke Jupyter.)\n",
    "\n",
    "Ta en titt på den sorte kodeboksen som dukket opp da du åpna Jupyter. I en av de første linjene vil det stå `Serving notebooks from local directory`, og deretter et sted på maskinen din som Jupyter kan lagre filer. I bildet under er dette stedet \"**C:\\Users\\haoy**\", altså på C-disken, under \"Brukere\", og videre under brukeren \"haoy\".\n",
    "\n",
    "<img src=\"Serving_notebooks.png\" style=\"float: left;\" width=\"600\"/>"
   ]
  },
  {
   "cell_type": "markdown",
   "metadata": {},
   "source": [
    "Jupyter vil alltid åpnes i nettleseren din, men bruker filer lagret lokalt på din maskin. Hvis du trykker deg rundt i mappene, vil du se at det er de samme filene som i dokumentutforskeren på maskinen din.\n",
    "\n",
    "\"Serving notebooks from local directory\"-linja forteller deg *hvor* i dine dokumenter Jupyter åpner seg, for eksempel i mappa \"C:\\Users\\haoy\". Derfor er det viktig at **alle Jupyter-filene du lagrer ligger i denne mappa eller undermapper av den, hvis ikke kan de ikke åpnes i Jupyter**."
   ]
  },
  {
   "cell_type": "markdown",
   "metadata": {},
   "source": [
    "### Trinn 3: Laste ned og pakke ut filer\n",
    "\n",
    "Nå som du vet hvor filene skal ligge, kan du finne et program å laste ned. På EduData kan du gå inn på et program, og trykke på nedlastingsikonet oppe til høyre:\n",
    "\n",
    "<img src=\"Laste_ned_fil.png\" style=\"float: left;\" width=\"600\"/>"
   ]
  },
  {
   "cell_type": "markdown",
   "metadata": {},
   "source": [
    "Last ned programmet til en undermappe til \"Serving notebooks...\"-mappa.\n",
    "\n",
    "Det du laster ned vil bestå av flere filer, som lastes ned som en zippet mappe. **Denne må du pakke ut før programmet kan åpnes i Jupyter**:\n",
    "\n",
    "<img src=\"Zippet_mappe.png\" style=\"float: left;\" width=\"50%\"/>\n",
    "<img src=\"Zippet_utpakking.png\" style=\"float: right;\" width=\"45%\"/>"
   ]
  },
  {
   "cell_type": "markdown",
   "metadata": {},
   "source": [
    "### Trinn 4: Åpne programfila i Jupyter\n",
    "\n",
    "Nå kan du gå tilbake til Jupyter i nettleseren din, og derfra kan du finne mappa med de nedlastede filene.\n",
    "\n",
    "<img src=\"Fil_i_mappe.png\" style=\"float: left;\" width=\"600\"/>"
   ]
  },
  {
   "cell_type": "markdown",
   "metadata": {},
   "source": [
    "Trykk på fila med .ipynb-filtype. Denne vil åpne seg i et nytt vindu:\n",
    "\n",
    "<img src=\"Fil_i_Jupyter.png\" style=\"float: left;\" width=\"600\"/>"
   ]
  },
  {
   "cell_type": "markdown",
   "metadata": {},
   "source": [
    "Og da er det bare å programmere i vei!"
   ]
  },
  {
   "cell_type": "markdown",
   "metadata": {},
   "source": [
    "### Kort oppsummert\n",
    "\n",
    "1. Åpne Jupyter\n",
    "2. Last ned fil til riktig sted på din maskin\n",
    "3. Hvis fila ligger inni en zippet mappe, pakk den ut\n",
    "4. Åpne fila fra Jupyter i nettleser"
   ]
  },
  {
   "cell_type": "markdown",
   "metadata": {},
   "source": [
    "[Til toppen](#Hvordan-laste-ned-og-åpne-filer-i-Jupyter)"
   ]
  }
 ],
 "metadata": {
  "kernelspec": {
   "display_name": "Python 3",
   "language": "python",
   "name": "python3"
  },
  "language_info": {
   "codemirror_mode": {
    "name": "ipython",
    "version": 3
   },
   "file_extension": ".py",
   "mimetype": "text/x-python",
   "name": "python",
   "nbconvert_exporter": "python",
   "pygments_lexer": "ipython3",
   "version": "3.7.0"
  }
 },
 "nbformat": 4,
 "nbformat_minor": 2
}
