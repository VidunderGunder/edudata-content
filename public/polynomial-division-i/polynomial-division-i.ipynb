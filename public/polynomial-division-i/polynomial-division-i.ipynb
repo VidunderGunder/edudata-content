{
  "cells": [
    {
      "cell_type": "markdown",
      "metadata": {},
      "source": ["# Polynomdivisjon I"]
    },
    {
      "cell_type": "markdown",
      "metadata": {},
      "source": [
        "<div class=\"alert alert-block alert-warning\">\n",
        "\n",
        "Mål for opplæringa er at eleven skal kunne\n",
        "\n",
        "- formulere og løyse problem ved hjelp av algoritmisk tenking, ulike problemløysingsstrategiar, digitale verktøy og programmering\n",
        "- forklare polynomdivisjon og bruke det til å omskrive algebraiske uttrykk, drøfte funksjonar og løyse likningar og ulikskapar"
      ]
    },
    {
      "cell_type": "markdown",
      "metadata": {},
      "source": ["## Numerisk heltallsfaktorisering av polynom"]
    },
    {
      "cell_type": "markdown",
      "metadata": {},
      "source": [
        "Vi starter med å se hvordan vi kan bruke programmering til å numerisk finne heltallsfaktorer av et polynom. For å gjøre dette må vi først vite hva som kjennetegner en faktor i et polynom.\n",
        "\n",
        "<div class=\"alert alert-block alert-info\">\n",
        "\n",
        "### Oppgave 1\n",
        "\n",
        "a) Hvordan kan vi vite at polynomet $P(x) = x^3 + 3x^2 - x - 3$ er delelig med $(x+3)$ uten å gjennomføre en polynomdivisjon?\n",
        "\n",
        "b) Finn alle faktorene til $P(x)$ ved hjelp av polynomdivisjon\n",
        "    \n",
        "</div>"
      ]
    },
    {
      "cell_type": "markdown",
      "metadata": {},
      "source": [
        "Vi skal nå lage et program som kan finne alle heltallsfaktorene til et polynom. For å gjøre dette trenger vi å bruke metoden fra oppgaven over, nemlig at hvis $P(a) = 0$, så er $(x-a)$ en faktor til $P(x)$."
      ]
    },
    {
      "cell_type": "markdown",
      "metadata": {},
      "source": [
        "<div class=\"alert alert-block alert-info\">\n",
        "\n",
        "### Oppgave  2\n",
        "\n",
        "Diskuter med sidemannen hvordan vi kan bruke dette til å finne _alle_ heltallsfaktorene til en gitt polynom"
      ]
    },
    {
      "cell_type": "markdown",
      "metadata": {},
      "source": [
        "## Første del av programmet\n",
        "\n",
        "Koden vår trenger å vite polynomet vi ønsker å finne faktorene til. Deretter må vi gå gjennom et passe antall verdier og sjekke om det er faktorer. I skjelettprogrammet under har vi valgt å sjekke heltallsfaktorer i intervallet $[-10, 10]$. Merk at koden under ikke vil kjøre, se oppgave 3"
      ]
    },
    {
      "cell_type": "code",
      "execution_count": null,
      "metadata": {},
      "outputs": [],
      "source": [
        "def P(x):\n",
        "    y = x**3 + 3*x**2 - x - 3     # Polynomet vi ønsker å finne faktorene til\n",
        "    return y\n",
        "\n",
        "for i in range(-10, 11):\n",
        "    if ???\n",
        "        print(???)"
      ]
    },
    {
      "cell_type": "markdown",
      "metadata": {},
      "source": [
        "<div class=\"alert alert-block alert-info\">\n",
        "\n",
        "### Oppgave 3\n",
        "\n",
        "Diskuter med makkeren din hva som skal stå istedenfor ```???``` både i linje 6 og linje 7."
      ]
    },
    {
      "cell_type": "markdown",
      "metadata": {},
      "source": [
        "<div class=\"alert alert-block alert-danger\">\n",
        "\n",
        "Løsning:\n",
        "\n",
        "```python\n",
        "def P(x):\n",
        "    y = x**3 + 3*x**2 - x - 3     # Polynomet vi ønsker å finne faktorene til\n",
        "    return y\n",
        "\n",
        "for i in range(-10, 11):\n",
        "    if P(i) == 0:\n",
        "        print(\"En faktor er x -\",i)\n"
      ]
    },
    {
      "cell_type": "markdown",
      "metadata": {},
      "source": [
        "<div class=\"alert alert-block alert-info\">\n",
        "\n",
        "### Oppgave 4\n",
        "\n",
        "Test programmet flere ganger for andre polynomer fra for eksempel læreboken. Er det noen ganger programmet ikke fungerer? I så tilfelle, hvorfor ikke?"
      ]
    },
    {
      "cell_type": "markdown",
      "metadata": {},
      "source": [
        "## Pynting av programmet \n",
        "\n",
        "Det er litt uheldig at vi for negative faktorer får dobbelt subtraksjonstegn.\n",
        "\n",
        "<div class=\"alert alert-block alert-info\">\n",
        "\n",
        "### Oppgave 5 (frivillig)\n",
        "\n",
        "Hvordan kan vi endre programmet slik at vi alltid får et svar på formen $(x+1)$ eller $(x-1)$?\n",
        "\n",
        "</div>"
      ]
    },
    {
      "cell_type": "markdown",
      "metadata": {},
      "source": [
        "<div class=\"alert alert-block alert-danger\">   \n",
        "    \n",
        "Løsning:\n",
        "    \n",
        "```python\n",
        "\n",
        "def P(x):\n",
        "    y = x**3 + 3*x**2 - x - 3     # Polynomet vi ønsker å finne faktorene til\n",
        "    return y\n",
        "\n",
        "for i in range(-10, 11):\n",
        "    if P(i) == 0:\n",
        "        if i < 0:\n",
        "            print(\"En faktor er x +\",abs(i))\n",
        "        elif i == 0:\n",
        "            print(\"En faktor er x\")\n",
        "        else:\n",
        "            print(\"En faktor er x -\",i)\n",
        "```"
      ]
    },
    {
      "cell_type": "markdown",
      "metadata": {},
      "source": [
        "<div class=\"alert alert-block alert-info\">\n",
        "\n",
        "### Oppgave 6\n",
        "\n",
        "Diskuter med makkeren din hva vi kan gjøre hvis det ikke er noen heltallige faktorer til polynomet. Kan dere tenke en metode vi kan sjekke for disse faktorene på?\n",
        "\n",
        "</div>\n",
        "<div class=\"alert alert-block alert-warning\">\n",
        "\n",
        "Hvis man ønsker å gå videre og løse dette, gå til neste opplegg kalt __Polynomdivison II__.\n",
        "</div>"
      ]
    },
    {
      "cell_type": "code",
      "execution_count": null,
      "metadata": {},
      "outputs": [],
      "source": [
        "# Fullstendig kode\n",
        "\n",
        "def P(x):\n",
        "    y = x**3 + 3*x**2 - x - 3     # Polynomet vi ønsker å finne faktorene til\n",
        "    return y\n",
        "\n",
        "for i in range(-10, 11):\n",
        "    if P(i) == 0:\n",
        "        if i < 0:\n",
        "            print(\"En faktor er x +\",abs(i))\n",
        "        elif i == 0:\n",
        "            print(\"En faktor er x\")\n",
        "        else:\n",
        "            print(\"En faktor er x -\",i)"
      ]
    }
  ],
  "metadata": {
    "kernelspec": {
      "display_name": "Python 3",
      "language": "python",
      "name": "python3"
    },
    "language_info": {
      "codemirror_mode": {
        "name": "ipython",
        "version": 3
      },
      "file_extension": ".py",
      "mimetype": "text/x-python",
      "name": "python",
      "nbconvert_exporter": "python",
      "pygments_lexer": "ipython3",
      "version": "3.8.5"
    }
  },
  "nbformat": 4,
  "nbformat_minor": 4
}
