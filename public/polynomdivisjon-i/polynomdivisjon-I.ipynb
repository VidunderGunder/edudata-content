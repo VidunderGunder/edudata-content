{
 "cells": [
  {
   "cell_type": "markdown",
   "metadata": {},
   "source": [
    "# Polynomdivisjon II"
   ]
  },
  {
   "cell_type": "markdown",
   "metadata": {},
   "source": [
    "<div class=\"alert alert-block alert-warning\">\n",
    "\n",
    "Mål for opplæringa er at eleven skal kunne\n",
    "\n",
    "- formulere og løyse problem ved hjelp av algoritmisk tenking, ulike problemløysingsstrategiar, digitale verktøy og programmering\n",
    "- forklare polynomdivisjon og bruke det til å omskrive algebraiske uttrykk, drøfte funksjonar og løyse likningar og ulikskapar\n",
    "- utforske og beskrive eigenskapane ved polynomfunksjonar, rasjonale funksjonar, eksponentialfunksjonar og potensfunksjonar"
   ]
  },
  {
   "cell_type": "markdown",
   "metadata": {},
   "source": [
    "## Numerisk faktorisering av polynom"
   ]
  },
  {
   "cell_type": "markdown",
   "metadata": {},
   "source": [
    "Vi fortsetter her med koden fra __Polynomdivisjon I__, men ser på et eksempel med ingen heltallsfaktorer."
   ]
  },
  {
   "cell_type": "code",
   "execution_count": 30,
   "metadata": {},
   "outputs": [],
   "source": [
    "def P(x):\n",
    "    y = 0.25*x**3 + 0.5*x**2 - 13*x - 10     # Polynomet vi ønsker å finne faktorene til\n",
    "    return y\n",
    "\n",
    "for i in range(-10, 11):\n",
    "    if P(i) == 0:\n",
    "        if i < 0:\n",
    "            print(\"En faktor er x +\",abs(i))\n",
    "        elif i == 0:\n",
    "            print(\"En faktor er x\")\n",
    "        else:\n",
    "            print(\"En faktor er x -\",i)"
   ]
  },
  {
   "cell_type": "markdown",
   "metadata": {},
   "source": [
    "Hvis vi kjører programmet over får vi ikke ut noe svar, så hvordan kan vi endre programmet slik at vi kan finne faktorene?\n",
    "\n",
    "<div class=\"alert alert-block alert-info\">\n",
    "\n",
    "### Oppgave 1\n",
    "\n",
    "a) Hva er det faktorene forteller oss om polynomet?\n",
    "\n",
    "b) Hvordan hjelper faktorene oss hvis vi skal lage en skisse av funksjonen $P(x) = \\frac{1}{4}x^3 + \\frac{1}{2}x^2 - 13x - 10$?"
   ]
  },
  {
   "cell_type": "markdown",
   "metadata": {},
   "source": [
    "Vi legger for til en kort kodebit som plotter grafen tin $P(x)$ for intervallet vi ser på, her $[-10, 10]$."
   ]
  },
  {
   "cell_type": "code",
   "execution_count": 31,
   "metadata": {},
   "outputs": [
    {
     "data": {
      "image/png": "[encoded data removed]",
      "text/plain": [
       "<Figure size 432x288 with 1 Axes>"
      ]
     },
     "metadata": {
      "needs_background": "light"
     },
     "output_type": "display_data"
    }
   ],
   "source": [
    "from numpy import linspace\n",
    "from matplotlib.pyplot import plot, axhline, axvline\n",
    "\n",
    "def P(x):\n",
    "    y = 0.25*x**3 + 0.5*x**2 - 13*x - 10     # Polynomet vi ønsker å finne faktorene til\n",
    "    return y\n",
    "\n",
    "x = linspace(-10, 10, 100)                  # Lager x-verdier i intervallet\n",
    "y = P(x)                                    # Regner ut de tilhørende y-verdiene\n",
    "\n",
    "axhline(y = 0, color = \"k\")                 # Tegner inn x-aksen\n",
    "axvline(x = 0, color = \"k\")                 # Tegner inn y-aksen\n",
    "plot(x, y)                                  # Plotter grafen til P(x)\n",
    "\n",
    "for i in range(-10, 11):\n",
    "    if P(i) == 0:\n",
    "        if i < 0:\n",
    "            print(\"En faktor er x +\",abs(i))\n",
    "        elif i == 0:\n",
    "            print(\"En faktor er x\")\n",
    "        else:\n",
    "            print(\"En faktor er x -\",i)"
   ]
  },
  {
   "cell_type": "markdown",
   "metadata": {},
   "source": [
    "Vi ser av grafen over at $P(x)$ har tre nullpunkter, men ingen av dem er heltall."
   ]
  },
  {
   "cell_type": "markdown",
   "metadata": {},
   "source": [
    "<div class=\"alert alert-block alert-info\">\n",
    "\n",
    "### Oppgave 2\n",
    "\n",
    "a) Studer grafen over og diskuter med makkeren din hva som skjer med funksjoneverdien for og etter hvert nullpunkt.\n",
    "\n",
    "b) Hvordan kan vi bruke informasjonen fra a) til å endre programmet vårt slik at det vil finne nullpunktene?"
   ]
  },
  {
   "cell_type": "markdown",
   "metadata": {},
   "source": [
    "## Finne nullpunkter til polynomet"
   ]
  },
  {
   "cell_type": "markdown",
   "metadata": {},
   "source": [
    "Fra oppgave 2 så dere at ved nullpunktene over så skfitet fortegnet til funksjonsverdien, enten fra $+$ til $-$ eller fra $-$ til $+$."
   ]
  },
  {
   "cell_type": "markdown",
   "metadata": {},
   "source": [
    "Koden under er endret noe, se siste tre linjene. \n",
    "\n",
    "```python\n",
    "\n",
    "from numpy import linspace\n",
    "from matplotlib.pyplot import plot, axhline, axvline\n",
    "\n",
    "def P(x):\n",
    "    y = 0.25*x**3 + 0.5*x**2 - 13*x - 10     # Polynomet vi ønsker å finne faktorene til\n",
    "    return y\n",
    "\n",
    "x = linspace(-10, 10, 100)                  # Lager x-verdier i intervallet\n",
    "y = P(x)                                    # Regner ut de tilhørende y-verdiene\n",
    "\n",
    "axhline(y = 0, color = \"k\")                 # Tegner inn x-aksen\n",
    "axvline(x = 0, color = \"k\")                 # Tegner inn y-aksen\n",
    "plot(x, y)                                  # Plotter grafen til P(x)\n",
    "\n",
    "presisjon = 3\n",
    "delta = 10**-presisjon\n",
    "start = -10\n",
    "slutt = 10\n",
    "\n",
    "while start <= slutt:\n",
    "    if P(start) * P(start + delta) < 0:\n",
    "        print(\"Et nullpunkt er ved x =\", round((2*start + delta) / 2 ,  presisjon))\n",
    "    start = start + delta\n",
    "```"
   ]
  },
  {
   "cell_type": "markdown",
   "metadata": {},
   "source": [
    "<div class=\"alert alert-block alert-info\">\n",
    "\n",
    "### Oppgave 3\n",
    "\n",
    "a) Diskuter med makkeren din hvorfor vi har laget en ny variabel som vi har kalt for _presisjon_ og hva denne variabelen gjør?\n",
    "\n",
    "b) Diskuter med makkeren din hvorfor vi sjekker både $P(\\text{start})$ og $P(\\text{start} + \\text{presisjon})$ i ```if```-setningen.\n",
    "\n",
    "c) Diskuter med makkeren din hvordan vi raskt kan sjekke om to tall har forskjellig fortegn ved hjelp av en enkel regneoperasjon og en betingelse. Forslå deretter hva man kan erstatte de tre ```???``` med i ```if```-setningen.    \n",
    "    \n",
    "d) Diksuter hva dere tror skal stå i ```print()```kommandoen?  "
   ]
  },
  {
   "cell_type": "markdown",
   "metadata": {},
   "source": [
    "<div class=\"alert alert-block alert-danger\">\n",
    "\n",
    "Løsning:\n",
    "\n",
    "a) Presisjonsvariabelen er nøyaktigheten på nullpunktet vårt\n",
    "\n",
    "b) Vi sjekker to nærliggende funksjonsverdier for å se om de har forskjellig fortegn.\n",
    "\n",
    "c) Vi kan enkelt sjekke fortenget ved å multiplisere dem og deretter sjekke om svaret er positivt eller negativt. ```if```-setningen bli da seende slik ut\n",
    "\n",
    "\n",
    "```python\n",
    "if P(x) * P(x + funksjonsverdi) < 0:\n",
    "    \n",
    "```\n",
    "    \n",
    "d) ```print```-kommandoen kan inneholde et setning om at et nullpunkt er funnet og skrive ut verdien til det. \n",
    "\n",
    "</div>                                    "
   ]
  },
  {
   "cell_type": "code",
   "execution_count": 45,
   "metadata": {},
   "outputs": [
    {
     "name": "stdout",
     "output_type": "stream",
     "text": [
      "Et nullpunkt er ved x = -7.925\n",
      "Et nullpunkt er ved x = -0.756\n",
      "Et nullpunkt er ved x = 6.681\n"
     ]
    },
    {
     "data": {
      "image/png": "[encoded data removed]",
      "text/plain": [
       "<Figure size 432x288 with 1 Axes>"
      ]
     },
     "metadata": {
      "needs_background": "light"
     },
     "output_type": "display_data"
    }
   ],
   "source": [
    "from numpy import linspace\n",
    "from matplotlib.pyplot import plot, axhline, axvline\n",
    "\n",
    "def P(x):\n",
    "    y = 0.25*x**3 + 0.5*x**2 - 13*x - 10     # Polynomet vi ønsker å finne faktorene til\n",
    "    return y\n",
    "\n",
    "x = linspace(-10, 10, 100)                  # Lager x-verdier i intervallet\n",
    "y = P(x)                                    # Regner ut de tilhørende y-verdiene\n",
    "\n",
    "axhline(y = 0, color = \"k\")                 # Tegner inn x-aksen\n",
    "axvline(x = 0, color = \"k\")                 # Tegner inn y-aksen\n",
    "plot(x, y)                                  # Plotter grafen til P(x)\n",
    "\n",
    "presisjon = 3\n",
    "delta = 10**-presisjon\n",
    "start = -10\n",
    "slutt = 10\n",
    "\n",
    "while start <= slutt:\n",
    "    if P(start) * P(start + delta) < 0:\n",
    "        n = (2*start + delta) / 2\n",
    "        n = round(n, presisjon)\n",
    "        print(\"Et nullpunkt er ved x =\", n)\n",
    "    start = start + delta"
   ]
  },
  {
   "cell_type": "markdown",
   "metadata": {},
   "source": [
    "<div class=\"alert alert-block alert-info\">\n",
    "\n",
    "### Oppgave 4\n",
    "\n",
    "Kjør koden over et par ganger for ulike polynomfunksjoner\n",
    "    \n",
    "a) Hvorfor regner vi ut nullpunktet, $n$, slik det vises i linje 22?\n",
    "\n",
    "b) Er det noen polynomer der programmet ikke finner nullpunktene? Hva kjennetegner disse nullpunktene?\n",
    "\n",
    "c) Utvid programmet til å skriv ut faktorene til polynomet også.  "
   ]
  },
  {
   "cell_type": "markdown",
   "metadata": {},
   "source": [
    "<div class=\"alert alert-block alert-danger\">\n",
    "\n",
    "Løsning:\n",
    "\n",
    "a) Siden vi ikke vet hvor i intervallet $[n, n + delta]$ nullpunktet ligger, bruker vi gjennomsnittsverdien.\n",
    "\n",
    "b) Programmet vil ikke finne nullpunkter som også er et ekstremalpunkt. Et slikt nullpunkt skifter ikke fortegn, og dermed vil ikke programmet finne det.\n",
    "\n",
    "c) Må legge til en kode tilsvarende det vi gjorde i __Polynomvdivisjon I__.\n",
    "<div>"
   ]
  },
  {
   "cell_type": "code",
   "execution_count": 48,
   "metadata": {},
   "outputs": [
    {
     "name": "stdout",
     "output_type": "stream",
     "text": [
      "Et nullpunkt er ved x = -7.925\n",
      "En faktor er x + 7.925\n",
      "Et nullpunkt er ved x = -0.756\n",
      "En faktor er x + 0.756\n",
      "Et nullpunkt er ved x = 6.681\n",
      "En faktor er x - 6.681\n"
     ]
    },
    {
     "data": {
      "image/png": "[encoded data removed]",
      "text/plain": [
       "<Figure size 432x288 with 1 Axes>"
      ]
     },
     "metadata": {
      "needs_background": "light"
     },
     "output_type": "display_data"
    }
   ],
   "source": [
    "# Fullstendig kode\n",
    "\n",
    "from numpy import linspace\n",
    "from matplotlib.pyplot import plot, axhline, axvline\n",
    "\n",
    "def P(x):\n",
    "    y = 0.25*x**3 + 0.5*x**2 - 13*x - 10     # Polynomet vi ønsker å finne faktorene til\n",
    "    return y\n",
    "\n",
    "x = linspace(-10, 10, 100)                  # Lager x-verdier i intervallet\n",
    "y = P(x)                                    # Regner ut de tilhørende y-verdiene\n",
    "\n",
    "axhline(y = 0, color = \"k\")                 # Tegner inn x-aksen\n",
    "axvline(x = 0, color = \"k\")                 # Tegner inn y-aksen\n",
    "plot(x, y)                                  # Plotter grafen til P(x)\n",
    "\n",
    "presisjon = 3\n",
    "delta = 10**-presisjon\n",
    "start = -10\n",
    "slutt = 10\n",
    "\n",
    "while start <= slutt:\n",
    "    if P(start) * P(start + delta) < 0:\n",
    "        n = (2*start + delta) / 2\n",
    "        n = round(n, presisjon)\n",
    "        print(\"Et nullpunkt er ved x =\", n)\n",
    "        if n < 0:\n",
    "            print(\"En faktor er x +\", abs(n))\n",
    "        elif n == 0:\n",
    "            print(\"En faktor er x\")\n",
    "        else:\n",
    "            print(\"En faktor er x -\",n)\n",
    "    start = start + delta"
   ]
  },
  {
   "cell_type": "code",
   "execution_count": null,
   "metadata": {},
   "outputs": [],
   "source": []
  }
 ],
 "metadata": {
  "kernelspec": {
   "display_name": "Python 3",
   "language": "python",
   "name": "python3"
  },
  "language_info": {
   "codemirror_mode": {
    "name": "ipython",
    "version": 3
   },
   "file_extension": ".py",
   "mimetype": "text/x-python",
   "name": "python",
   "nbconvert_exporter": "python",
   "pygments_lexer": "ipython3",
   "version": "3.8.5"
  }
 },
 "nbformat": 4,
 "nbformat_minor": 4
}
